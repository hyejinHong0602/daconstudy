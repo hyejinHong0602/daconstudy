{
 "cells": [
  {
   "cell_type": "markdown",
   "metadata": {
    "id": "d1AutUzH_DRN"
   },
   "source": [
    "# **Model1 : RandomForest/ Lgbm/ GradientBoosting Ensemble**\n"
   ]
  },
  {
   "cell_type": "markdown",
   "metadata": {
    "id": "rkKtYNjKVS5Z"
   },
   "source": [
    "## 1. Libraries"
   ]
  },
  {
   "cell_type": "code",
   "execution_count": 1,
   "metadata": {
    "id": "gSxJtsRdWFKg"
   },
   "outputs": [],
   "source": [
    "import pandas as pd\n",
    "import seaborn as sns\n",
    "import matplotlib.pyplot as plt\n",
    "\n",
    "from string import ascii_lowercase\n",
    "from itertools import combinations\n",
    "\n",
    "import lightgbm as lgb\n",
    "from sklearn.ensemble import RandomForestClassifier\n",
    "from lightgbm import LGBMClassifier\n",
    "from sklearn.ensemble import  GradientBoostingClassifier\n",
    "\n",
    "from sklearn.ensemble import VotingClassifier\n",
    "from sklearn.model_selection import KFold\n",
    "from sklearn.model_selection import cross_val_score"
   ]
  },
  {
   "cell_type": "markdown",
   "metadata": {
    "id": "I6hPUKdD_Mlj"
   },
   "source": [
    "## 2. Loading the data\n"
   ]
  },
  {
   "cell_type": "code",
   "execution_count": 2,
   "metadata": {
    "id": "3PK6y97__URQ"
   },
   "outputs": [],
   "source": [
    "train = pd.read_csv('./open data/train.csv')\n",
    "test = pd.read_csv('./open data/test_x.csv')"
   ]
  },
  {
   "cell_type": "markdown",
   "metadata": {
    "id": "DZK8IlUjVprf"
   },
   "source": [
    "## 3. EDA"
   ]
  },
  {
   "cell_type": "markdown",
   "metadata": {
    "id": "ScekaxPYT7kx"
   },
   "source": [
    "### 데이터 훑어보기\n"
   ]
  },
  {
   "cell_type": "code",
   "execution_count": null,
   "metadata": {
    "id": "WCuXlOaHAvUA"
   },
   "outputs": [],
   "source": [
    "train.head()"
   ]
  },
  {
   "cell_type": "code",
   "execution_count": null,
   "metadata": {
    "colab": {
     "base_uri": "https://localhost:8080/",
     "height": 222
    },
    "id": "5Uu6RmXoA-LJ",
    "outputId": "a107bbe8-75e5-4ac6-efe1-7d9cf342a695"
   },
   "outputs": [
    {
     "data": {
      "text/html": [
       "<div>\n",
       "<style scoped>\n",
       "    .dataframe tbody tr th:only-of-type {\n",
       "        vertical-align: middle;\n",
       "    }\n",
       "\n",
       "    .dataframe tbody tr th {\n",
       "        vertical-align: top;\n",
       "    }\n",
       "\n",
       "    .dataframe thead th {\n",
       "        text-align: right;\n",
       "    }\n",
       "</style>\n",
       "<table border=\"1\" class=\"dataframe\">\n",
       "  <thead>\n",
       "    <tr style=\"text-align: right;\">\n",
       "      <th></th>\n",
       "      <th>index</th>\n",
       "      <th>QaA</th>\n",
       "      <th>QaE</th>\n",
       "      <th>QbA</th>\n",
       "      <th>QbE</th>\n",
       "      <th>QcA</th>\n",
       "      <th>QcE</th>\n",
       "      <th>QdA</th>\n",
       "      <th>QdE</th>\n",
       "      <th>QeA</th>\n",
       "      <th>QeE</th>\n",
       "      <th>QfA</th>\n",
       "      <th>QfE</th>\n",
       "      <th>QgA</th>\n",
       "      <th>QgE</th>\n",
       "      <th>QhA</th>\n",
       "      <th>QhE</th>\n",
       "      <th>QiA</th>\n",
       "      <th>QiE</th>\n",
       "      <th>QjA</th>\n",
       "      <th>QjE</th>\n",
       "      <th>QkA</th>\n",
       "      <th>QkE</th>\n",
       "      <th>QlA</th>\n",
       "      <th>QlE</th>\n",
       "      <th>QmA</th>\n",
       "      <th>QmE</th>\n",
       "      <th>QnA</th>\n",
       "      <th>QnE</th>\n",
       "      <th>QoA</th>\n",
       "      <th>QoE</th>\n",
       "      <th>QpA</th>\n",
       "      <th>QpE</th>\n",
       "      <th>QqA</th>\n",
       "      <th>QqE</th>\n",
       "      <th>QrA</th>\n",
       "      <th>QrE</th>\n",
       "      <th>QsA</th>\n",
       "      <th>QsE</th>\n",
       "      <th>QtA</th>\n",
       "      <th>QtE</th>\n",
       "      <th>age_group</th>\n",
       "      <th>education</th>\n",
       "      <th>engnat</th>\n",
       "      <th>familysize</th>\n",
       "      <th>gender</th>\n",
       "      <th>hand</th>\n",
       "      <th>married</th>\n",
       "      <th>race</th>\n",
       "      <th>religion</th>\n",
       "      <th>tp01</th>\n",
       "      <th>tp02</th>\n",
       "      <th>tp03</th>\n",
       "      <th>tp04</th>\n",
       "      <th>tp05</th>\n",
       "      <th>tp06</th>\n",
       "      <th>tp07</th>\n",
       "      <th>tp08</th>\n",
       "      <th>tp09</th>\n",
       "      <th>tp10</th>\n",
       "      <th>urban</th>\n",
       "      <th>wf_01</th>\n",
       "      <th>wf_02</th>\n",
       "      <th>wf_03</th>\n",
       "      <th>wr_01</th>\n",
       "      <th>wr_02</th>\n",
       "      <th>wr_03</th>\n",
       "      <th>wr_04</th>\n",
       "      <th>wr_05</th>\n",
       "      <th>wr_06</th>\n",
       "      <th>wr_07</th>\n",
       "      <th>wr_08</th>\n",
       "      <th>wr_09</th>\n",
       "      <th>wr_10</th>\n",
       "      <th>wr_11</th>\n",
       "      <th>wr_12</th>\n",
       "      <th>wr_13</th>\n",
       "    </tr>\n",
       "  </thead>\n",
       "  <tbody>\n",
       "    <tr>\n",
       "      <th>0</th>\n",
       "      <td>0</td>\n",
       "      <td>3.0</td>\n",
       "      <td>736</td>\n",
       "      <td>2.0</td>\n",
       "      <td>2941</td>\n",
       "      <td>3.0</td>\n",
       "      <td>4621</td>\n",
       "      <td>1.0</td>\n",
       "      <td>4857</td>\n",
       "      <td>2.0</td>\n",
       "      <td>2550</td>\n",
       "      <td>4.0</td>\n",
       "      <td>3171</td>\n",
       "      <td>5.0</td>\n",
       "      <td>3613</td>\n",
       "      <td>2.0</td>\n",
       "      <td>1494</td>\n",
       "      <td>4.0</td>\n",
       "      <td>1597</td>\n",
       "      <td>2.0</td>\n",
       "      <td>8891</td>\n",
       "      <td>5.0</td>\n",
       "      <td>2416</td>\n",
       "      <td>3.0</td>\n",
       "      <td>2043</td>\n",
       "      <td>3.0</td>\n",
       "      <td>3445</td>\n",
       "      <td>5.0</td>\n",
       "      <td>1232</td>\n",
       "      <td>3.0</td>\n",
       "      <td>1152</td>\n",
       "      <td>4.0</td>\n",
       "      <td>1447</td>\n",
       "      <td>3.0</td>\n",
       "      <td>798</td>\n",
       "      <td>4.0</td>\n",
       "      <td>1054</td>\n",
       "      <td>1.0</td>\n",
       "      <td>3462</td>\n",
       "      <td>2.0</td>\n",
       "      <td>1621</td>\n",
       "      <td>10s</td>\n",
       "      <td>2</td>\n",
       "      <td>2</td>\n",
       "      <td>3</td>\n",
       "      <td>Male</td>\n",
       "      <td>1</td>\n",
       "      <td>1</td>\n",
       "      <td>White</td>\n",
       "      <td>Christian_Protestant</td>\n",
       "      <td>2</td>\n",
       "      <td>1</td>\n",
       "      <td>1</td>\n",
       "      <td>4</td>\n",
       "      <td>1</td>\n",
       "      <td>2</td>\n",
       "      <td>2</td>\n",
       "      <td>3</td>\n",
       "      <td>4</td>\n",
       "      <td>4</td>\n",
       "      <td>2</td>\n",
       "      <td>0</td>\n",
       "      <td>0</td>\n",
       "      <td>0</td>\n",
       "      <td>0</td>\n",
       "      <td>1</td>\n",
       "      <td>0</td>\n",
       "      <td>0</td>\n",
       "      <td>1</td>\n",
       "      <td>0</td>\n",
       "      <td>0</td>\n",
       "      <td>1</td>\n",
       "      <td>0</td>\n",
       "      <td>1</td>\n",
       "      <td>0</td>\n",
       "      <td>1</td>\n",
       "      <td>1</td>\n",
       "    </tr>\n",
       "    <tr>\n",
       "      <th>1</th>\n",
       "      <td>1</td>\n",
       "      <td>3.0</td>\n",
       "      <td>514</td>\n",
       "      <td>2.0</td>\n",
       "      <td>1952</td>\n",
       "      <td>3.0</td>\n",
       "      <td>1552</td>\n",
       "      <td>3.0</td>\n",
       "      <td>821</td>\n",
       "      <td>4.0</td>\n",
       "      <td>1150</td>\n",
       "      <td>1.0</td>\n",
       "      <td>605</td>\n",
       "      <td>2.0</td>\n",
       "      <td>601</td>\n",
       "      <td>1.0</td>\n",
       "      <td>2370</td>\n",
       "      <td>5.0</td>\n",
       "      <td>2268</td>\n",
       "      <td>3.0</td>\n",
       "      <td>1759</td>\n",
       "      <td>5.0</td>\n",
       "      <td>771</td>\n",
       "      <td>5.0</td>\n",
       "      <td>1124</td>\n",
       "      <td>3.0</td>\n",
       "      <td>4525</td>\n",
       "      <td>1.0</td>\n",
       "      <td>559</td>\n",
       "      <td>2.0</td>\n",
       "      <td>988</td>\n",
       "      <td>3.0</td>\n",
       "      <td>1014</td>\n",
       "      <td>4.0</td>\n",
       "      <td>380</td>\n",
       "      <td>5.0</td>\n",
       "      <td>995</td>\n",
       "      <td>3.0</td>\n",
       "      <td>629</td>\n",
       "      <td>4.0</td>\n",
       "      <td>708</td>\n",
       "      <td>10s</td>\n",
       "      <td>2</td>\n",
       "      <td>2</td>\n",
       "      <td>2</td>\n",
       "      <td>Male</td>\n",
       "      <td>2</td>\n",
       "      <td>1</td>\n",
       "      <td>Other</td>\n",
       "      <td>Christian_Catholic</td>\n",
       "      <td>7</td>\n",
       "      <td>7</td>\n",
       "      <td>7</td>\n",
       "      <td>7</td>\n",
       "      <td>7</td>\n",
       "      <td>7</td>\n",
       "      <td>7</td>\n",
       "      <td>7</td>\n",
       "      <td>7</td>\n",
       "      <td>7</td>\n",
       "      <td>3</td>\n",
       "      <td>0</td>\n",
       "      <td>0</td>\n",
       "      <td>0</td>\n",
       "      <td>0</td>\n",
       "      <td>0</td>\n",
       "      <td>0</td>\n",
       "      <td>0</td>\n",
       "      <td>0</td>\n",
       "      <td>0</td>\n",
       "      <td>0</td>\n",
       "      <td>0</td>\n",
       "      <td>0</td>\n",
       "      <td>0</td>\n",
       "      <td>0</td>\n",
       "      <td>0</td>\n",
       "      <td>0</td>\n",
       "    </tr>\n",
       "    <tr>\n",
       "      <th>2</th>\n",
       "      <td>2</td>\n",
       "      <td>3.0</td>\n",
       "      <td>500</td>\n",
       "      <td>2.0</td>\n",
       "      <td>2507</td>\n",
       "      <td>4.0</td>\n",
       "      <td>480</td>\n",
       "      <td>2.0</td>\n",
       "      <td>614</td>\n",
       "      <td>2.0</td>\n",
       "      <td>1326</td>\n",
       "      <td>2.0</td>\n",
       "      <td>767</td>\n",
       "      <td>1.0</td>\n",
       "      <td>799</td>\n",
       "      <td>1.0</td>\n",
       "      <td>1309</td>\n",
       "      <td>2.0</td>\n",
       "      <td>3317</td>\n",
       "      <td>4.0</td>\n",
       "      <td>766</td>\n",
       "      <td>4.0</td>\n",
       "      <td>1940</td>\n",
       "      <td>5.0</td>\n",
       "      <td>926</td>\n",
       "      <td>4.0</td>\n",
       "      <td>568</td>\n",
       "      <td>2.0</td>\n",
       "      <td>608</td>\n",
       "      <td>5.0</td>\n",
       "      <td>669</td>\n",
       "      <td>3.0</td>\n",
       "      <td>2417</td>\n",
       "      <td>3.0</td>\n",
       "      <td>710</td>\n",
       "      <td>4.0</td>\n",
       "      <td>2781</td>\n",
       "      <td>3.0</td>\n",
       "      <td>1110</td>\n",
       "      <td>5.0</td>\n",
       "      <td>1073</td>\n",
       "      <td>30s</td>\n",
       "      <td>3</td>\n",
       "      <td>2</td>\n",
       "      <td>7</td>\n",
       "      <td>Male</td>\n",
       "      <td>1</td>\n",
       "      <td>2</td>\n",
       "      <td>Other</td>\n",
       "      <td>Christian_Other</td>\n",
       "      <td>6</td>\n",
       "      <td>2</td>\n",
       "      <td>3</td>\n",
       "      <td>0</td>\n",
       "      <td>6</td>\n",
       "      <td>1</td>\n",
       "      <td>2</td>\n",
       "      <td>2</td>\n",
       "      <td>4</td>\n",
       "      <td>1</td>\n",
       "      <td>1</td>\n",
       "      <td>0</td>\n",
       "      <td>0</td>\n",
       "      <td>0</td>\n",
       "      <td>0</td>\n",
       "      <td>1</td>\n",
       "      <td>0</td>\n",
       "      <td>0</td>\n",
       "      <td>1</td>\n",
       "      <td>0</td>\n",
       "      <td>1</td>\n",
       "      <td>1</td>\n",
       "      <td>0</td>\n",
       "      <td>1</td>\n",
       "      <td>0</td>\n",
       "      <td>1</td>\n",
       "      <td>1</td>\n",
       "    </tr>\n",
       "    <tr>\n",
       "      <th>3</th>\n",
       "      <td>3</td>\n",
       "      <td>1.0</td>\n",
       "      <td>669</td>\n",
       "      <td>1.0</td>\n",
       "      <td>1050</td>\n",
       "      <td>5.0</td>\n",
       "      <td>1435</td>\n",
       "      <td>2.0</td>\n",
       "      <td>2252</td>\n",
       "      <td>5.0</td>\n",
       "      <td>2533</td>\n",
       "      <td>1.0</td>\n",
       "      <td>578</td>\n",
       "      <td>1.0</td>\n",
       "      <td>742</td>\n",
       "      <td>1.0</td>\n",
       "      <td>2886</td>\n",
       "      <td>1.0</td>\n",
       "      <td>1379</td>\n",
       "      <td>1.0</td>\n",
       "      <td>1392</td>\n",
       "      <td>3.0</td>\n",
       "      <td>2855</td>\n",
       "      <td>5.0</td>\n",
       "      <td>697</td>\n",
       "      <td>4.0</td>\n",
       "      <td>573</td>\n",
       "      <td>1.0</td>\n",
       "      <td>412</td>\n",
       "      <td>2.0</td>\n",
       "      <td>1076</td>\n",
       "      <td>4.0</td>\n",
       "      <td>1445</td>\n",
       "      <td>5.0</td>\n",
       "      <td>1069</td>\n",
       "      <td>1.0</td>\n",
       "      <td>847</td>\n",
       "      <td>4.0</td>\n",
       "      <td>1126</td>\n",
       "      <td>1.0</td>\n",
       "      <td>1240</td>\n",
       "      <td>60s</td>\n",
       "      <td>4</td>\n",
       "      <td>1</td>\n",
       "      <td>4</td>\n",
       "      <td>Male</td>\n",
       "      <td>1</td>\n",
       "      <td>2</td>\n",
       "      <td>White</td>\n",
       "      <td>Christian_Catholic</td>\n",
       "      <td>0</td>\n",
       "      <td>5</td>\n",
       "      <td>1</td>\n",
       "      <td>6</td>\n",
       "      <td>0</td>\n",
       "      <td>6</td>\n",
       "      <td>0</td>\n",
       "      <td>5</td>\n",
       "      <td>1</td>\n",
       "      <td>6</td>\n",
       "      <td>2</td>\n",
       "      <td>0</td>\n",
       "      <td>0</td>\n",
       "      <td>0</td>\n",
       "      <td>1</td>\n",
       "      <td>1</td>\n",
       "      <td>1</td>\n",
       "      <td>1</td>\n",
       "      <td>1</td>\n",
       "      <td>1</td>\n",
       "      <td>1</td>\n",
       "      <td>1</td>\n",
       "      <td>1</td>\n",
       "      <td>1</td>\n",
       "      <td>1</td>\n",
       "      <td>1</td>\n",
       "      <td>1</td>\n",
       "    </tr>\n",
       "    <tr>\n",
       "      <th>4</th>\n",
       "      <td>4</td>\n",
       "      <td>2.0</td>\n",
       "      <td>499</td>\n",
       "      <td>1.0</td>\n",
       "      <td>1243</td>\n",
       "      <td>5.0</td>\n",
       "      <td>845</td>\n",
       "      <td>2.0</td>\n",
       "      <td>1666</td>\n",
       "      <td>2.0</td>\n",
       "      <td>925</td>\n",
       "      <td>2.0</td>\n",
       "      <td>413</td>\n",
       "      <td>5.0</td>\n",
       "      <td>361</td>\n",
       "      <td>1.0</td>\n",
       "      <td>995</td>\n",
       "      <td>2.0</td>\n",
       "      <td>1427</td>\n",
       "      <td>3.0</td>\n",
       "      <td>1093</td>\n",
       "      <td>5.0</td>\n",
       "      <td>1201</td>\n",
       "      <td>4.0</td>\n",
       "      <td>1264</td>\n",
       "      <td>2.0</td>\n",
       "      <td>943</td>\n",
       "      <td>4.0</td>\n",
       "      <td>475</td>\n",
       "      <td>2.0</td>\n",
       "      <td>787</td>\n",
       "      <td>4.0</td>\n",
       "      <td>607</td>\n",
       "      <td>3.0</td>\n",
       "      <td>529</td>\n",
       "      <td>4.0</td>\n",
       "      <td>947</td>\n",
       "      <td>4.0</td>\n",
       "      <td>524</td>\n",
       "      <td>3.0</td>\n",
       "      <td>1945</td>\n",
       "      <td>10s</td>\n",
       "      <td>2</td>\n",
       "      <td>1</td>\n",
       "      <td>3</td>\n",
       "      <td>Male</td>\n",
       "      <td>1</td>\n",
       "      <td>1</td>\n",
       "      <td>White</td>\n",
       "      <td>Agnostic</td>\n",
       "      <td>6</td>\n",
       "      <td>1</td>\n",
       "      <td>2</td>\n",
       "      <td>2</td>\n",
       "      <td>3</td>\n",
       "      <td>0</td>\n",
       "      <td>5</td>\n",
       "      <td>2</td>\n",
       "      <td>4</td>\n",
       "      <td>3</td>\n",
       "      <td>2</td>\n",
       "      <td>0</td>\n",
       "      <td>0</td>\n",
       "      <td>0</td>\n",
       "      <td>1</td>\n",
       "      <td>1</td>\n",
       "      <td>0</td>\n",
       "      <td>1</td>\n",
       "      <td>1</td>\n",
       "      <td>0</td>\n",
       "      <td>1</td>\n",
       "      <td>1</td>\n",
       "      <td>0</td>\n",
       "      <td>1</td>\n",
       "      <td>1</td>\n",
       "      <td>1</td>\n",
       "      <td>1</td>\n",
       "    </tr>\n",
       "  </tbody>\n",
       "</table>\n",
       "</div>"
      ],
      "text/plain": [
       "   index  QaA  QaE  QbA   QbE  QcA  ...  wr_08  wr_09  wr_10  wr_11  wr_12  wr_13\n",
       "0      0  3.0  736  2.0  2941  3.0  ...      1      0      1      0      1      1\n",
       "1      1  3.0  514  2.0  1952  3.0  ...      0      0      0      0      0      0\n",
       "2      2  3.0  500  2.0  2507  4.0  ...      1      0      1      0      1      1\n",
       "3      3  1.0  669  1.0  1050  5.0  ...      1      1      1      1      1      1\n",
       "4      4  2.0  499  1.0  1243  5.0  ...      1      0      1      1      1      1\n",
       "\n",
       "[5 rows x 77 columns]"
      ]
     },
     "execution_count": 5,
     "metadata": {
      "tags": []
     },
     "output_type": "execute_result"
    }
   ],
   "source": [
    "test.head()"
   ]
  },
  {
   "cell_type": "markdown",
   "metadata": {
    "id": "C-9pxdVFUDZE"
   },
   "source": [
    "### Null값 & 자료형 확인\n"
   ]
  },
  {
   "cell_type": "code",
   "execution_count": null,
   "metadata": {
    "id": "b6f1vPJ9CswS"
   },
   "outputs": [],
   "source": [
    "train.info()"
   ]
  },
  {
   "cell_type": "code",
   "execution_count": null,
   "metadata": {
    "id": "0qu5658kCwkf"
   },
   "outputs": [],
   "source": [
    "test.info()"
   ]
  },
  {
   "cell_type": "markdown",
   "metadata": {
    "id": "hheZELJeT5tN"
   },
   "source": [
    "### QA & QE\n"
   ]
  },
  {
   "cell_type": "code",
   "execution_count": null,
   "metadata": {
    "id": "O9_sYWvdUfYQ"
   },
   "outputs": [],
   "source": [
    "eda_train = train.copy()"
   ]
  },
  {
   "cell_type": "code",
   "execution_count": null,
   "metadata": {
    "id": "_WrZcHD0VYZ9"
   },
   "outputs": [],
   "source": [
    "Answers = ['QaA', 'QbA', 'QcA', 'QdA', 'QeA',\n",
    "             'QfA', 'QgA', 'QhA', 'QiA', 'QjA', \n",
    "             'QkA', 'QlA', 'QmA', 'QnA', 'QoA', \n",
    "             'QpA', 'QqA', 'QrA', 'QsA', 'QtA']"
   ]
  },
  {
   "cell_type": "code",
   "execution_count": null,
   "metadata": {
    "colab": {
     "base_uri": "https://localhost:8080/",
     "height": 303
    },
    "id": "V0dSbxltVYf8",
    "outputId": "0d55392d-600d-4340-ad32-dd5b37f596a2"
   },
   "outputs": [
    {
     "data": {
      "text/plain": [
       "<matplotlib.axes._subplots.AxesSubplot at 0x7fdf8d5cc978>"
      ]
     },
     "execution_count": 11,
     "metadata": {
      "tags": []
     },
     "output_type": "execute_result"
    },
    {
     "data": {
      "image/png": "[encoded data removed]",
      "text/plain": [
       "<Figure size 432x288 with 2 Axes>"
      ]
     },
     "metadata": {
      "needs_background": "light",
      "tags": []
     },
     "output_type": "display_data"
    }
   ],
   "source": [
    "correlations = eda_train[Answers].corr(method = 'spearman')\n",
    "sns.heatmap(correlations, cmap=\"coolwarm\", square=True, center=0)"
   ]
  },
  {
   "cell_type": "code",
   "execution_count": null,
   "metadata": {
    "id": "rRgGHTLcVYo8"
   },
   "outputs": [],
   "source": [
    "for col in eda_train[Answers]:\n",
    "    print(sorted(eda_train[col].unique()))"
   ]
  },
  {
   "cell_type": "code",
   "execution_count": null,
   "metadata": {
    "id": "-c60ZhndVYx1"
   },
   "outputs": [],
   "source": [
    "flipping_columns = [\"QeA\", \"QfA\", \"QkA\", \"QqA\", \"QrA\"]\n",
    "for flip in flipping_columns: \n",
    "    eda_train[flip] = 6 - eda_train[flip]"
   ]
  },
  {
   "cell_type": "code",
   "execution_count": null,
   "metadata": {
    "colab": {
     "base_uri": "https://localhost:8080/",
     "height": 303
    },
    "id": "Hnp4vV6GVYvM",
    "outputId": "fc55d85d-ac4d-47e8-9a17-51c603f705a2"
   },
   "outputs": [
    {
     "data": {
      "text/plain": [
       "<matplotlib.axes._subplots.AxesSubplot at 0x7fdf8ac4d160>"
      ]
     },
     "execution_count": 14,
     "metadata": {
      "tags": []
     },
     "output_type": "execute_result"
    },
    {
     "data": {
      "image/png": "[encoded data removed]",
      "text/plain": [
       "<Figure size 432x288 with 2 Axes>"
      ]
     },
     "metadata": {
      "needs_background": "light",
      "tags": []
     },
     "output_type": "display_data"
    }
   ],
   "source": [
    "correlations = eda_train[Answers].corr(method = 'spearman')\n",
    "sns.heatmap(correlations, cmap=\"coolwarm\", square=True, center=0)"
   ]
  },
  {
   "cell_type": "markdown",
   "metadata": {
    "id": "_QbTRw6aXYyy"
   },
   "source": [
    "jhl 님께서 올려주신 게시물을 보고, correalation을 통한 마키아벨리니즘 테스트 EDA를 진행해보았습니다. \n",
    "\n",
    "이런게 정말 창의적인 EDA구나.. 하며 감상했습니다.\n",
    "\n",
    "좋은 정보 공유 감사합니다. 앞으로도 열심히 배우겠습니다."
   ]
  },
  {
   "cell_type": "code",
   "execution_count": null,
   "metadata": {
    "id": "R0HzDHJyVYsd"
   },
   "outputs": [],
   "source": [
    "questions = [i for i in list(ascii_lowercase)[:20]]\n",
    "eda_train['delay'] = eda_train[[('Q'+i+'E') for i in questions]].sum(axis=1)"
   ]
  },
  {
   "cell_type": "code",
   "execution_count": null,
   "metadata": {
    "id": "SNBe95HgM9JV"
   },
   "outputs": [],
   "source": [
    "eda_train['delay'] = eda_train['delay'] ** (1/10)\n",
    "sns.distplot(eda_train['delay'], rug = True)"
   ]
  },
  {
   "cell_type": "markdown",
   "metadata": {
    "id": "f4hyhYPSNZ_q"
   },
   "source": [
    "delay column 분포를 고르게 해주기 위해 10승 루트를 해줌."
   ]
  },
  {
   "cell_type": "markdown",
   "metadata": {
    "id": "woRLqoUWN1EG"
   },
   "source": [
    "### other features"
   ]
  },
  {
   "cell_type": "code",
   "execution_count": null,
   "metadata": {
    "id": "n0zesExhWI5A"
   },
   "outputs": [],
   "source": [
    "voted = eda_train[eda_train['voted']==1]\n",
    "unvoted = eda_train[eda_train['voted']==2]"
   ]
  },
  {
   "cell_type": "code",
   "execution_count": null,
   "metadata": {
    "colab": {
     "base_uri": "https://localhost:8080/",
     "height": 407
    },
    "id": "3ahgY_FrWI1e",
    "outputId": "3b86421f-c0c9-4825-c444-599b4b32c71c"
   },
   "outputs": [
    {
     "data": {
      "text/plain": [
       "<matplotlib.axes._subplots.AxesSubplot at 0x7fdf87ca3550>"
      ]
     },
     "execution_count": 18,
     "metadata": {
      "tags": []
     },
     "output_type": "execute_result"
    },
    {
     "data": {
      "image/png": "[encoded data removed]",
      "text/plain": [
       "<Figure size 576x432 with 1 Axes>"
      ]
     },
     "metadata": {
      "needs_background": "light",
      "tags": []
     },
     "output_type": "display_data"
    }
   ],
   "source": [
    "plt.figure(figsize = (8,6))\n",
    "sns.countplot(data = eda_train, x = 'age_group', hue = eda_train['voted'])"
   ]
  },
  {
   "cell_type": "code",
   "execution_count": null,
   "metadata": {
    "colab": {
     "base_uri": "https://localhost:8080/",
     "height": 407
    },
    "id": "PJ8Nvom_WIzW",
    "outputId": "b5f38423-ebe6-4574-8ba2-3bc801eb3441"
   },
   "outputs": [
    {
     "data": {
      "text/plain": [
       "<matplotlib.axes._subplots.AxesSubplot at 0x7fdf87bca588>"
      ]
     },
     "execution_count": 19,
     "metadata": {
      "tags": []
     },
     "output_type": "execute_result"
    },
    {
     "data": {
      "image/png": "[encoded data removed]",
      "text/plain": [
       "<Figure size 576x432 with 1 Axes>"
      ]
     },
     "metadata": {
      "needs_background": "light",
      "tags": []
     },
     "output_type": "display_data"
    }
   ],
   "source": [
    "plt.figure(figsize = (8,6))\n",
    "sns.countplot(data = eda_train, x = 'married', hue = eda_train['voted'])"
   ]
  },
  {
   "cell_type": "code",
   "execution_count": null,
   "metadata": {
    "colab": {
     "base_uri": "https://localhost:8080/",
     "height": 410
    },
    "id": "lYP3dlt8WIw5",
    "outputId": "c3b449ff-3904-44a0-ebf5-d7eb11a4af88"
   },
   "outputs": [
    {
     "data": {
      "text/plain": [
       "<matplotlib.axes._subplots.AxesSubplot at 0x7fdf8d595f98>"
      ]
     },
     "execution_count": 20,
     "metadata": {
      "tags": []
     },
     "output_type": "execute_result"
    },
    {
     "data": {
      "image/png": "[encoded data removed]",
      "text/plain": [
       "<Figure size 576x432 with 1 Axes>"
      ]
     },
     "metadata": {
      "needs_background": "light",
      "tags": []
     },
     "output_type": "display_data"
    }
   ],
   "source": [
    "plt.figure(figsize = (8,6))\n",
    "sns.countplot(data = eda_train, x = 'gender', hue = eda_train['voted'])"
   ]
  },
  {
   "cell_type": "code",
   "execution_count": null,
   "metadata": {
    "colab": {
     "base_uri": "https://localhost:8080/",
     "height": 407
    },
    "id": "xnMYErZPWIub",
    "outputId": "dbacb71b-b517-4a04-d38e-a92607531cec"
   },
   "outputs": [
    {
     "data": {
      "text/plain": [
       "<matplotlib.axes._subplots.AxesSubplot at 0x7fdf87b70eb8>"
      ]
     },
     "execution_count": 21,
     "metadata": {
      "tags": []
     },
     "output_type": "execute_result"
    },
    {
     "data": {
      "image/png": "[encoded data removed]",
      "text/plain": [
       "<Figure size 576x432 with 1 Axes>"
      ]
     },
     "metadata": {
      "needs_background": "light",
      "tags": []
     },
     "output_type": "display_data"
    }
   ],
   "source": [
    "plt.figure(figsize = (8,6))\n",
    "sns.countplot(data = eda_train, x = 'race', hue = eda_train['voted'])"
   ]
  },
  {
   "cell_type": "code",
   "execution_count": null,
   "metadata": {
    "colab": {
     "base_uri": "https://localhost:8080/",
     "height": 408
    },
    "id": "GQcHGDpMWIr3",
    "outputId": "0ec63dc0-ce1a-44e1-d404-71f0216ad915"
   },
   "outputs": [
    {
     "data": {
      "text/plain": [
       "<matplotlib.axes._subplots.AxesSubplot at 0x7fdf8d4cf588>"
      ]
     },
     "execution_count": 22,
     "metadata": {
      "tags": []
     },
     "output_type": "execute_result"
    },
    {
     "data": {
      "image/png": "[encoded data removed]",
      "text/plain": [
       "<Figure size 576x432 with 1 Axes>"
      ]
     },
     "metadata": {
      "needs_background": "light",
      "tags": []
     },
     "output_type": "display_data"
    }
   ],
   "source": [
    "plt.figure(figsize = (8,6))\n",
    "sns.countplot(data = eda_train, x = 'religion', hue = eda_train['voted'])"
   ]
  },
  {
   "cell_type": "code",
   "execution_count": null,
   "metadata": {
    "colab": {
     "base_uri": "https://localhost:8080/",
     "height": 407
    },
    "id": "-rJuV8-9WInv",
    "outputId": "d61aa178-de28-4fe3-b848-9de8e4d35973"
   },
   "outputs": [
    {
     "data": {
      "text/plain": [
       "<matplotlib.axes._subplots.AxesSubplot at 0x7fdf87a01e10>"
      ]
     },
     "execution_count": 23,
     "metadata": {
      "tags": []
     },
     "output_type": "execute_result"
    },
    {
     "data": {
      "image/png": "[encoded data removed]",
      "text/plain": [
       "<Figure size 576x432 with 1 Axes>"
      ]
     },
     "metadata": {
      "needs_background": "light",
      "tags": []
     },
     "output_type": "display_data"
    }
   ],
   "source": [
    "plt.figure(figsize = (8,6))\n",
    "sns.countplot(data = eda_train, x = 'urban', hue = eda_train['voted'])"
   ]
  },
  {
   "cell_type": "code",
   "execution_count": null,
   "metadata": {
    "colab": {
     "base_uri": "https://localhost:8080/",
     "height": 407
    },
    "id": "e_gkHDXwaTVe",
    "outputId": "95d53d5e-96c7-4a6c-d56c-1e0ae404c4fb"
   },
   "outputs": [
    {
     "data": {
      "text/plain": [
       "<matplotlib.axes._subplots.AxesSubplot at 0x7fdf878ce518>"
      ]
     },
     "execution_count": 24,
     "metadata": {
      "tags": []
     },
     "output_type": "execute_result"
    },
    {
     "data": {
      "image/png": "[encoded data removed]",
      "text/plain": [
       "<Figure size 576x432 with 1 Axes>"
      ]
     },
     "metadata": {
      "needs_background": "light",
      "tags": []
     },
     "output_type": "display_data"
    }
   ],
   "source": [
    "plt.figure(figsize = (8,6))\n",
    "sns.countplot(data = eda_train, x = 'engnat', hue = eda_train['voted'])"
   ]
  },
  {
   "cell_type": "code",
   "execution_count": null,
   "metadata": {
    "colab": {
     "base_uri": "https://localhost:8080/",
     "height": 407
    },
    "id": "sEqJvBveaTSB",
    "outputId": "06170055-96a8-409f-ffc8-04f77387419f"
   },
   "outputs": [
    {
     "data": {
      "text/plain": [
       "<matplotlib.axes._subplots.AxesSubplot at 0x7fdf87925e80>"
      ]
     },
     "execution_count": 25,
     "metadata": {
      "tags": []
     },
     "output_type": "execute_result"
    },
    {
     "data": {
      "image/png": "[encoded data removed]",
      "text/plain": [
       "<Figure size 576x432 with 1 Axes>"
      ]
     },
     "metadata": {
      "needs_background": "light",
      "tags": []
     },
     "output_type": "display_data"
    }
   ],
   "source": [
    "plt.figure(figsize = (8,6))\n",
    "sns.countplot(data = eda_train, x = 'familysize', hue = eda_train['voted'])"
   ]
  },
  {
   "cell_type": "markdown",
   "metadata": {
    "id": "R8kEbkm7VuSl"
   },
   "source": [
    "## 4. Feature Engineering"
   ]
  },
  {
   "cell_type": "code",
   "execution_count": 3,
   "metadata": {
    "id": "klweHO2HC1Y5"
   },
   "outputs": [],
   "source": [
    "x_train = train.copy()\n",
    "x_train.drop('voted', axis=1, inplace = True)\n",
    "y_train = train['voted']"
   ]
  },
  {
   "cell_type": "code",
   "execution_count": 7,
   "metadata": {},
   "outputs": [
    {
     "data": {
      "text/html": [
       "<div>\n",
       "<style scoped>\n",
       "    .dataframe tbody tr th:only-of-type {\n",
       "        vertical-align: middle;\n",
       "    }\n",
       "\n",
       "    .dataframe tbody tr th {\n",
       "        vertical-align: top;\n",
       "    }\n",
       "\n",
       "    .dataframe thead th {\n",
       "        text-align: right;\n",
       "    }\n",
       "</style>\n",
       "<table border=\"1\" class=\"dataframe\">\n",
       "  <thead>\n",
       "    <tr style=\"text-align: right;\">\n",
       "      <th></th>\n",
       "      <th>index</th>\n",
       "      <th>QaA</th>\n",
       "      <th>QaE</th>\n",
       "      <th>QbA</th>\n",
       "      <th>QbE</th>\n",
       "      <th>QcA</th>\n",
       "      <th>QcE</th>\n",
       "      <th>QdA</th>\n",
       "      <th>QdE</th>\n",
       "      <th>QeA</th>\n",
       "      <th>...</th>\n",
       "      <th>wr_04</th>\n",
       "      <th>wr_05</th>\n",
       "      <th>wr_06</th>\n",
       "      <th>wr_07</th>\n",
       "      <th>wr_08</th>\n",
       "      <th>wr_09</th>\n",
       "      <th>wr_10</th>\n",
       "      <th>wr_11</th>\n",
       "      <th>wr_12</th>\n",
       "      <th>wr_13</th>\n",
       "    </tr>\n",
       "  </thead>\n",
       "  <tbody>\n",
       "    <tr>\n",
       "      <th>0</th>\n",
       "      <td>0</td>\n",
       "      <td>3.0</td>\n",
       "      <td>363</td>\n",
       "      <td>4.0</td>\n",
       "      <td>1370</td>\n",
       "      <td>5.0</td>\n",
       "      <td>997</td>\n",
       "      <td>1.0</td>\n",
       "      <td>1024</td>\n",
       "      <td>2.0</td>\n",
       "      <td>...</td>\n",
       "      <td>0</td>\n",
       "      <td>1</td>\n",
       "      <td>0</td>\n",
       "      <td>1</td>\n",
       "      <td>1</td>\n",
       "      <td>0</td>\n",
       "      <td>1</td>\n",
       "      <td>0</td>\n",
       "      <td>1</td>\n",
       "      <td>1</td>\n",
       "    </tr>\n",
       "    <tr>\n",
       "      <th>1</th>\n",
       "      <td>1</td>\n",
       "      <td>5.0</td>\n",
       "      <td>647</td>\n",
       "      <td>5.0</td>\n",
       "      <td>1313</td>\n",
       "      <td>3.0</td>\n",
       "      <td>3387</td>\n",
       "      <td>5.0</td>\n",
       "      <td>2969</td>\n",
       "      <td>1.0</td>\n",
       "      <td>...</td>\n",
       "      <td>1</td>\n",
       "      <td>1</td>\n",
       "      <td>0</td>\n",
       "      <td>1</td>\n",
       "      <td>1</td>\n",
       "      <td>0</td>\n",
       "      <td>1</td>\n",
       "      <td>0</td>\n",
       "      <td>1</td>\n",
       "      <td>1</td>\n",
       "    </tr>\n",
       "    <tr>\n",
       "      <th>2</th>\n",
       "      <td>2</td>\n",
       "      <td>4.0</td>\n",
       "      <td>1623</td>\n",
       "      <td>1.0</td>\n",
       "      <td>1480</td>\n",
       "      <td>1.0</td>\n",
       "      <td>1021</td>\n",
       "      <td>4.0</td>\n",
       "      <td>3374</td>\n",
       "      <td>5.0</td>\n",
       "      <td>...</td>\n",
       "      <td>1</td>\n",
       "      <td>1</td>\n",
       "      <td>0</td>\n",
       "      <td>1</td>\n",
       "      <td>1</td>\n",
       "      <td>1</td>\n",
       "      <td>1</td>\n",
       "      <td>0</td>\n",
       "      <td>1</td>\n",
       "      <td>1</td>\n",
       "    </tr>\n",
       "    <tr>\n",
       "      <th>3</th>\n",
       "      <td>3</td>\n",
       "      <td>3.0</td>\n",
       "      <td>504</td>\n",
       "      <td>3.0</td>\n",
       "      <td>2311</td>\n",
       "      <td>4.0</td>\n",
       "      <td>992</td>\n",
       "      <td>3.0</td>\n",
       "      <td>3245</td>\n",
       "      <td>1.0</td>\n",
       "      <td>...</td>\n",
       "      <td>0</td>\n",
       "      <td>0</td>\n",
       "      <td>0</td>\n",
       "      <td>0</td>\n",
       "      <td>1</td>\n",
       "      <td>0</td>\n",
       "      <td>1</td>\n",
       "      <td>0</td>\n",
       "      <td>1</td>\n",
       "      <td>1</td>\n",
       "    </tr>\n",
       "    <tr>\n",
       "      <th>4</th>\n",
       "      <td>4</td>\n",
       "      <td>1.0</td>\n",
       "      <td>927</td>\n",
       "      <td>1.0</td>\n",
       "      <td>707</td>\n",
       "      <td>5.0</td>\n",
       "      <td>556</td>\n",
       "      <td>2.0</td>\n",
       "      <td>1062</td>\n",
       "      <td>1.0</td>\n",
       "      <td>...</td>\n",
       "      <td>1</td>\n",
       "      <td>1</td>\n",
       "      <td>1</td>\n",
       "      <td>1</td>\n",
       "      <td>1</td>\n",
       "      <td>0</td>\n",
       "      <td>1</td>\n",
       "      <td>1</td>\n",
       "      <td>1</td>\n",
       "      <td>1</td>\n",
       "    </tr>\n",
       "    <tr>\n",
       "      <th>...</th>\n",
       "      <td>...</td>\n",
       "      <td>...</td>\n",
       "      <td>...</td>\n",
       "      <td>...</td>\n",
       "      <td>...</td>\n",
       "      <td>...</td>\n",
       "      <td>...</td>\n",
       "      <td>...</td>\n",
       "      <td>...</td>\n",
       "      <td>...</td>\n",
       "      <td>...</td>\n",
       "      <td>...</td>\n",
       "      <td>...</td>\n",
       "      <td>...</td>\n",
       "      <td>...</td>\n",
       "      <td>...</td>\n",
       "      <td>...</td>\n",
       "      <td>...</td>\n",
       "      <td>...</td>\n",
       "      <td>...</td>\n",
       "      <td>...</td>\n",
       "    </tr>\n",
       "    <tr>\n",
       "      <th>45527</th>\n",
       "      <td>45527</td>\n",
       "      <td>2.0</td>\n",
       "      <td>1050</td>\n",
       "      <td>5.0</td>\n",
       "      <td>619</td>\n",
       "      <td>4.0</td>\n",
       "      <td>328</td>\n",
       "      <td>1.0</td>\n",
       "      <td>285</td>\n",
       "      <td>1.0</td>\n",
       "      <td>...</td>\n",
       "      <td>1</td>\n",
       "      <td>1</td>\n",
       "      <td>0</td>\n",
       "      <td>1</td>\n",
       "      <td>1</td>\n",
       "      <td>1</td>\n",
       "      <td>1</td>\n",
       "      <td>0</td>\n",
       "      <td>1</td>\n",
       "      <td>1</td>\n",
       "    </tr>\n",
       "    <tr>\n",
       "      <th>45528</th>\n",
       "      <td>45528</td>\n",
       "      <td>2.0</td>\n",
       "      <td>581</td>\n",
       "      <td>3.0</td>\n",
       "      <td>1353</td>\n",
       "      <td>4.0</td>\n",
       "      <td>1164</td>\n",
       "      <td>1.0</td>\n",
       "      <td>798</td>\n",
       "      <td>3.0</td>\n",
       "      <td>...</td>\n",
       "      <td>1</td>\n",
       "      <td>1</td>\n",
       "      <td>0</td>\n",
       "      <td>1</td>\n",
       "      <td>1</td>\n",
       "      <td>1</td>\n",
       "      <td>1</td>\n",
       "      <td>0</td>\n",
       "      <td>1</td>\n",
       "      <td>1</td>\n",
       "    </tr>\n",
       "    <tr>\n",
       "      <th>45529</th>\n",
       "      <td>45529</td>\n",
       "      <td>4.0</td>\n",
       "      <td>593</td>\n",
       "      <td>1.0</td>\n",
       "      <td>857</td>\n",
       "      <td>1.0</td>\n",
       "      <td>1047</td>\n",
       "      <td>4.0</td>\n",
       "      <td>1515</td>\n",
       "      <td>5.0</td>\n",
       "      <td>...</td>\n",
       "      <td>1</td>\n",
       "      <td>1</td>\n",
       "      <td>0</td>\n",
       "      <td>1</td>\n",
       "      <td>1</td>\n",
       "      <td>0</td>\n",
       "      <td>1</td>\n",
       "      <td>0</td>\n",
       "      <td>1</td>\n",
       "      <td>1</td>\n",
       "    </tr>\n",
       "    <tr>\n",
       "      <th>45530</th>\n",
       "      <td>45530</td>\n",
       "      <td>1.0</td>\n",
       "      <td>747</td>\n",
       "      <td>3.0</td>\n",
       "      <td>1331</td>\n",
       "      <td>4.0</td>\n",
       "      <td>892</td>\n",
       "      <td>2.0</td>\n",
       "      <td>1281</td>\n",
       "      <td>1.0</td>\n",
       "      <td>...</td>\n",
       "      <td>1</td>\n",
       "      <td>1</td>\n",
       "      <td>0</td>\n",
       "      <td>1</td>\n",
       "      <td>1</td>\n",
       "      <td>1</td>\n",
       "      <td>1</td>\n",
       "      <td>0</td>\n",
       "      <td>1</td>\n",
       "      <td>1</td>\n",
       "    </tr>\n",
       "    <tr>\n",
       "      <th>45531</th>\n",
       "      <td>45531</td>\n",
       "      <td>3.0</td>\n",
       "      <td>496</td>\n",
       "      <td>5.0</td>\n",
       "      <td>1827</td>\n",
       "      <td>5.0</td>\n",
       "      <td>754</td>\n",
       "      <td>3.0</td>\n",
       "      <td>1117</td>\n",
       "      <td>1.0</td>\n",
       "      <td>...</td>\n",
       "      <td>1</td>\n",
       "      <td>1</td>\n",
       "      <td>0</td>\n",
       "      <td>1</td>\n",
       "      <td>1</td>\n",
       "      <td>0</td>\n",
       "      <td>1</td>\n",
       "      <td>0</td>\n",
       "      <td>1</td>\n",
       "      <td>1</td>\n",
       "    </tr>\n",
       "  </tbody>\n",
       "</table>\n",
       "<p>45532 rows × 77 columns</p>\n",
       "</div>"
      ],
      "text/plain": [
       "       index  QaA   QaE  QbA   QbE  QcA   QcE  QdA   QdE  QeA  ...  wr_04  \\\n",
       "0          0  3.0   363  4.0  1370  5.0   997  1.0  1024  2.0  ...      0   \n",
       "1          1  5.0   647  5.0  1313  3.0  3387  5.0  2969  1.0  ...      1   \n",
       "2          2  4.0  1623  1.0  1480  1.0  1021  4.0  3374  5.0  ...      1   \n",
       "3          3  3.0   504  3.0  2311  4.0   992  3.0  3245  1.0  ...      0   \n",
       "4          4  1.0   927  1.0   707  5.0   556  2.0  1062  1.0  ...      1   \n",
       "...      ...  ...   ...  ...   ...  ...   ...  ...   ...  ...  ...    ...   \n",
       "45527  45527  2.0  1050  5.0   619  4.0   328  1.0   285  1.0  ...      1   \n",
       "45528  45528  2.0   581  3.0  1353  4.0  1164  1.0   798  3.0  ...      1   \n",
       "45529  45529  4.0   593  1.0   857  1.0  1047  4.0  1515  5.0  ...      1   \n",
       "45530  45530  1.0   747  3.0  1331  4.0   892  2.0  1281  1.0  ...      1   \n",
       "45531  45531  3.0   496  5.0  1827  5.0   754  3.0  1117  1.0  ...      1   \n",
       "\n",
       "       wr_05  wr_06  wr_07  wr_08  wr_09  wr_10  wr_11  wr_12  wr_13  \n",
       "0          1      0      1      1      0      1      0      1      1  \n",
       "1          1      0      1      1      0      1      0      1      1  \n",
       "2          1      0      1      1      1      1      0      1      1  \n",
       "3          0      0      0      1      0      1      0      1      1  \n",
       "4          1      1      1      1      0      1      1      1      1  \n",
       "...      ...    ...    ...    ...    ...    ...    ...    ...    ...  \n",
       "45527      1      0      1      1      1      1      0      1      1  \n",
       "45528      1      0      1      1      1      1      0      1      1  \n",
       "45529      1      0      1      1      0      1      0      1      1  \n",
       "45530      1      0      1      1      1      1      0      1      1  \n",
       "45531      1      0      1      1      0      1      0      1      1  \n",
       "\n",
       "[45532 rows x 77 columns]"
      ]
     },
     "execution_count": 7,
     "metadata": {},
     "output_type": "execute_result"
    }
   ],
   "source": [
    "x_train"
   ]
  },
  {
   "cell_type": "code",
   "execution_count": 8,
   "metadata": {
    "id": "1lYCUhcFLntw"
   },
   "outputs": [],
   "source": [
    "dataset = [x_train, test]"
   ]
  },
  {
   "cell_type": "markdown",
   "metadata": {
    "id": "vMtqff2wNp7W"
   },
   "source": [
    "### 마키아밸리 테스트 FE"
   ]
  },
  {
   "cell_type": "code",
   "execution_count": 9,
   "metadata": {
    "id": "qUy-JTR7XuqI"
   },
   "outputs": [],
   "source": [
    "questions = [i for i in list(ascii_lowercase)[:20]]\n",
    "answers = [('Q'+i+'A') for i in questions]"
   ]
  },
  {
   "cell_type": "code",
   "execution_count": 10,
   "metadata": {
    "id": "JpCefwcYr5VG"
   },
   "outputs": [],
   "source": [
    "for data in dataset:\n",
    "  data['T'] = data['QcA'] - data['QfA'] + data['QoA'] - data['QrA'] + data['QsA']\n",
    "  data['V'] = data['QbA'] - data['QeA'] + data['QhA'] + data['QjA'] + data['QmA'] - data['QqA']\n",
    "  data['M'] = - data['QkA']"
   ]
  },
  {
   "cell_type": "markdown",
   "metadata": {
    "id": "qUErgiuSOyzs"
   },
   "source": [
    "Tactic/ Morality/ View에 따라 feature 항목을 나눠보았습니다."
   ]
  },
  {
   "cell_type": "code",
   "execution_count": 11,
   "metadata": {
    "id": "fTY7WeVyQiEc"
   },
   "outputs": [],
   "source": [
    "flipping_columns = [\"QeA\", \"QfA\", \"QkA\", \"QqA\", \"QrA\"]\n",
    "for data in dataset:\n",
    "  for flip in flipping_columns: \n",
    "    data[flip] = 6 - data[flip]"
   ]
  },
  {
   "cell_type": "code",
   "execution_count": 12,
   "metadata": {
    "id": "ybrQ2ewiXi8J"
   },
   "outputs": [],
   "source": [
    "flipping_secret_columns = [\"QaA\", \"QdA\", \"QgA\", \"QiA\", \"QnA\"]\n",
    "for data in dataset:\n",
    "  for flip in flipping_secret_columns: \n",
    "    data[flip] = 6 - data[flip]"
   ]
  },
  {
   "cell_type": "code",
   "execution_count": 13,
   "metadata": {
    "id": "UyHOrzOeYJ4i"
   },
   "outputs": [],
   "source": [
    "for data in dataset:\n",
    "  data['Mach_score'] = data[answers].mean(axis = 1)"
   ]
  },
  {
   "cell_type": "code",
   "execution_count": 14,
   "metadata": {
    "id": "FSRyiOFJbkbc"
   },
   "outputs": [],
   "source": [
    "for data in dataset:\n",
    "  data['delay'] = data[[('Q'+i+'E') for i in questions]].sum(axis=1)\n",
    "  data['delay'] = data['delay'] ** (1/10)"
   ]
  },
  {
   "cell_type": "code",
   "execution_count": 15,
   "metadata": {
    "id": "fA1O5pfX5__b"
   },
   "outputs": [
    {
     "name": "stderr",
     "output_type": "stream",
     "text": [
      "C:\\Users\\hhz20\\AppData\\Local\\Temp\\ipykernel_15092\\1581226005.py:4: PerformanceWarning: DataFrame is highly fragmented.  This is usually the result of calling `frame.insert` many times, which has poor performance.  Consider joining all columns at once using pd.concat(axis=1) instead. To get a de-fragmented frame, use `newframe = frame.copy()`\n",
      "  data['%s_dv_%s'%(a,b)] = data[a]/data[b]\n",
      "C:\\Users\\hhz20\\AppData\\Local\\Temp\\ipykernel_15092\\1581226005.py:4: PerformanceWarning: DataFrame is highly fragmented.  This is usually the result of calling `frame.insert` many times, which has poor performance.  Consider joining all columns at once using pd.concat(axis=1) instead. To get a de-fragmented frame, use `newframe = frame.copy()`\n",
      "  data['%s_dv_%s'%(a,b)] = data[a]/data[b]\n",
      "C:\\Users\\hhz20\\AppData\\Local\\Temp\\ipykernel_15092\\1581226005.py:4: PerformanceWarning: DataFrame is highly fragmented.  This is usually the result of calling `frame.insert` many times, which has poor performance.  Consider joining all columns at once using pd.concat(axis=1) instead. To get a de-fragmented frame, use `newframe = frame.copy()`\n",
      "  data['%s_dv_%s'%(a,b)] = data[a]/data[b]\n",
      "C:\\Users\\hhz20\\AppData\\Local\\Temp\\ipykernel_15092\\1581226005.py:4: PerformanceWarning: DataFrame is highly fragmented.  This is usually the result of calling `frame.insert` many times, which has poor performance.  Consider joining all columns at once using pd.concat(axis=1) instead. To get a de-fragmented frame, use `newframe = frame.copy()`\n",
      "  data['%s_dv_%s'%(a,b)] = data[a]/data[b]\n",
      "C:\\Users\\hhz20\\AppData\\Local\\Temp\\ipykernel_15092\\1581226005.py:4: PerformanceWarning: DataFrame is highly fragmented.  This is usually the result of calling `frame.insert` many times, which has poor performance.  Consider joining all columns at once using pd.concat(axis=1) instead. To get a de-fragmented frame, use `newframe = frame.copy()`\n",
      "  data['%s_dv_%s'%(a,b)] = data[a]/data[b]\n",
      "C:\\Users\\hhz20\\AppData\\Local\\Temp\\ipykernel_15092\\1581226005.py:4: PerformanceWarning: DataFrame is highly fragmented.  This is usually the result of calling `frame.insert` many times, which has poor performance.  Consider joining all columns at once using pd.concat(axis=1) instead. To get a de-fragmented frame, use `newframe = frame.copy()`\n",
      "  data['%s_dv_%s'%(a,b)] = data[a]/data[b]\n",
      "C:\\Users\\hhz20\\AppData\\Local\\Temp\\ipykernel_15092\\1581226005.py:4: PerformanceWarning: DataFrame is highly fragmented.  This is usually the result of calling `frame.insert` many times, which has poor performance.  Consider joining all columns at once using pd.concat(axis=1) instead. To get a de-fragmented frame, use `newframe = frame.copy()`\n",
      "  data['%s_dv_%s'%(a,b)] = data[a]/data[b]\n",
      "C:\\Users\\hhz20\\AppData\\Local\\Temp\\ipykernel_15092\\1581226005.py:4: PerformanceWarning: DataFrame is highly fragmented.  This is usually the result of calling `frame.insert` many times, which has poor performance.  Consider joining all columns at once using pd.concat(axis=1) instead. To get a de-fragmented frame, use `newframe = frame.copy()`\n",
      "  data['%s_dv_%s'%(a,b)] = data[a]/data[b]\n",
      "C:\\Users\\hhz20\\AppData\\Local\\Temp\\ipykernel_15092\\1581226005.py:4: PerformanceWarning: DataFrame is highly fragmented.  This is usually the result of calling `frame.insert` many times, which has poor performance.  Consider joining all columns at once using pd.concat(axis=1) instead. To get a de-fragmented frame, use `newframe = frame.copy()`\n",
      "  data['%s_dv_%s'%(a,b)] = data[a]/data[b]\n",
      "C:\\Users\\hhz20\\AppData\\Local\\Temp\\ipykernel_15092\\1581226005.py:4: PerformanceWarning: DataFrame is highly fragmented.  This is usually the result of calling `frame.insert` many times, which has poor performance.  Consider joining all columns at once using pd.concat(axis=1) instead. To get a de-fragmented frame, use `newframe = frame.copy()`\n",
      "  data['%s_dv_%s'%(a,b)] = data[a]/data[b]\n",
      "C:\\Users\\hhz20\\AppData\\Local\\Temp\\ipykernel_15092\\1581226005.py:4: PerformanceWarning: DataFrame is highly fragmented.  This is usually the result of calling `frame.insert` many times, which has poor performance.  Consider joining all columns at once using pd.concat(axis=1) instead. To get a de-fragmented frame, use `newframe = frame.copy()`\n",
      "  data['%s_dv_%s'%(a,b)] = data[a]/data[b]\n",
      "C:\\Users\\hhz20\\AppData\\Local\\Temp\\ipykernel_15092\\1581226005.py:4: PerformanceWarning: DataFrame is highly fragmented.  This is usually the result of calling `frame.insert` many times, which has poor performance.  Consider joining all columns at once using pd.concat(axis=1) instead. To get a de-fragmented frame, use `newframe = frame.copy()`\n",
      "  data['%s_dv_%s'%(a,b)] = data[a]/data[b]\n",
      "C:\\Users\\hhz20\\AppData\\Local\\Temp\\ipykernel_15092\\1581226005.py:4: PerformanceWarning: DataFrame is highly fragmented.  This is usually the result of calling `frame.insert` many times, which has poor performance.  Consider joining all columns at once using pd.concat(axis=1) instead. To get a de-fragmented frame, use `newframe = frame.copy()`\n",
      "  data['%s_dv_%s'%(a,b)] = data[a]/data[b]\n",
      "C:\\Users\\hhz20\\AppData\\Local\\Temp\\ipykernel_15092\\1581226005.py:4: PerformanceWarning: DataFrame is highly fragmented.  This is usually the result of calling `frame.insert` many times, which has poor performance.  Consider joining all columns at once using pd.concat(axis=1) instead. To get a de-fragmented frame, use `newframe = frame.copy()`\n",
      "  data['%s_dv_%s'%(a,b)] = data[a]/data[b]\n",
      "C:\\Users\\hhz20\\AppData\\Local\\Temp\\ipykernel_15092\\1581226005.py:4: PerformanceWarning: DataFrame is highly fragmented.  This is usually the result of calling `frame.insert` many times, which has poor performance.  Consider joining all columns at once using pd.concat(axis=1) instead. To get a de-fragmented frame, use `newframe = frame.copy()`\n",
      "  data['%s_dv_%s'%(a,b)] = data[a]/data[b]\n",
      "C:\\Users\\hhz20\\AppData\\Local\\Temp\\ipykernel_15092\\1581226005.py:4: PerformanceWarning: DataFrame is highly fragmented.  This is usually the result of calling `frame.insert` many times, which has poor performance.  Consider joining all columns at once using pd.concat(axis=1) instead. To get a de-fragmented frame, use `newframe = frame.copy()`\n",
      "  data['%s_dv_%s'%(a,b)] = data[a]/data[b]\n",
      "C:\\Users\\hhz20\\AppData\\Local\\Temp\\ipykernel_15092\\1581226005.py:4: PerformanceWarning: DataFrame is highly fragmented.  This is usually the result of calling `frame.insert` many times, which has poor performance.  Consider joining all columns at once using pd.concat(axis=1) instead. To get a de-fragmented frame, use `newframe = frame.copy()`\n",
      "  data['%s_dv_%s'%(a,b)] = data[a]/data[b]\n",
      "C:\\Users\\hhz20\\AppData\\Local\\Temp\\ipykernel_15092\\1581226005.py:4: PerformanceWarning: DataFrame is highly fragmented.  This is usually the result of calling `frame.insert` many times, which has poor performance.  Consider joining all columns at once using pd.concat(axis=1) instead. To get a de-fragmented frame, use `newframe = frame.copy()`\n",
      "  data['%s_dv_%s'%(a,b)] = data[a]/data[b]\n",
      "C:\\Users\\hhz20\\AppData\\Local\\Temp\\ipykernel_15092\\1581226005.py:4: PerformanceWarning: DataFrame is highly fragmented.  This is usually the result of calling `frame.insert` many times, which has poor performance.  Consider joining all columns at once using pd.concat(axis=1) instead. To get a de-fragmented frame, use `newframe = frame.copy()`\n",
      "  data['%s_dv_%s'%(a,b)] = data[a]/data[b]\n",
      "C:\\Users\\hhz20\\AppData\\Local\\Temp\\ipykernel_15092\\1581226005.py:4: PerformanceWarning: DataFrame is highly fragmented.  This is usually the result of calling `frame.insert` many times, which has poor performance.  Consider joining all columns at once using pd.concat(axis=1) instead. To get a de-fragmented frame, use `newframe = frame.copy()`\n",
      "  data['%s_dv_%s'%(a,b)] = data[a]/data[b]\n",
      "C:\\Users\\hhz20\\AppData\\Local\\Temp\\ipykernel_15092\\1581226005.py:4: PerformanceWarning: DataFrame is highly fragmented.  This is usually the result of calling `frame.insert` many times, which has poor performance.  Consider joining all columns at once using pd.concat(axis=1) instead. To get a de-fragmented frame, use `newframe = frame.copy()`\n",
      "  data['%s_dv_%s'%(a,b)] = data[a]/data[b]\n",
      "C:\\Users\\hhz20\\AppData\\Local\\Temp\\ipykernel_15092\\1581226005.py:4: PerformanceWarning: DataFrame is highly fragmented.  This is usually the result of calling `frame.insert` many times, which has poor performance.  Consider joining all columns at once using pd.concat(axis=1) instead. To get a de-fragmented frame, use `newframe = frame.copy()`\n",
      "  data['%s_dv_%s'%(a,b)] = data[a]/data[b]\n",
      "C:\\Users\\hhz20\\AppData\\Local\\Temp\\ipykernel_15092\\1581226005.py:4: PerformanceWarning: DataFrame is highly fragmented.  This is usually the result of calling `frame.insert` many times, which has poor performance.  Consider joining all columns at once using pd.concat(axis=1) instead. To get a de-fragmented frame, use `newframe = frame.copy()`\n",
      "  data['%s_dv_%s'%(a,b)] = data[a]/data[b]\n",
      "C:\\Users\\hhz20\\AppData\\Local\\Temp\\ipykernel_15092\\1581226005.py:4: PerformanceWarning: DataFrame is highly fragmented.  This is usually the result of calling `frame.insert` many times, which has poor performance.  Consider joining all columns at once using pd.concat(axis=1) instead. To get a de-fragmented frame, use `newframe = frame.copy()`\n",
      "  data['%s_dv_%s'%(a,b)] = data[a]/data[b]\n",
      "C:\\Users\\hhz20\\AppData\\Local\\Temp\\ipykernel_15092\\1581226005.py:4: PerformanceWarning: DataFrame is highly fragmented.  This is usually the result of calling `frame.insert` many times, which has poor performance.  Consider joining all columns at once using pd.concat(axis=1) instead. To get a de-fragmented frame, use `newframe = frame.copy()`\n",
      "  data['%s_dv_%s'%(a,b)] = data[a]/data[b]\n",
      "C:\\Users\\hhz20\\AppData\\Local\\Temp\\ipykernel_15092\\1581226005.py:4: PerformanceWarning: DataFrame is highly fragmented.  This is usually the result of calling `frame.insert` many times, which has poor performance.  Consider joining all columns at once using pd.concat(axis=1) instead. To get a de-fragmented frame, use `newframe = frame.copy()`\n",
      "  data['%s_dv_%s'%(a,b)] = data[a]/data[b]\n",
      "C:\\Users\\hhz20\\AppData\\Local\\Temp\\ipykernel_15092\\1581226005.py:4: PerformanceWarning: DataFrame is highly fragmented.  This is usually the result of calling `frame.insert` many times, which has poor performance.  Consider joining all columns at once using pd.concat(axis=1) instead. To get a de-fragmented frame, use `newframe = frame.copy()`\n",
      "  data['%s_dv_%s'%(a,b)] = data[a]/data[b]\n",
      "C:\\Users\\hhz20\\AppData\\Local\\Temp\\ipykernel_15092\\1581226005.py:4: PerformanceWarning: DataFrame is highly fragmented.  This is usually the result of calling `frame.insert` many times, which has poor performance.  Consider joining all columns at once using pd.concat(axis=1) instead. To get a de-fragmented frame, use `newframe = frame.copy()`\n",
      "  data['%s_dv_%s'%(a,b)] = data[a]/data[b]\n",
      "C:\\Users\\hhz20\\AppData\\Local\\Temp\\ipykernel_15092\\1581226005.py:4: PerformanceWarning: DataFrame is highly fragmented.  This is usually the result of calling `frame.insert` many times, which has poor performance.  Consider joining all columns at once using pd.concat(axis=1) instead. To get a de-fragmented frame, use `newframe = frame.copy()`\n",
      "  data['%s_dv_%s'%(a,b)] = data[a]/data[b]\n",
      "C:\\Users\\hhz20\\AppData\\Local\\Temp\\ipykernel_15092\\1581226005.py:4: PerformanceWarning: DataFrame is highly fragmented.  This is usually the result of calling `frame.insert` many times, which has poor performance.  Consider joining all columns at once using pd.concat(axis=1) instead. To get a de-fragmented frame, use `newframe = frame.copy()`\n",
      "  data['%s_dv_%s'%(a,b)] = data[a]/data[b]\n",
      "C:\\Users\\hhz20\\AppData\\Local\\Temp\\ipykernel_15092\\1581226005.py:4: PerformanceWarning: DataFrame is highly fragmented.  This is usually the result of calling `frame.insert` many times, which has poor performance.  Consider joining all columns at once using pd.concat(axis=1) instead. To get a de-fragmented frame, use `newframe = frame.copy()`\n",
      "  data['%s_dv_%s'%(a,b)] = data[a]/data[b]\n",
      "C:\\Users\\hhz20\\AppData\\Local\\Temp\\ipykernel_15092\\1581226005.py:4: PerformanceWarning: DataFrame is highly fragmented.  This is usually the result of calling `frame.insert` many times, which has poor performance.  Consider joining all columns at once using pd.concat(axis=1) instead. To get a de-fragmented frame, use `newframe = frame.copy()`\n",
      "  data['%s_dv_%s'%(a,b)] = data[a]/data[b]\n",
      "C:\\Users\\hhz20\\AppData\\Local\\Temp\\ipykernel_15092\\1581226005.py:4: PerformanceWarning: DataFrame is highly fragmented.  This is usually the result of calling `frame.insert` many times, which has poor performance.  Consider joining all columns at once using pd.concat(axis=1) instead. To get a de-fragmented frame, use `newframe = frame.copy()`\n",
      "  data['%s_dv_%s'%(a,b)] = data[a]/data[b]\n",
      "C:\\Users\\hhz20\\AppData\\Local\\Temp\\ipykernel_15092\\1581226005.py:4: PerformanceWarning: DataFrame is highly fragmented.  This is usually the result of calling `frame.insert` many times, which has poor performance.  Consider joining all columns at once using pd.concat(axis=1) instead. To get a de-fragmented frame, use `newframe = frame.copy()`\n",
      "  data['%s_dv_%s'%(a,b)] = data[a]/data[b]\n",
      "C:\\Users\\hhz20\\AppData\\Local\\Temp\\ipykernel_15092\\1581226005.py:4: PerformanceWarning: DataFrame is highly fragmented.  This is usually the result of calling `frame.insert` many times, which has poor performance.  Consider joining all columns at once using pd.concat(axis=1) instead. To get a de-fragmented frame, use `newframe = frame.copy()`\n",
      "  data['%s_dv_%s'%(a,b)] = data[a]/data[b]\n",
      "C:\\Users\\hhz20\\AppData\\Local\\Temp\\ipykernel_15092\\1581226005.py:4: PerformanceWarning: DataFrame is highly fragmented.  This is usually the result of calling `frame.insert` many times, which has poor performance.  Consider joining all columns at once using pd.concat(axis=1) instead. To get a de-fragmented frame, use `newframe = frame.copy()`\n",
      "  data['%s_dv_%s'%(a,b)] = data[a]/data[b]\n",
      "C:\\Users\\hhz20\\AppData\\Local\\Temp\\ipykernel_15092\\1581226005.py:4: PerformanceWarning: DataFrame is highly fragmented.  This is usually the result of calling `frame.insert` many times, which has poor performance.  Consider joining all columns at once using pd.concat(axis=1) instead. To get a de-fragmented frame, use `newframe = frame.copy()`\n",
      "  data['%s_dv_%s'%(a,b)] = data[a]/data[b]\n",
      "C:\\Users\\hhz20\\AppData\\Local\\Temp\\ipykernel_15092\\1581226005.py:4: PerformanceWarning: DataFrame is highly fragmented.  This is usually the result of calling `frame.insert` many times, which has poor performance.  Consider joining all columns at once using pd.concat(axis=1) instead. To get a de-fragmented frame, use `newframe = frame.copy()`\n",
      "  data['%s_dv_%s'%(a,b)] = data[a]/data[b]\n",
      "C:\\Users\\hhz20\\AppData\\Local\\Temp\\ipykernel_15092\\1581226005.py:4: PerformanceWarning: DataFrame is highly fragmented.  This is usually the result of calling `frame.insert` many times, which has poor performance.  Consider joining all columns at once using pd.concat(axis=1) instead. To get a de-fragmented frame, use `newframe = frame.copy()`\n",
      "  data['%s_dv_%s'%(a,b)] = data[a]/data[b]\n",
      "C:\\Users\\hhz20\\AppData\\Local\\Temp\\ipykernel_15092\\1581226005.py:4: PerformanceWarning: DataFrame is highly fragmented.  This is usually the result of calling `frame.insert` many times, which has poor performance.  Consider joining all columns at once using pd.concat(axis=1) instead. To get a de-fragmented frame, use `newframe = frame.copy()`\n",
      "  data['%s_dv_%s'%(a,b)] = data[a]/data[b]\n",
      "C:\\Users\\hhz20\\AppData\\Local\\Temp\\ipykernel_15092\\1581226005.py:4: PerformanceWarning: DataFrame is highly fragmented.  This is usually the result of calling `frame.insert` many times, which has poor performance.  Consider joining all columns at once using pd.concat(axis=1) instead. To get a de-fragmented frame, use `newframe = frame.copy()`\n",
      "  data['%s_dv_%s'%(a,b)] = data[a]/data[b]\n",
      "C:\\Users\\hhz20\\AppData\\Local\\Temp\\ipykernel_15092\\1581226005.py:4: PerformanceWarning: DataFrame is highly fragmented.  This is usually the result of calling `frame.insert` many times, which has poor performance.  Consider joining all columns at once using pd.concat(axis=1) instead. To get a de-fragmented frame, use `newframe = frame.copy()`\n",
      "  data['%s_dv_%s'%(a,b)] = data[a]/data[b]\n",
      "C:\\Users\\hhz20\\AppData\\Local\\Temp\\ipykernel_15092\\1581226005.py:4: PerformanceWarning: DataFrame is highly fragmented.  This is usually the result of calling `frame.insert` many times, which has poor performance.  Consider joining all columns at once using pd.concat(axis=1) instead. To get a de-fragmented frame, use `newframe = frame.copy()`\n",
      "  data['%s_dv_%s'%(a,b)] = data[a]/data[b]\n",
      "C:\\Users\\hhz20\\AppData\\Local\\Temp\\ipykernel_15092\\1581226005.py:4: PerformanceWarning: DataFrame is highly fragmented.  This is usually the result of calling `frame.insert` many times, which has poor performance.  Consider joining all columns at once using pd.concat(axis=1) instead. To get a de-fragmented frame, use `newframe = frame.copy()`\n",
      "  data['%s_dv_%s'%(a,b)] = data[a]/data[b]\n",
      "C:\\Users\\hhz20\\AppData\\Local\\Temp\\ipykernel_15092\\1581226005.py:4: PerformanceWarning: DataFrame is highly fragmented.  This is usually the result of calling `frame.insert` many times, which has poor performance.  Consider joining all columns at once using pd.concat(axis=1) instead. To get a de-fragmented frame, use `newframe = frame.copy()`\n",
      "  data['%s_dv_%s'%(a,b)] = data[a]/data[b]\n",
      "C:\\Users\\hhz20\\AppData\\Local\\Temp\\ipykernel_15092\\1581226005.py:4: PerformanceWarning: DataFrame is highly fragmented.  This is usually the result of calling `frame.insert` many times, which has poor performance.  Consider joining all columns at once using pd.concat(axis=1) instead. To get a de-fragmented frame, use `newframe = frame.copy()`\n",
      "  data['%s_dv_%s'%(a,b)] = data[a]/data[b]\n",
      "C:\\Users\\hhz20\\AppData\\Local\\Temp\\ipykernel_15092\\1581226005.py:4: PerformanceWarning: DataFrame is highly fragmented.  This is usually the result of calling `frame.insert` many times, which has poor performance.  Consider joining all columns at once using pd.concat(axis=1) instead. To get a de-fragmented frame, use `newframe = frame.copy()`\n",
      "  data['%s_dv_%s'%(a,b)] = data[a]/data[b]\n",
      "C:\\Users\\hhz20\\AppData\\Local\\Temp\\ipykernel_15092\\1581226005.py:4: PerformanceWarning: DataFrame is highly fragmented.  This is usually the result of calling `frame.insert` many times, which has poor performance.  Consider joining all columns at once using pd.concat(axis=1) instead. To get a de-fragmented frame, use `newframe = frame.copy()`\n",
      "  data['%s_dv_%s'%(a,b)] = data[a]/data[b]\n",
      "C:\\Users\\hhz20\\AppData\\Local\\Temp\\ipykernel_15092\\1581226005.py:4: PerformanceWarning: DataFrame is highly fragmented.  This is usually the result of calling `frame.insert` many times, which has poor performance.  Consider joining all columns at once using pd.concat(axis=1) instead. To get a de-fragmented frame, use `newframe = frame.copy()`\n",
      "  data['%s_dv_%s'%(a,b)] = data[a]/data[b]\n",
      "C:\\Users\\hhz20\\AppData\\Local\\Temp\\ipykernel_15092\\1581226005.py:4: PerformanceWarning: DataFrame is highly fragmented.  This is usually the result of calling `frame.insert` many times, which has poor performance.  Consider joining all columns at once using pd.concat(axis=1) instead. To get a de-fragmented frame, use `newframe = frame.copy()`\n",
      "  data['%s_dv_%s'%(a,b)] = data[a]/data[b]\n",
      "C:\\Users\\hhz20\\AppData\\Local\\Temp\\ipykernel_15092\\1581226005.py:4: PerformanceWarning: DataFrame is highly fragmented.  This is usually the result of calling `frame.insert` many times, which has poor performance.  Consider joining all columns at once using pd.concat(axis=1) instead. To get a de-fragmented frame, use `newframe = frame.copy()`\n",
      "  data['%s_dv_%s'%(a,b)] = data[a]/data[b]\n",
      "C:\\Users\\hhz20\\AppData\\Local\\Temp\\ipykernel_15092\\1581226005.py:4: PerformanceWarning: DataFrame is highly fragmented.  This is usually the result of calling `frame.insert` many times, which has poor performance.  Consider joining all columns at once using pd.concat(axis=1) instead. To get a de-fragmented frame, use `newframe = frame.copy()`\n",
      "  data['%s_dv_%s'%(a,b)] = data[a]/data[b]\n",
      "C:\\Users\\hhz20\\AppData\\Local\\Temp\\ipykernel_15092\\1581226005.py:4: PerformanceWarning: DataFrame is highly fragmented.  This is usually the result of calling `frame.insert` many times, which has poor performance.  Consider joining all columns at once using pd.concat(axis=1) instead. To get a de-fragmented frame, use `newframe = frame.copy()`\n",
      "  data['%s_dv_%s'%(a,b)] = data[a]/data[b]\n",
      "C:\\Users\\hhz20\\AppData\\Local\\Temp\\ipykernel_15092\\1581226005.py:4: PerformanceWarning: DataFrame is highly fragmented.  This is usually the result of calling `frame.insert` many times, which has poor performance.  Consider joining all columns at once using pd.concat(axis=1) instead. To get a de-fragmented frame, use `newframe = frame.copy()`\n",
      "  data['%s_dv_%s'%(a,b)] = data[a]/data[b]\n",
      "C:\\Users\\hhz20\\AppData\\Local\\Temp\\ipykernel_15092\\1581226005.py:4: PerformanceWarning: DataFrame is highly fragmented.  This is usually the result of calling `frame.insert` many times, which has poor performance.  Consider joining all columns at once using pd.concat(axis=1) instead. To get a de-fragmented frame, use `newframe = frame.copy()`\n",
      "  data['%s_dv_%s'%(a,b)] = data[a]/data[b]\n",
      "C:\\Users\\hhz20\\AppData\\Local\\Temp\\ipykernel_15092\\1581226005.py:4: PerformanceWarning: DataFrame is highly fragmented.  This is usually the result of calling `frame.insert` many times, which has poor performance.  Consider joining all columns at once using pd.concat(axis=1) instead. To get a de-fragmented frame, use `newframe = frame.copy()`\n",
      "  data['%s_dv_%s'%(a,b)] = data[a]/data[b]\n",
      "C:\\Users\\hhz20\\AppData\\Local\\Temp\\ipykernel_15092\\1581226005.py:4: PerformanceWarning: DataFrame is highly fragmented.  This is usually the result of calling `frame.insert` many times, which has poor performance.  Consider joining all columns at once using pd.concat(axis=1) instead. To get a de-fragmented frame, use `newframe = frame.copy()`\n",
      "  data['%s_dv_%s'%(a,b)] = data[a]/data[b]\n",
      "C:\\Users\\hhz20\\AppData\\Local\\Temp\\ipykernel_15092\\1581226005.py:4: PerformanceWarning: DataFrame is highly fragmented.  This is usually the result of calling `frame.insert` many times, which has poor performance.  Consider joining all columns at once using pd.concat(axis=1) instead. To get a de-fragmented frame, use `newframe = frame.copy()`\n",
      "  data['%s_dv_%s'%(a,b)] = data[a]/data[b]\n",
      "C:\\Users\\hhz20\\AppData\\Local\\Temp\\ipykernel_15092\\1581226005.py:4: PerformanceWarning: DataFrame is highly fragmented.  This is usually the result of calling `frame.insert` many times, which has poor performance.  Consider joining all columns at once using pd.concat(axis=1) instead. To get a de-fragmented frame, use `newframe = frame.copy()`\n",
      "  data['%s_dv_%s'%(a,b)] = data[a]/data[b]\n",
      "C:\\Users\\hhz20\\AppData\\Local\\Temp\\ipykernel_15092\\1581226005.py:4: PerformanceWarning: DataFrame is highly fragmented.  This is usually the result of calling `frame.insert` many times, which has poor performance.  Consider joining all columns at once using pd.concat(axis=1) instead. To get a de-fragmented frame, use `newframe = frame.copy()`\n",
      "  data['%s_dv_%s'%(a,b)] = data[a]/data[b]\n",
      "C:\\Users\\hhz20\\AppData\\Local\\Temp\\ipykernel_15092\\1581226005.py:4: PerformanceWarning: DataFrame is highly fragmented.  This is usually the result of calling `frame.insert` many times, which has poor performance.  Consider joining all columns at once using pd.concat(axis=1) instead. To get a de-fragmented frame, use `newframe = frame.copy()`\n",
      "  data['%s_dv_%s'%(a,b)] = data[a]/data[b]\n",
      "C:\\Users\\hhz20\\AppData\\Local\\Temp\\ipykernel_15092\\1581226005.py:4: PerformanceWarning: DataFrame is highly fragmented.  This is usually the result of calling `frame.insert` many times, which has poor performance.  Consider joining all columns at once using pd.concat(axis=1) instead. To get a de-fragmented frame, use `newframe = frame.copy()`\n",
      "  data['%s_dv_%s'%(a,b)] = data[a]/data[b]\n",
      "C:\\Users\\hhz20\\AppData\\Local\\Temp\\ipykernel_15092\\1581226005.py:4: PerformanceWarning: DataFrame is highly fragmented.  This is usually the result of calling `frame.insert` many times, which has poor performance.  Consider joining all columns at once using pd.concat(axis=1) instead. To get a de-fragmented frame, use `newframe = frame.copy()`\n",
      "  data['%s_dv_%s'%(a,b)] = data[a]/data[b]\n",
      "C:\\Users\\hhz20\\AppData\\Local\\Temp\\ipykernel_15092\\1581226005.py:4: PerformanceWarning: DataFrame is highly fragmented.  This is usually the result of calling `frame.insert` many times, which has poor performance.  Consider joining all columns at once using pd.concat(axis=1) instead. To get a de-fragmented frame, use `newframe = frame.copy()`\n",
      "  data['%s_dv_%s'%(a,b)] = data[a]/data[b]\n",
      "C:\\Users\\hhz20\\AppData\\Local\\Temp\\ipykernel_15092\\1581226005.py:4: PerformanceWarning: DataFrame is highly fragmented.  This is usually the result of calling `frame.insert` many times, which has poor performance.  Consider joining all columns at once using pd.concat(axis=1) instead. To get a de-fragmented frame, use `newframe = frame.copy()`\n",
      "  data['%s_dv_%s'%(a,b)] = data[a]/data[b]\n",
      "C:\\Users\\hhz20\\AppData\\Local\\Temp\\ipykernel_15092\\1581226005.py:4: PerformanceWarning: DataFrame is highly fragmented.  This is usually the result of calling `frame.insert` many times, which has poor performance.  Consider joining all columns at once using pd.concat(axis=1) instead. To get a de-fragmented frame, use `newframe = frame.copy()`\n",
      "  data['%s_dv_%s'%(a,b)] = data[a]/data[b]\n",
      "C:\\Users\\hhz20\\AppData\\Local\\Temp\\ipykernel_15092\\1581226005.py:4: PerformanceWarning: DataFrame is highly fragmented.  This is usually the result of calling `frame.insert` many times, which has poor performance.  Consider joining all columns at once using pd.concat(axis=1) instead. To get a de-fragmented frame, use `newframe = frame.copy()`\n",
      "  data['%s_dv_%s'%(a,b)] = data[a]/data[b]\n",
      "C:\\Users\\hhz20\\AppData\\Local\\Temp\\ipykernel_15092\\1581226005.py:4: PerformanceWarning: DataFrame is highly fragmented.  This is usually the result of calling `frame.insert` many times, which has poor performance.  Consider joining all columns at once using pd.concat(axis=1) instead. To get a de-fragmented frame, use `newframe = frame.copy()`\n",
      "  data['%s_dv_%s'%(a,b)] = data[a]/data[b]\n",
      "C:\\Users\\hhz20\\AppData\\Local\\Temp\\ipykernel_15092\\1581226005.py:4: PerformanceWarning: DataFrame is highly fragmented.  This is usually the result of calling `frame.insert` many times, which has poor performance.  Consider joining all columns at once using pd.concat(axis=1) instead. To get a de-fragmented frame, use `newframe = frame.copy()`\n",
      "  data['%s_dv_%s'%(a,b)] = data[a]/data[b]\n",
      "C:\\Users\\hhz20\\AppData\\Local\\Temp\\ipykernel_15092\\1581226005.py:4: PerformanceWarning: DataFrame is highly fragmented.  This is usually the result of calling `frame.insert` many times, which has poor performance.  Consider joining all columns at once using pd.concat(axis=1) instead. To get a de-fragmented frame, use `newframe = frame.copy()`\n",
      "  data['%s_dv_%s'%(a,b)] = data[a]/data[b]\n",
      "C:\\Users\\hhz20\\AppData\\Local\\Temp\\ipykernel_15092\\1581226005.py:4: PerformanceWarning: DataFrame is highly fragmented.  This is usually the result of calling `frame.insert` many times, which has poor performance.  Consider joining all columns at once using pd.concat(axis=1) instead. To get a de-fragmented frame, use `newframe = frame.copy()`\n",
      "  data['%s_dv_%s'%(a,b)] = data[a]/data[b]\n",
      "C:\\Users\\hhz20\\AppData\\Local\\Temp\\ipykernel_15092\\1581226005.py:4: PerformanceWarning: DataFrame is highly fragmented.  This is usually the result of calling `frame.insert` many times, which has poor performance.  Consider joining all columns at once using pd.concat(axis=1) instead. To get a de-fragmented frame, use `newframe = frame.copy()`\n",
      "  data['%s_dv_%s'%(a,b)] = data[a]/data[b]\n",
      "C:\\Users\\hhz20\\AppData\\Local\\Temp\\ipykernel_15092\\1581226005.py:4: PerformanceWarning: DataFrame is highly fragmented.  This is usually the result of calling `frame.insert` many times, which has poor performance.  Consider joining all columns at once using pd.concat(axis=1) instead. To get a de-fragmented frame, use `newframe = frame.copy()`\n",
      "  data['%s_dv_%s'%(a,b)] = data[a]/data[b]\n",
      "C:\\Users\\hhz20\\AppData\\Local\\Temp\\ipykernel_15092\\1581226005.py:4: PerformanceWarning: DataFrame is highly fragmented.  This is usually the result of calling `frame.insert` many times, which has poor performance.  Consider joining all columns at once using pd.concat(axis=1) instead. To get a de-fragmented frame, use `newframe = frame.copy()`\n",
      "  data['%s_dv_%s'%(a,b)] = data[a]/data[b]\n",
      "C:\\Users\\hhz20\\AppData\\Local\\Temp\\ipykernel_15092\\1581226005.py:4: PerformanceWarning: DataFrame is highly fragmented.  This is usually the result of calling `frame.insert` many times, which has poor performance.  Consider joining all columns at once using pd.concat(axis=1) instead. To get a de-fragmented frame, use `newframe = frame.copy()`\n",
      "  data['%s_dv_%s'%(a,b)] = data[a]/data[b]\n",
      "C:\\Users\\hhz20\\AppData\\Local\\Temp\\ipykernel_15092\\1581226005.py:4: PerformanceWarning: DataFrame is highly fragmented.  This is usually the result of calling `frame.insert` many times, which has poor performance.  Consider joining all columns at once using pd.concat(axis=1) instead. To get a de-fragmented frame, use `newframe = frame.copy()`\n",
      "  data['%s_dv_%s'%(a,b)] = data[a]/data[b]\n",
      "C:\\Users\\hhz20\\AppData\\Local\\Temp\\ipykernel_15092\\1581226005.py:4: PerformanceWarning: DataFrame is highly fragmented.  This is usually the result of calling `frame.insert` many times, which has poor performance.  Consider joining all columns at once using pd.concat(axis=1) instead. To get a de-fragmented frame, use `newframe = frame.copy()`\n",
      "  data['%s_dv_%s'%(a,b)] = data[a]/data[b]\n",
      "C:\\Users\\hhz20\\AppData\\Local\\Temp\\ipykernel_15092\\1581226005.py:4: PerformanceWarning: DataFrame is highly fragmented.  This is usually the result of calling `frame.insert` many times, which has poor performance.  Consider joining all columns at once using pd.concat(axis=1) instead. To get a de-fragmented frame, use `newframe = frame.copy()`\n",
      "  data['%s_dv_%s'%(a,b)] = data[a]/data[b]\n",
      "C:\\Users\\hhz20\\AppData\\Local\\Temp\\ipykernel_15092\\1581226005.py:4: PerformanceWarning: DataFrame is highly fragmented.  This is usually the result of calling `frame.insert` many times, which has poor performance.  Consider joining all columns at once using pd.concat(axis=1) instead. To get a de-fragmented frame, use `newframe = frame.copy()`\n",
      "  data['%s_dv_%s'%(a,b)] = data[a]/data[b]\n",
      "C:\\Users\\hhz20\\AppData\\Local\\Temp\\ipykernel_15092\\1581226005.py:4: PerformanceWarning: DataFrame is highly fragmented.  This is usually the result of calling `frame.insert` many times, which has poor performance.  Consider joining all columns at once using pd.concat(axis=1) instead. To get a de-fragmented frame, use `newframe = frame.copy()`\n",
      "  data['%s_dv_%s'%(a,b)] = data[a]/data[b]\n",
      "C:\\Users\\hhz20\\AppData\\Local\\Temp\\ipykernel_15092\\1581226005.py:4: PerformanceWarning: DataFrame is highly fragmented.  This is usually the result of calling `frame.insert` many times, which has poor performance.  Consider joining all columns at once using pd.concat(axis=1) instead. To get a de-fragmented frame, use `newframe = frame.copy()`\n",
      "  data['%s_dv_%s'%(a,b)] = data[a]/data[b]\n",
      "C:\\Users\\hhz20\\AppData\\Local\\Temp\\ipykernel_15092\\1581226005.py:4: PerformanceWarning: DataFrame is highly fragmented.  This is usually the result of calling `frame.insert` many times, which has poor performance.  Consider joining all columns at once using pd.concat(axis=1) instead. To get a de-fragmented frame, use `newframe = frame.copy()`\n",
      "  data['%s_dv_%s'%(a,b)] = data[a]/data[b]\n",
      "C:\\Users\\hhz20\\AppData\\Local\\Temp\\ipykernel_15092\\1581226005.py:4: PerformanceWarning: DataFrame is highly fragmented.  This is usually the result of calling `frame.insert` many times, which has poor performance.  Consider joining all columns at once using pd.concat(axis=1) instead. To get a de-fragmented frame, use `newframe = frame.copy()`\n",
      "  data['%s_dv_%s'%(a,b)] = data[a]/data[b]\n",
      "C:\\Users\\hhz20\\AppData\\Local\\Temp\\ipykernel_15092\\1581226005.py:4: PerformanceWarning: DataFrame is highly fragmented.  This is usually the result of calling `frame.insert` many times, which has poor performance.  Consider joining all columns at once using pd.concat(axis=1) instead. To get a de-fragmented frame, use `newframe = frame.copy()`\n",
      "  data['%s_dv_%s'%(a,b)] = data[a]/data[b]\n",
      "C:\\Users\\hhz20\\AppData\\Local\\Temp\\ipykernel_15092\\1581226005.py:4: PerformanceWarning: DataFrame is highly fragmented.  This is usually the result of calling `frame.insert` many times, which has poor performance.  Consider joining all columns at once using pd.concat(axis=1) instead. To get a de-fragmented frame, use `newframe = frame.copy()`\n",
      "  data['%s_dv_%s'%(a,b)] = data[a]/data[b]\n",
      "C:\\Users\\hhz20\\AppData\\Local\\Temp\\ipykernel_15092\\1581226005.py:4: PerformanceWarning: DataFrame is highly fragmented.  This is usually the result of calling `frame.insert` many times, which has poor performance.  Consider joining all columns at once using pd.concat(axis=1) instead. To get a de-fragmented frame, use `newframe = frame.copy()`\n",
      "  data['%s_dv_%s'%(a,b)] = data[a]/data[b]\n",
      "C:\\Users\\hhz20\\AppData\\Local\\Temp\\ipykernel_15092\\1581226005.py:4: PerformanceWarning: DataFrame is highly fragmented.  This is usually the result of calling `frame.insert` many times, which has poor performance.  Consider joining all columns at once using pd.concat(axis=1) instead. To get a de-fragmented frame, use `newframe = frame.copy()`\n",
      "  data['%s_dv_%s'%(a,b)] = data[a]/data[b]\n",
      "C:\\Users\\hhz20\\AppData\\Local\\Temp\\ipykernel_15092\\1581226005.py:4: PerformanceWarning: DataFrame is highly fragmented.  This is usually the result of calling `frame.insert` many times, which has poor performance.  Consider joining all columns at once using pd.concat(axis=1) instead. To get a de-fragmented frame, use `newframe = frame.copy()`\n",
      "  data['%s_dv_%s'%(a,b)] = data[a]/data[b]\n",
      "C:\\Users\\hhz20\\AppData\\Local\\Temp\\ipykernel_15092\\1581226005.py:4: PerformanceWarning: DataFrame is highly fragmented.  This is usually the result of calling `frame.insert` many times, which has poor performance.  Consider joining all columns at once using pd.concat(axis=1) instead. To get a de-fragmented frame, use `newframe = frame.copy()`\n",
      "  data['%s_dv_%s'%(a,b)] = data[a]/data[b]\n",
      "C:\\Users\\hhz20\\AppData\\Local\\Temp\\ipykernel_15092\\1581226005.py:4: PerformanceWarning: DataFrame is highly fragmented.  This is usually the result of calling `frame.insert` many times, which has poor performance.  Consider joining all columns at once using pd.concat(axis=1) instead. To get a de-fragmented frame, use `newframe = frame.copy()`\n",
      "  data['%s_dv_%s'%(a,b)] = data[a]/data[b]\n",
      "C:\\Users\\hhz20\\AppData\\Local\\Temp\\ipykernel_15092\\1581226005.py:4: PerformanceWarning: DataFrame is highly fragmented.  This is usually the result of calling `frame.insert` many times, which has poor performance.  Consider joining all columns at once using pd.concat(axis=1) instead. To get a de-fragmented frame, use `newframe = frame.copy()`\n",
      "  data['%s_dv_%s'%(a,b)] = data[a]/data[b]\n",
      "C:\\Users\\hhz20\\AppData\\Local\\Temp\\ipykernel_15092\\1581226005.py:4: PerformanceWarning: DataFrame is highly fragmented.  This is usually the result of calling `frame.insert` many times, which has poor performance.  Consider joining all columns at once using pd.concat(axis=1) instead. To get a de-fragmented frame, use `newframe = frame.copy()`\n",
      "  data['%s_dv_%s'%(a,b)] = data[a]/data[b]\n",
      "C:\\Users\\hhz20\\AppData\\Local\\Temp\\ipykernel_15092\\1581226005.py:4: PerformanceWarning: DataFrame is highly fragmented.  This is usually the result of calling `frame.insert` many times, which has poor performance.  Consider joining all columns at once using pd.concat(axis=1) instead. To get a de-fragmented frame, use `newframe = frame.copy()`\n",
      "  data['%s_dv_%s'%(a,b)] = data[a]/data[b]\n",
      "C:\\Users\\hhz20\\AppData\\Local\\Temp\\ipykernel_15092\\1581226005.py:4: PerformanceWarning: DataFrame is highly fragmented.  This is usually the result of calling `frame.insert` many times, which has poor performance.  Consider joining all columns at once using pd.concat(axis=1) instead. To get a de-fragmented frame, use `newframe = frame.copy()`\n",
      "  data['%s_dv_%s'%(a,b)] = data[a]/data[b]\n",
      "C:\\Users\\hhz20\\AppData\\Local\\Temp\\ipykernel_15092\\1581226005.py:4: PerformanceWarning: DataFrame is highly fragmented.  This is usually the result of calling `frame.insert` many times, which has poor performance.  Consider joining all columns at once using pd.concat(axis=1) instead. To get a de-fragmented frame, use `newframe = frame.copy()`\n",
      "  data['%s_dv_%s'%(a,b)] = data[a]/data[b]\n",
      "C:\\Users\\hhz20\\AppData\\Local\\Temp\\ipykernel_15092\\1581226005.py:4: PerformanceWarning: DataFrame is highly fragmented.  This is usually the result of calling `frame.insert` many times, which has poor performance.  Consider joining all columns at once using pd.concat(axis=1) instead. To get a de-fragmented frame, use `newframe = frame.copy()`\n",
      "  data['%s_dv_%s'%(a,b)] = data[a]/data[b]\n",
      "C:\\Users\\hhz20\\AppData\\Local\\Temp\\ipykernel_15092\\1581226005.py:4: PerformanceWarning: DataFrame is highly fragmented.  This is usually the result of calling `frame.insert` many times, which has poor performance.  Consider joining all columns at once using pd.concat(axis=1) instead. To get a de-fragmented frame, use `newframe = frame.copy()`\n",
      "  data['%s_dv_%s'%(a,b)] = data[a]/data[b]\n",
      "C:\\Users\\hhz20\\AppData\\Local\\Temp\\ipykernel_15092\\1581226005.py:4: PerformanceWarning: DataFrame is highly fragmented.  This is usually the result of calling `frame.insert` many times, which has poor performance.  Consider joining all columns at once using pd.concat(axis=1) instead. To get a de-fragmented frame, use `newframe = frame.copy()`\n",
      "  data['%s_dv_%s'%(a,b)] = data[a]/data[b]\n",
      "C:\\Users\\hhz20\\AppData\\Local\\Temp\\ipykernel_15092\\1581226005.py:4: PerformanceWarning: DataFrame is highly fragmented.  This is usually the result of calling `frame.insert` many times, which has poor performance.  Consider joining all columns at once using pd.concat(axis=1) instead. To get a de-fragmented frame, use `newframe = frame.copy()`\n",
      "  data['%s_dv_%s'%(a,b)] = data[a]/data[b]\n",
      "C:\\Users\\hhz20\\AppData\\Local\\Temp\\ipykernel_15092\\1581226005.py:4: PerformanceWarning: DataFrame is highly fragmented.  This is usually the result of calling `frame.insert` many times, which has poor performance.  Consider joining all columns at once using pd.concat(axis=1) instead. To get a de-fragmented frame, use `newframe = frame.copy()`\n",
      "  data['%s_dv_%s'%(a,b)] = data[a]/data[b]\n",
      "C:\\Users\\hhz20\\AppData\\Local\\Temp\\ipykernel_15092\\1581226005.py:4: PerformanceWarning: DataFrame is highly fragmented.  This is usually the result of calling `frame.insert` many times, which has poor performance.  Consider joining all columns at once using pd.concat(axis=1) instead. To get a de-fragmented frame, use `newframe = frame.copy()`\n",
      "  data['%s_dv_%s'%(a,b)] = data[a]/data[b]\n",
      "C:\\Users\\hhz20\\AppData\\Local\\Temp\\ipykernel_15092\\1581226005.py:4: PerformanceWarning: DataFrame is highly fragmented.  This is usually the result of calling `frame.insert` many times, which has poor performance.  Consider joining all columns at once using pd.concat(axis=1) instead. To get a de-fragmented frame, use `newframe = frame.copy()`\n",
      "  data['%s_dv_%s'%(a,b)] = data[a]/data[b]\n",
      "C:\\Users\\hhz20\\AppData\\Local\\Temp\\ipykernel_15092\\1581226005.py:4: PerformanceWarning: DataFrame is highly fragmented.  This is usually the result of calling `frame.insert` many times, which has poor performance.  Consider joining all columns at once using pd.concat(axis=1) instead. To get a de-fragmented frame, use `newframe = frame.copy()`\n",
      "  data['%s_dv_%s'%(a,b)] = data[a]/data[b]\n",
      "C:\\Users\\hhz20\\AppData\\Local\\Temp\\ipykernel_15092\\1581226005.py:4: PerformanceWarning: DataFrame is highly fragmented.  This is usually the result of calling `frame.insert` many times, which has poor performance.  Consider joining all columns at once using pd.concat(axis=1) instead. To get a de-fragmented frame, use `newframe = frame.copy()`\n",
      "  data['%s_dv_%s'%(a,b)] = data[a]/data[b]\n",
      "C:\\Users\\hhz20\\AppData\\Local\\Temp\\ipykernel_15092\\1581226005.py:4: PerformanceWarning: DataFrame is highly fragmented.  This is usually the result of calling `frame.insert` many times, which has poor performance.  Consider joining all columns at once using pd.concat(axis=1) instead. To get a de-fragmented frame, use `newframe = frame.copy()`\n",
      "  data['%s_dv_%s'%(a,b)] = data[a]/data[b]\n",
      "C:\\Users\\hhz20\\AppData\\Local\\Temp\\ipykernel_15092\\1581226005.py:4: PerformanceWarning: DataFrame is highly fragmented.  This is usually the result of calling `frame.insert` many times, which has poor performance.  Consider joining all columns at once using pd.concat(axis=1) instead. To get a de-fragmented frame, use `newframe = frame.copy()`\n",
      "  data['%s_dv_%s'%(a,b)] = data[a]/data[b]\n",
      "C:\\Users\\hhz20\\AppData\\Local\\Temp\\ipykernel_15092\\1581226005.py:4: PerformanceWarning: DataFrame is highly fragmented.  This is usually the result of calling `frame.insert` many times, which has poor performance.  Consider joining all columns at once using pd.concat(axis=1) instead. To get a de-fragmented frame, use `newframe = frame.copy()`\n",
      "  data['%s_dv_%s'%(a,b)] = data[a]/data[b]\n",
      "C:\\Users\\hhz20\\AppData\\Local\\Temp\\ipykernel_15092\\1581226005.py:4: PerformanceWarning: DataFrame is highly fragmented.  This is usually the result of calling `frame.insert` many times, which has poor performance.  Consider joining all columns at once using pd.concat(axis=1) instead. To get a de-fragmented frame, use `newframe = frame.copy()`\n",
      "  data['%s_dv_%s'%(a,b)] = data[a]/data[b]\n",
      "C:\\Users\\hhz20\\AppData\\Local\\Temp\\ipykernel_15092\\1581226005.py:4: PerformanceWarning: DataFrame is highly fragmented.  This is usually the result of calling `frame.insert` many times, which has poor performance.  Consider joining all columns at once using pd.concat(axis=1) instead. To get a de-fragmented frame, use `newframe = frame.copy()`\n",
      "  data['%s_dv_%s'%(a,b)] = data[a]/data[b]\n",
      "C:\\Users\\hhz20\\AppData\\Local\\Temp\\ipykernel_15092\\1581226005.py:4: PerformanceWarning: DataFrame is highly fragmented.  This is usually the result of calling `frame.insert` many times, which has poor performance.  Consider joining all columns at once using pd.concat(axis=1) instead. To get a de-fragmented frame, use `newframe = frame.copy()`\n",
      "  data['%s_dv_%s'%(a,b)] = data[a]/data[b]\n",
      "C:\\Users\\hhz20\\AppData\\Local\\Temp\\ipykernel_15092\\1581226005.py:4: PerformanceWarning: DataFrame is highly fragmented.  This is usually the result of calling `frame.insert` many times, which has poor performance.  Consider joining all columns at once using pd.concat(axis=1) instead. To get a de-fragmented frame, use `newframe = frame.copy()`\n",
      "  data['%s_dv_%s'%(a,b)] = data[a]/data[b]\n",
      "C:\\Users\\hhz20\\AppData\\Local\\Temp\\ipykernel_15092\\1581226005.py:4: PerformanceWarning: DataFrame is highly fragmented.  This is usually the result of calling `frame.insert` many times, which has poor performance.  Consider joining all columns at once using pd.concat(axis=1) instead. To get a de-fragmented frame, use `newframe = frame.copy()`\n",
      "  data['%s_dv_%s'%(a,b)] = data[a]/data[b]\n",
      "C:\\Users\\hhz20\\AppData\\Local\\Temp\\ipykernel_15092\\1581226005.py:4: PerformanceWarning: DataFrame is highly fragmented.  This is usually the result of calling `frame.insert` many times, which has poor performance.  Consider joining all columns at once using pd.concat(axis=1) instead. To get a de-fragmented frame, use `newframe = frame.copy()`\n",
      "  data['%s_dv_%s'%(a,b)] = data[a]/data[b]\n",
      "C:\\Users\\hhz20\\AppData\\Local\\Temp\\ipykernel_15092\\1581226005.py:4: PerformanceWarning: DataFrame is highly fragmented.  This is usually the result of calling `frame.insert` many times, which has poor performance.  Consider joining all columns at once using pd.concat(axis=1) instead. To get a de-fragmented frame, use `newframe = frame.copy()`\n",
      "  data['%s_dv_%s'%(a,b)] = data[a]/data[b]\n",
      "C:\\Users\\hhz20\\AppData\\Local\\Temp\\ipykernel_15092\\1581226005.py:4: PerformanceWarning: DataFrame is highly fragmented.  This is usually the result of calling `frame.insert` many times, which has poor performance.  Consider joining all columns at once using pd.concat(axis=1) instead. To get a de-fragmented frame, use `newframe = frame.copy()`\n",
      "  data['%s_dv_%s'%(a,b)] = data[a]/data[b]\n",
      "C:\\Users\\hhz20\\AppData\\Local\\Temp\\ipykernel_15092\\1581226005.py:4: PerformanceWarning: DataFrame is highly fragmented.  This is usually the result of calling `frame.insert` many times, which has poor performance.  Consider joining all columns at once using pd.concat(axis=1) instead. To get a de-fragmented frame, use `newframe = frame.copy()`\n",
      "  data['%s_dv_%s'%(a,b)] = data[a]/data[b]\n",
      "C:\\Users\\hhz20\\AppData\\Local\\Temp\\ipykernel_15092\\1581226005.py:4: PerformanceWarning: DataFrame is highly fragmented.  This is usually the result of calling `frame.insert` many times, which has poor performance.  Consider joining all columns at once using pd.concat(axis=1) instead. To get a de-fragmented frame, use `newframe = frame.copy()`\n",
      "  data['%s_dv_%s'%(a,b)] = data[a]/data[b]\n",
      "C:\\Users\\hhz20\\AppData\\Local\\Temp\\ipykernel_15092\\1581226005.py:4: PerformanceWarning: DataFrame is highly fragmented.  This is usually the result of calling `frame.insert` many times, which has poor performance.  Consider joining all columns at once using pd.concat(axis=1) instead. To get a de-fragmented frame, use `newframe = frame.copy()`\n",
      "  data['%s_dv_%s'%(a,b)] = data[a]/data[b]\n",
      "C:\\Users\\hhz20\\AppData\\Local\\Temp\\ipykernel_15092\\1581226005.py:4: PerformanceWarning: DataFrame is highly fragmented.  This is usually the result of calling `frame.insert` many times, which has poor performance.  Consider joining all columns at once using pd.concat(axis=1) instead. To get a de-fragmented frame, use `newframe = frame.copy()`\n",
      "  data['%s_dv_%s'%(a,b)] = data[a]/data[b]\n",
      "C:\\Users\\hhz20\\AppData\\Local\\Temp\\ipykernel_15092\\1581226005.py:4: PerformanceWarning: DataFrame is highly fragmented.  This is usually the result of calling `frame.insert` many times, which has poor performance.  Consider joining all columns at once using pd.concat(axis=1) instead. To get a de-fragmented frame, use `newframe = frame.copy()`\n",
      "  data['%s_dv_%s'%(a,b)] = data[a]/data[b]\n",
      "C:\\Users\\hhz20\\AppData\\Local\\Temp\\ipykernel_15092\\1581226005.py:4: PerformanceWarning: DataFrame is highly fragmented.  This is usually the result of calling `frame.insert` many times, which has poor performance.  Consider joining all columns at once using pd.concat(axis=1) instead. To get a de-fragmented frame, use `newframe = frame.copy()`\n",
      "  data['%s_dv_%s'%(a,b)] = data[a]/data[b]\n",
      "C:\\Users\\hhz20\\AppData\\Local\\Temp\\ipykernel_15092\\1581226005.py:4: PerformanceWarning: DataFrame is highly fragmented.  This is usually the result of calling `frame.insert` many times, which has poor performance.  Consider joining all columns at once using pd.concat(axis=1) instead. To get a de-fragmented frame, use `newframe = frame.copy()`\n",
      "  data['%s_dv_%s'%(a,b)] = data[a]/data[b]\n",
      "C:\\Users\\hhz20\\AppData\\Local\\Temp\\ipykernel_15092\\1581226005.py:4: PerformanceWarning: DataFrame is highly fragmented.  This is usually the result of calling `frame.insert` many times, which has poor performance.  Consider joining all columns at once using pd.concat(axis=1) instead. To get a de-fragmented frame, use `newframe = frame.copy()`\n",
      "  data['%s_dv_%s'%(a,b)] = data[a]/data[b]\n",
      "C:\\Users\\hhz20\\AppData\\Local\\Temp\\ipykernel_15092\\1581226005.py:4: PerformanceWarning: DataFrame is highly fragmented.  This is usually the result of calling `frame.insert` many times, which has poor performance.  Consider joining all columns at once using pd.concat(axis=1) instead. To get a de-fragmented frame, use `newframe = frame.copy()`\n",
      "  data['%s_dv_%s'%(a,b)] = data[a]/data[b]\n",
      "C:\\Users\\hhz20\\AppData\\Local\\Temp\\ipykernel_15092\\1581226005.py:4: PerformanceWarning: DataFrame is highly fragmented.  This is usually the result of calling `frame.insert` many times, which has poor performance.  Consider joining all columns at once using pd.concat(axis=1) instead. To get a de-fragmented frame, use `newframe = frame.copy()`\n",
      "  data['%s_dv_%s'%(a,b)] = data[a]/data[b]\n",
      "C:\\Users\\hhz20\\AppData\\Local\\Temp\\ipykernel_15092\\1581226005.py:4: PerformanceWarning: DataFrame is highly fragmented.  This is usually the result of calling `frame.insert` many times, which has poor performance.  Consider joining all columns at once using pd.concat(axis=1) instead. To get a de-fragmented frame, use `newframe = frame.copy()`\n",
      "  data['%s_dv_%s'%(a,b)] = data[a]/data[b]\n",
      "C:\\Users\\hhz20\\AppData\\Local\\Temp\\ipykernel_15092\\1581226005.py:4: PerformanceWarning: DataFrame is highly fragmented.  This is usually the result of calling `frame.insert` many times, which has poor performance.  Consider joining all columns at once using pd.concat(axis=1) instead. To get a de-fragmented frame, use `newframe = frame.copy()`\n",
      "  data['%s_dv_%s'%(a,b)] = data[a]/data[b]\n",
      "C:\\Users\\hhz20\\AppData\\Local\\Temp\\ipykernel_15092\\1581226005.py:4: PerformanceWarning: DataFrame is highly fragmented.  This is usually the result of calling `frame.insert` many times, which has poor performance.  Consider joining all columns at once using pd.concat(axis=1) instead. To get a de-fragmented frame, use `newframe = frame.copy()`\n",
      "  data['%s_dv_%s'%(a,b)] = data[a]/data[b]\n",
      "C:\\Users\\hhz20\\AppData\\Local\\Temp\\ipykernel_15092\\1581226005.py:4: PerformanceWarning: DataFrame is highly fragmented.  This is usually the result of calling `frame.insert` many times, which has poor performance.  Consider joining all columns at once using pd.concat(axis=1) instead. To get a de-fragmented frame, use `newframe = frame.copy()`\n",
      "  data['%s_dv_%s'%(a,b)] = data[a]/data[b]\n",
      "C:\\Users\\hhz20\\AppData\\Local\\Temp\\ipykernel_15092\\1581226005.py:4: PerformanceWarning: DataFrame is highly fragmented.  This is usually the result of calling `frame.insert` many times, which has poor performance.  Consider joining all columns at once using pd.concat(axis=1) instead. To get a de-fragmented frame, use `newframe = frame.copy()`\n",
      "  data['%s_dv_%s'%(a,b)] = data[a]/data[b]\n",
      "C:\\Users\\hhz20\\AppData\\Local\\Temp\\ipykernel_15092\\1581226005.py:4: PerformanceWarning: DataFrame is highly fragmented.  This is usually the result of calling `frame.insert` many times, which has poor performance.  Consider joining all columns at once using pd.concat(axis=1) instead. To get a de-fragmented frame, use `newframe = frame.copy()`\n",
      "  data['%s_dv_%s'%(a,b)] = data[a]/data[b]\n",
      "C:\\Users\\hhz20\\AppData\\Local\\Temp\\ipykernel_15092\\1581226005.py:4: PerformanceWarning: DataFrame is highly fragmented.  This is usually the result of calling `frame.insert` many times, which has poor performance.  Consider joining all columns at once using pd.concat(axis=1) instead. To get a de-fragmented frame, use `newframe = frame.copy()`\n",
      "  data['%s_dv_%s'%(a,b)] = data[a]/data[b]\n",
      "C:\\Users\\hhz20\\AppData\\Local\\Temp\\ipykernel_15092\\1581226005.py:4: PerformanceWarning: DataFrame is highly fragmented.  This is usually the result of calling `frame.insert` many times, which has poor performance.  Consider joining all columns at once using pd.concat(axis=1) instead. To get a de-fragmented frame, use `newframe = frame.copy()`\n",
      "  data['%s_dv_%s'%(a,b)] = data[a]/data[b]\n",
      "C:\\Users\\hhz20\\AppData\\Local\\Temp\\ipykernel_15092\\1581226005.py:4: PerformanceWarning: DataFrame is highly fragmented.  This is usually the result of calling `frame.insert` many times, which has poor performance.  Consider joining all columns at once using pd.concat(axis=1) instead. To get a de-fragmented frame, use `newframe = frame.copy()`\n",
      "  data['%s_dv_%s'%(a,b)] = data[a]/data[b]\n",
      "C:\\Users\\hhz20\\AppData\\Local\\Temp\\ipykernel_15092\\1581226005.py:4: PerformanceWarning: DataFrame is highly fragmented.  This is usually the result of calling `frame.insert` many times, which has poor performance.  Consider joining all columns at once using pd.concat(axis=1) instead. To get a de-fragmented frame, use `newframe = frame.copy()`\n",
      "  data['%s_dv_%s'%(a,b)] = data[a]/data[b]\n",
      "C:\\Users\\hhz20\\AppData\\Local\\Temp\\ipykernel_15092\\1581226005.py:4: PerformanceWarning: DataFrame is highly fragmented.  This is usually the result of calling `frame.insert` many times, which has poor performance.  Consider joining all columns at once using pd.concat(axis=1) instead. To get a de-fragmented frame, use `newframe = frame.copy()`\n",
      "  data['%s_dv_%s'%(a,b)] = data[a]/data[b]\n",
      "C:\\Users\\hhz20\\AppData\\Local\\Temp\\ipykernel_15092\\1581226005.py:4: PerformanceWarning: DataFrame is highly fragmented.  This is usually the result of calling `frame.insert` many times, which has poor performance.  Consider joining all columns at once using pd.concat(axis=1) instead. To get a de-fragmented frame, use `newframe = frame.copy()`\n",
      "  data['%s_dv_%s'%(a,b)] = data[a]/data[b]\n",
      "C:\\Users\\hhz20\\AppData\\Local\\Temp\\ipykernel_15092\\1581226005.py:4: PerformanceWarning: DataFrame is highly fragmented.  This is usually the result of calling `frame.insert` many times, which has poor performance.  Consider joining all columns at once using pd.concat(axis=1) instead. To get a de-fragmented frame, use `newframe = frame.copy()`\n",
      "  data['%s_dv_%s'%(a,b)] = data[a]/data[b]\n",
      "C:\\Users\\hhz20\\AppData\\Local\\Temp\\ipykernel_15092\\1581226005.py:4: PerformanceWarning: DataFrame is highly fragmented.  This is usually the result of calling `frame.insert` many times, which has poor performance.  Consider joining all columns at once using pd.concat(axis=1) instead. To get a de-fragmented frame, use `newframe = frame.copy()`\n",
      "  data['%s_dv_%s'%(a,b)] = data[a]/data[b]\n",
      "C:\\Users\\hhz20\\AppData\\Local\\Temp\\ipykernel_15092\\1581226005.py:4: PerformanceWarning: DataFrame is highly fragmented.  This is usually the result of calling `frame.insert` many times, which has poor performance.  Consider joining all columns at once using pd.concat(axis=1) instead. To get a de-fragmented frame, use `newframe = frame.copy()`\n",
      "  data['%s_dv_%s'%(a,b)] = data[a]/data[b]\n",
      "C:\\Users\\hhz20\\AppData\\Local\\Temp\\ipykernel_15092\\1581226005.py:4: PerformanceWarning: DataFrame is highly fragmented.  This is usually the result of calling `frame.insert` many times, which has poor performance.  Consider joining all columns at once using pd.concat(axis=1) instead. To get a de-fragmented frame, use `newframe = frame.copy()`\n",
      "  data['%s_dv_%s'%(a,b)] = data[a]/data[b]\n",
      "C:\\Users\\hhz20\\AppData\\Local\\Temp\\ipykernel_15092\\1581226005.py:4: PerformanceWarning: DataFrame is highly fragmented.  This is usually the result of calling `frame.insert` many times, which has poor performance.  Consider joining all columns at once using pd.concat(axis=1) instead. To get a de-fragmented frame, use `newframe = frame.copy()`\n",
      "  data['%s_dv_%s'%(a,b)] = data[a]/data[b]\n",
      "C:\\Users\\hhz20\\AppData\\Local\\Temp\\ipykernel_15092\\1581226005.py:4: PerformanceWarning: DataFrame is highly fragmented.  This is usually the result of calling `frame.insert` many times, which has poor performance.  Consider joining all columns at once using pd.concat(axis=1) instead. To get a de-fragmented frame, use `newframe = frame.copy()`\n",
      "  data['%s_dv_%s'%(a,b)] = data[a]/data[b]\n",
      "C:\\Users\\hhz20\\AppData\\Local\\Temp\\ipykernel_15092\\1581226005.py:4: PerformanceWarning: DataFrame is highly fragmented.  This is usually the result of calling `frame.insert` many times, which has poor performance.  Consider joining all columns at once using pd.concat(axis=1) instead. To get a de-fragmented frame, use `newframe = frame.copy()`\n",
      "  data['%s_dv_%s'%(a,b)] = data[a]/data[b]\n",
      "C:\\Users\\hhz20\\AppData\\Local\\Temp\\ipykernel_15092\\1581226005.py:4: PerformanceWarning: DataFrame is highly fragmented.  This is usually the result of calling `frame.insert` many times, which has poor performance.  Consider joining all columns at once using pd.concat(axis=1) instead. To get a de-fragmented frame, use `newframe = frame.copy()`\n",
      "  data['%s_dv_%s'%(a,b)] = data[a]/data[b]\n",
      "C:\\Users\\hhz20\\AppData\\Local\\Temp\\ipykernel_15092\\1581226005.py:4: PerformanceWarning: DataFrame is highly fragmented.  This is usually the result of calling `frame.insert` many times, which has poor performance.  Consider joining all columns at once using pd.concat(axis=1) instead. To get a de-fragmented frame, use `newframe = frame.copy()`\n",
      "  data['%s_dv_%s'%(a,b)] = data[a]/data[b]\n",
      "C:\\Users\\hhz20\\AppData\\Local\\Temp\\ipykernel_15092\\1581226005.py:4: PerformanceWarning: DataFrame is highly fragmented.  This is usually the result of calling `frame.insert` many times, which has poor performance.  Consider joining all columns at once using pd.concat(axis=1) instead. To get a de-fragmented frame, use `newframe = frame.copy()`\n",
      "  data['%s_dv_%s'%(a,b)] = data[a]/data[b]\n",
      "C:\\Users\\hhz20\\AppData\\Local\\Temp\\ipykernel_15092\\1581226005.py:4: PerformanceWarning: DataFrame is highly fragmented.  This is usually the result of calling `frame.insert` many times, which has poor performance.  Consider joining all columns at once using pd.concat(axis=1) instead. To get a de-fragmented frame, use `newframe = frame.copy()`\n",
      "  data['%s_dv_%s'%(a,b)] = data[a]/data[b]\n",
      "C:\\Users\\hhz20\\AppData\\Local\\Temp\\ipykernel_15092\\1581226005.py:4: PerformanceWarning: DataFrame is highly fragmented.  This is usually the result of calling `frame.insert` many times, which has poor performance.  Consider joining all columns at once using pd.concat(axis=1) instead. To get a de-fragmented frame, use `newframe = frame.copy()`\n",
      "  data['%s_dv_%s'%(a,b)] = data[a]/data[b]\n",
      "C:\\Users\\hhz20\\AppData\\Local\\Temp\\ipykernel_15092\\1581226005.py:4: PerformanceWarning: DataFrame is highly fragmented.  This is usually the result of calling `frame.insert` many times, which has poor performance.  Consider joining all columns at once using pd.concat(axis=1) instead. To get a de-fragmented frame, use `newframe = frame.copy()`\n",
      "  data['%s_dv_%s'%(a,b)] = data[a]/data[b]\n",
      "C:\\Users\\hhz20\\AppData\\Local\\Temp\\ipykernel_15092\\1581226005.py:4: PerformanceWarning: DataFrame is highly fragmented.  This is usually the result of calling `frame.insert` many times, which has poor performance.  Consider joining all columns at once using pd.concat(axis=1) instead. To get a de-fragmented frame, use `newframe = frame.copy()`\n",
      "  data['%s_dv_%s'%(a,b)] = data[a]/data[b]\n",
      "C:\\Users\\hhz20\\AppData\\Local\\Temp\\ipykernel_15092\\1581226005.py:4: PerformanceWarning: DataFrame is highly fragmented.  This is usually the result of calling `frame.insert` many times, which has poor performance.  Consider joining all columns at once using pd.concat(axis=1) instead. To get a de-fragmented frame, use `newframe = frame.copy()`\n",
      "  data['%s_dv_%s'%(a,b)] = data[a]/data[b]\n",
      "C:\\Users\\hhz20\\AppData\\Local\\Temp\\ipykernel_15092\\1581226005.py:4: PerformanceWarning: DataFrame is highly fragmented.  This is usually the result of calling `frame.insert` many times, which has poor performance.  Consider joining all columns at once using pd.concat(axis=1) instead. To get a de-fragmented frame, use `newframe = frame.copy()`\n",
      "  data['%s_dv_%s'%(a,b)] = data[a]/data[b]\n",
      "C:\\Users\\hhz20\\AppData\\Local\\Temp\\ipykernel_15092\\1581226005.py:4: PerformanceWarning: DataFrame is highly fragmented.  This is usually the result of calling `frame.insert` many times, which has poor performance.  Consider joining all columns at once using pd.concat(axis=1) instead. To get a de-fragmented frame, use `newframe = frame.copy()`\n",
      "  data['%s_dv_%s'%(a,b)] = data[a]/data[b]\n",
      "C:\\Users\\hhz20\\AppData\\Local\\Temp\\ipykernel_15092\\1581226005.py:4: PerformanceWarning: DataFrame is highly fragmented.  This is usually the result of calling `frame.insert` many times, which has poor performance.  Consider joining all columns at once using pd.concat(axis=1) instead. To get a de-fragmented frame, use `newframe = frame.copy()`\n",
      "  data['%s_dv_%s'%(a,b)] = data[a]/data[b]\n",
      "C:\\Users\\hhz20\\AppData\\Local\\Temp\\ipykernel_15092\\1581226005.py:4: PerformanceWarning: DataFrame is highly fragmented.  This is usually the result of calling `frame.insert` many times, which has poor performance.  Consider joining all columns at once using pd.concat(axis=1) instead. To get a de-fragmented frame, use `newframe = frame.copy()`\n",
      "  data['%s_dv_%s'%(a,b)] = data[a]/data[b]\n",
      "C:\\Users\\hhz20\\AppData\\Local\\Temp\\ipykernel_15092\\1581226005.py:4: PerformanceWarning: DataFrame is highly fragmented.  This is usually the result of calling `frame.insert` many times, which has poor performance.  Consider joining all columns at once using pd.concat(axis=1) instead. To get a de-fragmented frame, use `newframe = frame.copy()`\n",
      "  data['%s_dv_%s'%(a,b)] = data[a]/data[b]\n",
      "C:\\Users\\hhz20\\AppData\\Local\\Temp\\ipykernel_15092\\1581226005.py:4: PerformanceWarning: DataFrame is highly fragmented.  This is usually the result of calling `frame.insert` many times, which has poor performance.  Consider joining all columns at once using pd.concat(axis=1) instead. To get a de-fragmented frame, use `newframe = frame.copy()`\n",
      "  data['%s_dv_%s'%(a,b)] = data[a]/data[b]\n",
      "C:\\Users\\hhz20\\AppData\\Local\\Temp\\ipykernel_15092\\1581226005.py:4: PerformanceWarning: DataFrame is highly fragmented.  This is usually the result of calling `frame.insert` many times, which has poor performance.  Consider joining all columns at once using pd.concat(axis=1) instead. To get a de-fragmented frame, use `newframe = frame.copy()`\n",
      "  data['%s_dv_%s'%(a,b)] = data[a]/data[b]\n",
      "C:\\Users\\hhz20\\AppData\\Local\\Temp\\ipykernel_15092\\1581226005.py:4: PerformanceWarning: DataFrame is highly fragmented.  This is usually the result of calling `frame.insert` many times, which has poor performance.  Consider joining all columns at once using pd.concat(axis=1) instead. To get a de-fragmented frame, use `newframe = frame.copy()`\n",
      "  data['%s_dv_%s'%(a,b)] = data[a]/data[b]\n",
      "C:\\Users\\hhz20\\AppData\\Local\\Temp\\ipykernel_15092\\1581226005.py:4: PerformanceWarning: DataFrame is highly fragmented.  This is usually the result of calling `frame.insert` many times, which has poor performance.  Consider joining all columns at once using pd.concat(axis=1) instead. To get a de-fragmented frame, use `newframe = frame.copy()`\n",
      "  data['%s_dv_%s'%(a,b)] = data[a]/data[b]\n",
      "C:\\Users\\hhz20\\AppData\\Local\\Temp\\ipykernel_15092\\1581226005.py:4: PerformanceWarning: DataFrame is highly fragmented.  This is usually the result of calling `frame.insert` many times, which has poor performance.  Consider joining all columns at once using pd.concat(axis=1) instead. To get a de-fragmented frame, use `newframe = frame.copy()`\n",
      "  data['%s_dv_%s'%(a,b)] = data[a]/data[b]\n",
      "C:\\Users\\hhz20\\AppData\\Local\\Temp\\ipykernel_15092\\1581226005.py:4: PerformanceWarning: DataFrame is highly fragmented.  This is usually the result of calling `frame.insert` many times, which has poor performance.  Consider joining all columns at once using pd.concat(axis=1) instead. To get a de-fragmented frame, use `newframe = frame.copy()`\n",
      "  data['%s_dv_%s'%(a,b)] = data[a]/data[b]\n",
      "C:\\Users\\hhz20\\AppData\\Local\\Temp\\ipykernel_15092\\1581226005.py:4: PerformanceWarning: DataFrame is highly fragmented.  This is usually the result of calling `frame.insert` many times, which has poor performance.  Consider joining all columns at once using pd.concat(axis=1) instead. To get a de-fragmented frame, use `newframe = frame.copy()`\n",
      "  data['%s_dv_%s'%(a,b)] = data[a]/data[b]\n",
      "C:\\Users\\hhz20\\AppData\\Local\\Temp\\ipykernel_15092\\1581226005.py:4: PerformanceWarning: DataFrame is highly fragmented.  This is usually the result of calling `frame.insert` many times, which has poor performance.  Consider joining all columns at once using pd.concat(axis=1) instead. To get a de-fragmented frame, use `newframe = frame.copy()`\n",
      "  data['%s_dv_%s'%(a,b)] = data[a]/data[b]\n",
      "C:\\Users\\hhz20\\AppData\\Local\\Temp\\ipykernel_15092\\1581226005.py:4: PerformanceWarning: DataFrame is highly fragmented.  This is usually the result of calling `frame.insert` many times, which has poor performance.  Consider joining all columns at once using pd.concat(axis=1) instead. To get a de-fragmented frame, use `newframe = frame.copy()`\n",
      "  data['%s_dv_%s'%(a,b)] = data[a]/data[b]\n",
      "C:\\Users\\hhz20\\AppData\\Local\\Temp\\ipykernel_15092\\1581226005.py:4: PerformanceWarning: DataFrame is highly fragmented.  This is usually the result of calling `frame.insert` many times, which has poor performance.  Consider joining all columns at once using pd.concat(axis=1) instead. To get a de-fragmented frame, use `newframe = frame.copy()`\n",
      "  data['%s_dv_%s'%(a,b)] = data[a]/data[b]\n",
      "C:\\Users\\hhz20\\AppData\\Local\\Temp\\ipykernel_15092\\1581226005.py:4: PerformanceWarning: DataFrame is highly fragmented.  This is usually the result of calling `frame.insert` many times, which has poor performance.  Consider joining all columns at once using pd.concat(axis=1) instead. To get a de-fragmented frame, use `newframe = frame.copy()`\n",
      "  data['%s_dv_%s'%(a,b)] = data[a]/data[b]\n",
      "C:\\Users\\hhz20\\AppData\\Local\\Temp\\ipykernel_15092\\1581226005.py:4: PerformanceWarning: DataFrame is highly fragmented.  This is usually the result of calling `frame.insert` many times, which has poor performance.  Consider joining all columns at once using pd.concat(axis=1) instead. To get a de-fragmented frame, use `newframe = frame.copy()`\n",
      "  data['%s_dv_%s'%(a,b)] = data[a]/data[b]\n",
      "C:\\Users\\hhz20\\AppData\\Local\\Temp\\ipykernel_15092\\1581226005.py:4: PerformanceWarning: DataFrame is highly fragmented.  This is usually the result of calling `frame.insert` many times, which has poor performance.  Consider joining all columns at once using pd.concat(axis=1) instead. To get a de-fragmented frame, use `newframe = frame.copy()`\n",
      "  data['%s_dv_%s'%(a,b)] = data[a]/data[b]\n",
      "C:\\Users\\hhz20\\AppData\\Local\\Temp\\ipykernel_15092\\1581226005.py:4: PerformanceWarning: DataFrame is highly fragmented.  This is usually the result of calling `frame.insert` many times, which has poor performance.  Consider joining all columns at once using pd.concat(axis=1) instead. To get a de-fragmented frame, use `newframe = frame.copy()`\n",
      "  data['%s_dv_%s'%(a,b)] = data[a]/data[b]\n",
      "C:\\Users\\hhz20\\AppData\\Local\\Temp\\ipykernel_15092\\1581226005.py:4: PerformanceWarning: DataFrame is highly fragmented.  This is usually the result of calling `frame.insert` many times, which has poor performance.  Consider joining all columns at once using pd.concat(axis=1) instead. To get a de-fragmented frame, use `newframe = frame.copy()`\n",
      "  data['%s_dv_%s'%(a,b)] = data[a]/data[b]\n",
      "C:\\Users\\hhz20\\AppData\\Local\\Temp\\ipykernel_15092\\1581226005.py:4: PerformanceWarning: DataFrame is highly fragmented.  This is usually the result of calling `frame.insert` many times, which has poor performance.  Consider joining all columns at once using pd.concat(axis=1) instead. To get a de-fragmented frame, use `newframe = frame.copy()`\n",
      "  data['%s_dv_%s'%(a,b)] = data[a]/data[b]\n",
      "C:\\Users\\hhz20\\AppData\\Local\\Temp\\ipykernel_15092\\1581226005.py:4: PerformanceWarning: DataFrame is highly fragmented.  This is usually the result of calling `frame.insert` many times, which has poor performance.  Consider joining all columns at once using pd.concat(axis=1) instead. To get a de-fragmented frame, use `newframe = frame.copy()`\n",
      "  data['%s_dv_%s'%(a,b)] = data[a]/data[b]\n",
      "C:\\Users\\hhz20\\AppData\\Local\\Temp\\ipykernel_15092\\1581226005.py:4: PerformanceWarning: DataFrame is highly fragmented.  This is usually the result of calling `frame.insert` many times, which has poor performance.  Consider joining all columns at once using pd.concat(axis=1) instead. To get a de-fragmented frame, use `newframe = frame.copy()`\n",
      "  data['%s_dv_%s'%(a,b)] = data[a]/data[b]\n",
      "C:\\Users\\hhz20\\AppData\\Local\\Temp\\ipykernel_15092\\1581226005.py:4: PerformanceWarning: DataFrame is highly fragmented.  This is usually the result of calling `frame.insert` many times, which has poor performance.  Consider joining all columns at once using pd.concat(axis=1) instead. To get a de-fragmented frame, use `newframe = frame.copy()`\n",
      "  data['%s_dv_%s'%(a,b)] = data[a]/data[b]\n",
      "C:\\Users\\hhz20\\AppData\\Local\\Temp\\ipykernel_15092\\1581226005.py:4: PerformanceWarning: DataFrame is highly fragmented.  This is usually the result of calling `frame.insert` many times, which has poor performance.  Consider joining all columns at once using pd.concat(axis=1) instead. To get a de-fragmented frame, use `newframe = frame.copy()`\n",
      "  data['%s_dv_%s'%(a,b)] = data[a]/data[b]\n",
      "C:\\Users\\hhz20\\AppData\\Local\\Temp\\ipykernel_15092\\1581226005.py:4: PerformanceWarning: DataFrame is highly fragmented.  This is usually the result of calling `frame.insert` many times, which has poor performance.  Consider joining all columns at once using pd.concat(axis=1) instead. To get a de-fragmented frame, use `newframe = frame.copy()`\n",
      "  data['%s_dv_%s'%(a,b)] = data[a]/data[b]\n",
      "C:\\Users\\hhz20\\AppData\\Local\\Temp\\ipykernel_15092\\1581226005.py:4: PerformanceWarning: DataFrame is highly fragmented.  This is usually the result of calling `frame.insert` many times, which has poor performance.  Consider joining all columns at once using pd.concat(axis=1) instead. To get a de-fragmented frame, use `newframe = frame.copy()`\n",
      "  data['%s_dv_%s'%(a,b)] = data[a]/data[b]\n",
      "C:\\Users\\hhz20\\AppData\\Local\\Temp\\ipykernel_15092\\1581226005.py:4: PerformanceWarning: DataFrame is highly fragmented.  This is usually the result of calling `frame.insert` many times, which has poor performance.  Consider joining all columns at once using pd.concat(axis=1) instead. To get a de-fragmented frame, use `newframe = frame.copy()`\n",
      "  data['%s_dv_%s'%(a,b)] = data[a]/data[b]\n",
      "C:\\Users\\hhz20\\AppData\\Local\\Temp\\ipykernel_15092\\1581226005.py:4: PerformanceWarning: DataFrame is highly fragmented.  This is usually the result of calling `frame.insert` many times, which has poor performance.  Consider joining all columns at once using pd.concat(axis=1) instead. To get a de-fragmented frame, use `newframe = frame.copy()`\n",
      "  data['%s_dv_%s'%(a,b)] = data[a]/data[b]\n",
      "C:\\Users\\hhz20\\AppData\\Local\\Temp\\ipykernel_15092\\1581226005.py:4: PerformanceWarning: DataFrame is highly fragmented.  This is usually the result of calling `frame.insert` many times, which has poor performance.  Consider joining all columns at once using pd.concat(axis=1) instead. To get a de-fragmented frame, use `newframe = frame.copy()`\n",
      "  data['%s_dv_%s'%(a,b)] = data[a]/data[b]\n",
      "C:\\Users\\hhz20\\AppData\\Local\\Temp\\ipykernel_15092\\1581226005.py:4: PerformanceWarning: DataFrame is highly fragmented.  This is usually the result of calling `frame.insert` many times, which has poor performance.  Consider joining all columns at once using pd.concat(axis=1) instead. To get a de-fragmented frame, use `newframe = frame.copy()`\n",
      "  data['%s_dv_%s'%(a,b)] = data[a]/data[b]\n",
      "C:\\Users\\hhz20\\AppData\\Local\\Temp\\ipykernel_15092\\1581226005.py:4: PerformanceWarning: DataFrame is highly fragmented.  This is usually the result of calling `frame.insert` many times, which has poor performance.  Consider joining all columns at once using pd.concat(axis=1) instead. To get a de-fragmented frame, use `newframe = frame.copy()`\n",
      "  data['%s_dv_%s'%(a,b)] = data[a]/data[b]\n",
      "C:\\Users\\hhz20\\AppData\\Local\\Temp\\ipykernel_15092\\1581226005.py:4: PerformanceWarning: DataFrame is highly fragmented.  This is usually the result of calling `frame.insert` many times, which has poor performance.  Consider joining all columns at once using pd.concat(axis=1) instead. To get a de-fragmented frame, use `newframe = frame.copy()`\n",
      "  data['%s_dv_%s'%(a,b)] = data[a]/data[b]\n",
      "C:\\Users\\hhz20\\AppData\\Local\\Temp\\ipykernel_15092\\1581226005.py:4: PerformanceWarning: DataFrame is highly fragmented.  This is usually the result of calling `frame.insert` many times, which has poor performance.  Consider joining all columns at once using pd.concat(axis=1) instead. To get a de-fragmented frame, use `newframe = frame.copy()`\n",
      "  data['%s_dv_%s'%(a,b)] = data[a]/data[b]\n",
      "C:\\Users\\hhz20\\AppData\\Local\\Temp\\ipykernel_15092\\1581226005.py:4: PerformanceWarning: DataFrame is highly fragmented.  This is usually the result of calling `frame.insert` many times, which has poor performance.  Consider joining all columns at once using pd.concat(axis=1) instead. To get a de-fragmented frame, use `newframe = frame.copy()`\n",
      "  data['%s_dv_%s'%(a,b)] = data[a]/data[b]\n",
      "C:\\Users\\hhz20\\AppData\\Local\\Temp\\ipykernel_15092\\1581226005.py:4: PerformanceWarning: DataFrame is highly fragmented.  This is usually the result of calling `frame.insert` many times, which has poor performance.  Consider joining all columns at once using pd.concat(axis=1) instead. To get a de-fragmented frame, use `newframe = frame.copy()`\n",
      "  data['%s_dv_%s'%(a,b)] = data[a]/data[b]\n"
     ]
    }
   ],
   "source": [
    "Ancoms = list(combinations(answers, 2))\n",
    "for data in dataset:\n",
    "  for a,b in Ancoms:\n",
    "    data['%s_dv_%s'%(a,b)] = data[a]/data[b]"
   ]
  },
  {
   "cell_type": "code",
   "execution_count": 16,
   "metadata": {
    "id": "jLLvq_slW0eE"
   },
   "outputs": [],
   "source": [
    "for data in dataset:\n",
    "  data.drop([('Q'+i+'A') for i in questions], axis = 1, inplace = True)\n",
    "  data.drop([('Q'+i+'E') for i in questions], axis = 1, inplace = True)"
   ]
  },
  {
   "cell_type": "markdown",
   "metadata": {
    "id": "ClyHfeGMXOvO"
   },
   "source": [
    "### 나머지 Features\n"
   ]
  },
  {
   "cell_type": "code",
   "execution_count": 17,
   "metadata": {
    "id": "fvWxbrvU1n1L"
   },
   "outputs": [],
   "source": [
    "for data in dataset:\n",
    "  data.drop('hand', axis=1, inplace = True)"
   ]
  },
  {
   "cell_type": "code",
   "execution_count": 18,
   "metadata": {
    "id": "lCkKKWvZcHmP"
   },
   "outputs": [],
   "source": [
    "wr_list = [('wr_0'+str(i)) for i in range(1,10)]\n",
    "wr_list.extend([('wr_'+str(i)) for i in range(10,14)])\n",
    "wr_no_need = [i for i in wr_list if i not in ['wr_01', 'wr_03', 'wr_06', 'wr_09', 'wr_11']]"
   ]
  },
  {
   "cell_type": "markdown",
   "metadata": {
    "id": "Dx_9NgNxQNY7"
   },
   "source": [
    "EDA에서 결과에 큰 영향이 없다고 판단된 feature들을 제거해주었습니다."
   ]
  },
  {
   "cell_type": "code",
   "execution_count": 19,
   "metadata": {
    "id": "W8oSj6qXDCOr"
   },
   "outputs": [],
   "source": [
    "for data in dataset:\n",
    "  data.drop(wr_no_need, axis=1, inplace = True)"
   ]
  },
  {
   "cell_type": "code",
   "execution_count": 20,
   "metadata": {
    "id": "zEE7Bwvw8KGJ"
   },
   "outputs": [],
   "source": [
    "for data in dataset:\n",
    "  data['Ex'] = data['tp01']-data['tp06']\n",
    "  data['Ag'] = data['tp07']-data['tp02']\n",
    "  data['Con'] = data['tp03']-data['tp08']\n",
    "  data['Es'] =data['tp09']-data['tp04']\n",
    "  data['Op'] =data['tp05']-data['tp10']"
   ]
  },
  {
   "cell_type": "markdown",
   "metadata": {
    "id": "LXwQqRf8P6Nf"
   },
   "source": [
    "TIPI test에 따라 feature 항목을 나눠놓았는데, 이때는 tipi feature들이 flip된 형태로 저장되어있는지 몰라서 따로 전처리를 해주지 않았었습니다."
   ]
  },
  {
   "cell_type": "code",
   "execution_count": 21,
   "metadata": {
    "id": "4rPT3qv2Bqiy"
   },
   "outputs": [],
   "source": [
    "for data in dataset:\n",
    "  data.drop([('tp0'+str(i)) for i in range(1,10)], axis=1, inplace = True)\n",
    "  data.drop('tp10', axis = 1, inplace = True)"
   ]
  },
  {
   "cell_type": "code",
   "execution_count": 22,
   "metadata": {
    "id": "nMLbZ8yMg0Pk"
   },
   "outputs": [],
   "source": [
    "index = test['index']\n",
    "for data in dataset:\n",
    "  data.drop('index', axis = 1, inplace = True)"
   ]
  },
  {
   "cell_type": "code",
   "execution_count": 23,
   "metadata": {
    "id": "6JOx1qf1dcKf"
   },
   "outputs": [],
   "source": [
    "from sklearn.preprocessing import LabelEncoder\n",
    "encoder = LabelEncoder()\n",
    "needenco = ['age_group', 'gender', 'race', 'religion']\n",
    "for i in needenco:\n",
    "  x_train[i] = encoder.fit_transform(x_train[i])\n",
    "  test[i] = encoder.transform(test[i])"
   ]
  },
  {
   "cell_type": "markdown",
   "metadata": {
    "id": "ks8e45KAV4qF"
   },
   "source": [
    "## 5. Model"
   ]
  },
  {
   "cell_type": "code",
   "execution_count": 24,
   "metadata": {},
   "outputs": [],
   "source": [
    "from sklearn.model_selection import train_test_split\n",
    "\n",
    "tr_x, va_x, tr_y, va_y = train_test_split(x_train, y_train, test_size=0.25, random_state=0,shuffle=True)"
   ]
  },
  {
   "cell_type": "code",
   "execution_count": null,
   "metadata": {},
   "outputs": [],
   "source": []
  },
  {
   "cell_type": "code",
   "execution_count": null,
   "metadata": {},
   "outputs": [],
   "source": []
  },
  {
   "cell_type": "code",
   "execution_count": 25,
   "metadata": {
    "id": "2r6l1Dd7aPYP"
   },
   "outputs": [],
   "source": [
    "k_fold = KFold(n_splits = 3, shuffle = True, random_state = 0)"
   ]
  },
  {
   "cell_type": "code",
   "execution_count": 26,
   "metadata": {
    "id": "e5pSUf9YwJ2J"
   },
   "outputs": [
    {
     "ename": "NameError",
     "evalue": "name 'log_loss' is not defined",
     "output_type": "error",
     "traceback": [
      "\u001b[1;31m---------------------------------------------------------------------------\u001b[0m",
      "\u001b[1;31mNameError\u001b[0m                                 Traceback (most recent call last)",
      "Input \u001b[1;32mIn [26]\u001b[0m, in \u001b[0;36m<cell line: 9>\u001b[1;34m()\u001b[0m\n\u001b[0;32m      7\u001b[0m soft_vote\u001b[38;5;241m.\u001b[39mfit(tr_x,tr_y)\n\u001b[0;32m      8\u001b[0m va_pred \u001b[38;5;241m=\u001b[39m soft_vote\u001b[38;5;241m.\u001b[39mpredict(va_x)\n\u001b[1;32m----> 9\u001b[0m score \u001b[38;5;241m=\u001b[39m \u001b[43mlog_loss\u001b[49m(va_y, va_pred)\n\u001b[0;32m     10\u001b[0m acc \u001b[38;5;241m=\u001b[39m accuracy_score(va_y, va_pred)\n\u001b[0;32m     11\u001b[0m \u001b[38;5;28mprint\u001b[39m(acc)\n",
      "\u001b[1;31mNameError\u001b[0m: name 'log_loss' is not defined"
     ]
    }
   ],
   "source": [
    "clf1 = RandomForestClassifier(n_estimators=500)\n",
    "clf2 = LGBMClassifier()\n",
    "clf3 = GradientBoostingClassifier()\n",
    "soft_vote  = VotingClassifier([('r1',clf1), ('r2', clf2), ('r3',clf3)], voting='soft')\n",
    "# soft_vote.fit(x_train, y_train)\n",
    "\n",
    "soft_vote.fit(tr_x,tr_y)\n",
    "va_pred = soft_vote.predict(va_x)\n",
    "score = log_loss(va_y, va_pred)\n",
    "acc = accuracy_score(va_y, va_pred)\n",
    "print(acc)\n"
   ]
  },
  {
   "cell_type": "code",
   "execution_count": null,
   "metadata": {},
   "outputs": [],
   "source": []
  },
  {
   "cell_type": "code",
   "execution_count": null,
   "metadata": {},
   "outputs": [],
   "source": []
  },
  {
   "cell_type": "code",
   "execution_count": null,
   "metadata": {},
   "outputs": [],
   "source": []
  },
  {
   "cell_type": "code",
   "execution_count": null,
   "metadata": {},
   "outputs": [],
   "source": []
  },
  {
   "cell_type": "code",
   "execution_count": null,
   "metadata": {},
   "outputs": [],
   "source": []
  },
  {
   "cell_type": "code",
   "execution_count": null,
   "metadata": {
    "id": "xf0LhcR5Zyx1"
   },
   "outputs": [],
   "source": [
    "model = soft_vote\n",
    "pred_y = model.predict_proba(test)\n",
    "pred_y = pred_y[:,1]\n",
    "\n",
    "submission = pd.DataFrame({\n",
    "    \"index\" : index,\n",
    "    \"voted\" : pred_y\n",
    "})\n",
    "submission.to_csv('../data/model1.csv', index=False)\n"
   ]
  },
  {
   "cell_type": "markdown",
   "metadata": {
    "id": "p9tUOBQJWHk6"
   },
   "source": [
    "# **Model2: Lgbm Ensemble with different features**"
   ]
  },
  {
   "cell_type": "markdown",
   "metadata": {
    "id": "MMWG4EXoWQ01"
   },
   "source": [
    "## 1. Libraries"
   ]
  },
  {
   "cell_type": "code",
   "execution_count": null,
   "metadata": {
    "id": "ji5BBmQXWKjO"
   },
   "outputs": [],
   "source": [
    "pip install eli5"
   ]
  },
  {
   "cell_type": "code",
   "execution_count": null,
   "metadata": {
    "id": "aGcJEmdt-US8"
   },
   "outputs": [],
   "source": [
    "import pandas as pd\n",
    "import numpy as np\n",
    "\n",
    "from string import ascii_lowercase\n",
    "from itertools import combinations\n",
    "\n",
    "from sklearn.preprocessing import LabelEncoder\n",
    "from sklearn.metrics import roc_auc_score"
   ]
  },
  {
   "cell_type": "code",
   "execution_count": null,
   "metadata": {
    "id": "HUMM9KnVVKbt"
   },
   "outputs": [],
   "source": [
    "from lightgbm import LGBMRegressor\n",
    "from sklearn.model_selection import train_test_split\n",
    "from sklearn.preprocessing import StandardScaler\n",
    "\n",
    "from sklearn.ensemble import RandomForestRegressor\n",
    "import eli5\n",
    "from eli5.sklearn import PermutationImportance\n",
    "\n",
    "import matplotlib.pyplot as plt\n",
    "\n",
    "import warnings\n",
    "import gc\n",
    "warnings.filterwarnings(\"ignore\")"
   ]
  },
  {
   "cell_type": "markdown",
   "metadata": {
    "id": "MsqYumj0WVdR"
   },
   "source": [
    "## 2. Loading the data"
   ]
  },
  {
   "cell_type": "code",
   "execution_count": null,
   "metadata": {
    "id": "jnBUKGfbR3tZ"
   },
   "outputs": [],
   "source": [
    "train = pd.read_csv('../data/train.csv')\n",
    "test = pd.read_csv('../data/test_x.csv')"
   ]
  },
  {
   "cell_type": "markdown",
   "metadata": {
    "id": "GRFXNYQGWX7B"
   },
   "source": [
    "## 3. Feature Engineering"
   ]
  },
  {
   "cell_type": "code",
   "execution_count": null,
   "metadata": {
    "id": "yqoaJBylSTva"
   },
   "outputs": [],
   "source": [
    "x_train = train.copy()\n",
    "x_train.drop('voted', axis=1, inplace = True)\n",
    "y_train = train['voted']"
   ]
  },
  {
   "cell_type": "code",
   "execution_count": null,
   "metadata": {
    "id": "tNxRd4gmSTvb"
   },
   "outputs": [],
   "source": [
    "dataset = [x_train, test]"
   ]
  },
  {
   "cell_type": "markdown",
   "metadata": {
    "id": "E-r88IupSsok"
   },
   "source": [
    "\n",
    "\n",
    "\n",
    "\n",
    "### 마키아밸리 테스트 FE"
   ]
  },
  {
   "cell_type": "code",
   "execution_count": null,
   "metadata": {
    "id": "toUeiZRQSsok"
   },
   "outputs": [],
   "source": [
    "questions = [i for i in list(ascii_lowercase)[:20]]\n",
    "answers = [('Q'+i+'A') for i in questions]"
   ]
  },
  {
   "cell_type": "code",
   "execution_count": null,
   "metadata": {
    "id": "S9hoh-OySsok"
   },
   "outputs": [],
   "source": [
    "for data in dataset:\n",
    "  data['T'] = data['QcA'] - data['QfA'] + data['QoA'] - data['QrA'] + data['QsA']\n",
    "  data['V'] = data['QbA'] - data['QeA'] + data['QhA'] + data['QjA'] + data['QmA'] - data['QqA']\n",
    "  data['M'] = - data['QkA']"
   ]
  },
  {
   "cell_type": "code",
   "execution_count": null,
   "metadata": {
    "id": "s4QWZ111Sson"
   },
   "outputs": [],
   "source": [
    "flipping_columns = [\"QeA\", \"QfA\", \"QkA\", \"QqA\", \"QrA\"]\n",
    "for data in dataset:\n",
    "  for flip in flipping_columns: \n",
    "    data[flip] = 6 - data[flip]"
   ]
  },
  {
   "cell_type": "code",
   "execution_count": null,
   "metadata": {
    "id": "AJIL5HhOSson"
   },
   "outputs": [],
   "source": [
    "flipping_secret_columns = [\"QaA\", \"QdA\", \"QgA\", \"QiA\", \"QnA\"]\n",
    "for data in dataset:\n",
    "  for flip in flipping_secret_columns: \n",
    "    data[flip] = 6 - data[flip]"
   ]
  },
  {
   "cell_type": "code",
   "execution_count": null,
   "metadata": {
    "id": "gyKjNUcaSsoo"
   },
   "outputs": [],
   "source": [
    "for data in dataset:\n",
    "  data['Mach_score'] = data[answers].mean(axis = 1)"
   ]
  },
  {
   "cell_type": "code",
   "execution_count": null,
   "metadata": {
    "id": "tF37HKd9Ssoo"
   },
   "outputs": [],
   "source": [
    "for data in dataset:\n",
    "  data['delay'] = data[[('Q'+i+'E') for i in questions]].sum(axis=1)\n",
    "  data['delay'] = data['delay'] ** (1/10)\n",
    "  data['delay_var'] = data['delay'].var()"
   ]
  },
  {
   "cell_type": "code",
   "execution_count": null,
   "metadata": {
    "id": "fHU8Pl-gSsoo"
   },
   "outputs": [],
   "source": [
    "\n",
    "Ancoms = list(combinations(answers, 2))\n",
    "for data in dataset:\n",
    "  for a,b in Ancoms:\n",
    "    data['mach_%s_dv_%s'%(a,b)] = data[a]/data[b]"
   ]
  },
  {
   "cell_type": "code",
   "execution_count": null,
   "metadata": {
    "id": "025-qu7MknAB"
   },
   "outputs": [],
   "source": [
    "for data in dataset:\n",
    "  data['mach_var'] = data[answers].var(axis=1)"
   ]
  },
  {
   "cell_type": "markdown",
   "metadata": {
    "id": "3wVKNOWQSsoo"
   },
   "source": [
    "\n",
    "### 나머지 Features\n"
   ]
  },
  {
   "cell_type": "code",
   "execution_count": null,
   "metadata": {
    "id": "V4PbRK7RQkJw"
   },
   "outputs": [],
   "source": [
    "tps = ['tp01', 'tp02', 'tp03', 'tp04', 'tp05', 'tp06', 'tp07', 'tp08', 'tp09', 'tp10']\n",
    "for data in dataset:\n",
    "  for tp in tps:\n",
    "    data[tp] = 7 - data[tp]"
   ]
  },
  {
   "cell_type": "markdown",
   "metadata": {
    "id": "Aprgwpn8TGHv"
   },
   "source": [
    "tipi feature들을 일반적인 형태로 복구시켜줬습니다."
   ]
  },
  {
   "cell_type": "code",
   "execution_count": null,
   "metadata": {
    "id": "jIKIhZD1-we3"
   },
   "outputs": [],
   "source": [
    "for data in dataset:\n",
    "  for tp in tps:\n",
    "    data[tp] = data[tp].replace(0, np.nan)\n",
    "    mean = data[tp].mean(axis=0)\n",
    "    data[tp] = data[tp].replace(np.nan , mean)\n"
   ]
  },
  {
   "cell_type": "markdown",
   "metadata": {
    "id": "fdbRb88vTdIC"
   },
   "source": [
    "tp중 무응답 값들을 평균값으로 대체했습니다."
   ]
  },
  {
   "cell_type": "code",
   "execution_count": null,
   "metadata": {
    "id": "qPpDMaa_Ssop"
   },
   "outputs": [],
   "source": [
    "for data in dataset:\n",
    "  data['Ex'] = data['tp01']-data['tp06']\n",
    "  data['Ag'] = data['tp07']-data['tp02']\n",
    "  data['Con'] = data['tp03']-data['tp08']\n",
    "  data['Es'] =data['tp09']-data['tp04']\n",
    "  data['Op'] =data['tp05']-data['tp10']"
   ]
  },
  {
   "cell_type": "code",
   "execution_count": null,
   "metadata": {
    "id": "QepxAcpvSsop"
   },
   "outputs": [],
   "source": [
    "index = test['index']\n",
    "for data in dataset:\n",
    "  data.drop('index', axis = 1, inplace = True)"
   ]
  },
  {
   "cell_type": "code",
   "execution_count": null,
   "metadata": {
    "id": "cC9q3OT2Esm1"
   },
   "outputs": [],
   "source": [
    "import numpy as np\n",
    "for data in dataset:\n",
    "  teenager_ox = 1*np.array(data['age_group'] == '10s')\n",
    "  data['teenager_ox'] = teenager_ox"
   ]
  },
  {
   "cell_type": "markdown",
   "metadata": {
    "id": "S5jSmARBTwFp"
   },
   "source": [
    "10대인지 아닌지의 여부가 투표 여부에 큰 영향을 미칠 것 같아 하나의 column을 더 만들어주었습니다. "
   ]
  },
  {
   "cell_type": "code",
   "execution_count": null,
   "metadata": {
    "id": "vJcIznqcSE7W"
   },
   "outputs": [],
   "source": [
    "tpcoms = list(combinations(tps, 2))\n",
    "for data in dataset:\n",
    "  for a,b in tpcoms:\n",
    "    data['tp_%s_dv_%s'%(a,b)] = data[a]/data[b]"
   ]
  },
  {
   "cell_type": "markdown",
   "metadata": {
    "id": "7z2_dTV4UNBu"
   },
   "source": [
    "tp 값들끼리 나눈 feature들을 생성해주었습니다."
   ]
  },
  {
   "cell_type": "code",
   "execution_count": null,
   "metadata": {
    "id": "hrTv5xF2Ssoq"
   },
   "outputs": [],
   "source": [
    "from sklearn.preprocessing import LabelEncoder\n",
    "encoder = LabelEncoder()\n",
    "needenco = ['age_group', 'gender', 'race', 'religion']\n",
    "for i in needenco:\n",
    "  x_train[i] = encoder.fit_transform(x_train[i])\n",
    "  test[i] = encoder.transform(test[i])"
   ]
  },
  {
   "cell_type": "code",
   "execution_count": null,
   "metadata": {
    "id": "dLFRPBssoD5R"
   },
   "outputs": [],
   "source": [
    "for data in dataset:\n",
    "  data['Es_gender'] = data['Es']*data['gender']\n",
    "  data['Con_gender'] = data['Con']*data['gender']\n",
    "  data['Op_gender'] = data['Op']*data['gender']"
   ]
  },
  {
   "cell_type": "markdown",
   "metadata": {
    "id": "cLAE9KvnUlw7"
   },
   "source": [
    "EDA 결과, 성별에 따라 Emotional Stability/ Conscience/ Open Minded가 투표 여부에 미치는 영향이 크다고 판단되어 feature를 추가해주었습니다.\n",
    "\n",
    "정보 출처: https://www.sciencedirect.com/science/article/abs/pii/S0261379413001613"
   ]
  },
  {
   "cell_type": "markdown",
   "metadata": {
    "id": "Zyj0rhtxWcUP"
   },
   "source": [
    "## 4. Feature Selection 1 & Model 2-1"
   ]
  },
  {
   "cell_type": "code",
   "execution_count": null,
   "metadata": {
    "id": "oQ1ePSk6Tm7L"
   },
   "outputs": [],
   "source": [
    "def lgbm_rfe_4040(x_data, y_data, ratio=0.9, min_feats=40):\n",
    "    feats = x_data.columns.tolist()\n",
    "    archive = pd.DataFrame(columns=['model', 'n_feats', 'feats', 'score'])\n",
    "    while True:\n",
    "        model = LGBMClassifier(objective = 'binary', num_iterations=10**4)\n",
    "        x_train, x_val, y_train, y_val = train_test_split(x_data[feats], y_data, random_state=4040)\n",
    "        model.fit(x_train, y_train, eval_set=[(x_val, y_val)], early_stopping_rounds=100, verbose=False)\n",
    "        val_pred = model.predict_proba(x_val)\n",
    "        val_pred = val_pred[:,1]\n",
    "        score = roc_auc_score(y_val, val_pred)\n",
    "        n_feats = len(feats)\n",
    "        print(n_feats, score)\n",
    "        archive = archive.append({'model': model, 'n_feats': n_feats, 'feats': feats, 'score': score}, ignore_index=True)\n",
    "        feat_imp = pd.Series(model.feature_importances_, index=feats).sort_values(ascending=False)        \n",
    "        next_n_feats = int(n_feats * ratio)\n",
    "        if next_n_feats < min_feats:\n",
    "            break\n",
    "        else:\n",
    "            feats = feat_imp.iloc[:next_n_feats].index.tolist()\n",
    "    return archive\n"
   ]
  },
  {
   "cell_type": "code",
   "execution_count": null,
   "metadata": {
    "colab": {
     "base_uri": "https://localhost:8080/"
    },
    "id": "-2NXC4jCTmkC",
    "outputId": "cd6895b4-a711-479b-8ce6-ccfa042d85fb"
   },
   "outputs": [
    {
     "name": "stdout",
     "output_type": "stream",
     "text": [
      "327 0.7654521392750226\n",
      "294 0.7660870201327774\n",
      "264 0.7665139720713332\n",
      "237 0.7653769666467843\n",
      "213 0.7656831265200393\n",
      "191 0.7657786849457661\n",
      "171 0.7649605805179025\n",
      "153 0.7668976974179585\n",
      "137 0.7661529010636849\n",
      "123 0.7663754822748288\n",
      "110 0.7658758437808992\n",
      "99 0.7657758881137936\n",
      "89 0.766632992809718\n",
      "80 0.7652528494590276\n",
      "72 0.7652832727757058\n",
      "64 0.7651205593067287\n",
      "57 0.7652989971865736\n",
      "51 0.765561231259905\n",
      "45 0.7648453976545021\n",
      "40 0.766778800983217\n"
     ]
    }
   ],
   "source": [
    "lgbm_archive_4040 = lgbm_rfe_4040(x_train, y_train)"
   ]
  },
  {
   "cell_type": "code",
   "execution_count": null,
   "metadata": {
    "id": "Q1u5lw1oWFAU"
   },
   "outputs": [],
   "source": [
    "model = LGBMClassifier(objective=\"binary\", num_iterations= 10**3)\n",
    "\n",
    "x_train_1 = x_train[lgbm_archive_4040.iloc[7,2]]\n",
    "\n",
    "model.fit(x_train_1, y_train)\n",
    "\n",
    "pred_y1 = model.predict_proba(test[lgbm_archive_4040.iloc[7,2]])\n",
    "pred_y1 = pred_y1[:,1]"
   ]
  },
  {
   "cell_type": "markdown",
   "metadata": {
    "id": "dA8_WcTEWpXG"
   },
   "source": [
    "## 5. Feature Selection 2 & Model 2-2"
   ]
  },
  {
   "cell_type": "code",
   "execution_count": null,
   "metadata": {
    "id": "mh6_HFlVlt8b"
   },
   "outputs": [],
   "source": [
    "def lgbm_rfe_1234(x_data, y_data, ratio=0.9, min_feats=40):\n",
    "    feats = x_data.columns.tolist()\n",
    "    archive = pd.DataFrame(columns=['model', 'n_feats', 'feats', 'score'])\n",
    "    while True:\n",
    "        model = LGBMClassifier(objective = 'binary', num_iterations=10**4)\n",
    "        x_train, x_val, y_train, y_val = train_test_split(x_data[feats], y_data, random_state=1234)\n",
    "        model.fit(x_train, y_train, eval_set=[(x_val, y_val)], early_stopping_rounds=100, verbose=False)\n",
    "        val_pred = model.predict_proba(x_val)\n",
    "        val_pred = val_pred[:,1]\n",
    "        score = roc_auc_score(y_val, val_pred)\n",
    "        n_feats = len(feats)\n",
    "        print(n_feats, score)\n",
    "        archive = archive.append({'model': model, 'n_feats': n_feats, 'feats': feats, 'score': score}, ignore_index=True)\n",
    "        feat_imp = pd.Series(model.feature_importances_, index=feats).sort_values(ascending=False)\n",
    "        next_n_feats = int(n_feats * ratio)\n",
    "        if next_n_feats < min_feats:\n",
    "            break\n",
    "        else:\n",
    "            feats = feat_imp.iloc[:next_n_feats].index.tolist()\n",
    "    return archive\n"
   ]
  },
  {
   "cell_type": "code",
   "execution_count": null,
   "metadata": {
    "colab": {
     "base_uri": "https://localhost:8080/"
    },
    "id": "HD9-POOnluD8",
    "outputId": "df9fa499-3946-4660-e407-2435f2371b76"
   },
   "outputs": [
    {
     "name": "stdout",
     "output_type": "stream",
     "text": [
      "327 0.7606883932704029\n",
      "294 0.7606883932704029\n",
      "264 0.7602908425825735\n",
      "237 0.7610067982460239\n",
      "213 0.7612840106972859\n",
      "191 0.7606083910028674\n",
      "171 0.7608278560513609\n",
      "153 0.7610565718973853\n",
      "137 0.7616201541550408\n",
      "123 0.7620506744360908\n",
      "110 0.7611998190955149\n",
      "99 0.7614222120058532\n",
      "89 0.7604371733798803\n",
      "80 0.7621091070831207\n",
      "72 0.7622087789757093\n",
      "64 0.7616807982721878\n",
      "57 0.7601131462865678\n",
      "51 0.7594344897141723\n",
      "45 0.7608515592733172\n",
      "40 0.7599554778114793\n"
     ]
    }
   ],
   "source": [
    "lgbm_archive_1234 = lgbm_rfe_1234(x_train, y_train)"
   ]
  },
  {
   "cell_type": "code",
   "execution_count": null,
   "metadata": {
    "id": "V7IugbRA89El"
   },
   "outputs": [],
   "source": [
    "model2 = LGBMClassifier(objective=\"binary\", num_iterations= 10**3)\n",
    "\n",
    "x_train_2 = x_train[lgbm_archive_1234.iloc[14,2]]\n",
    "\n",
    "model2.fit(x_train_2, y_train)\n",
    "\n",
    "pred_y2 = model2.predict_proba(test[lgbm_archive_1234.iloc[14,2]])\n",
    "pred_y2 = pred_y2[:,1]"
   ]
  },
  {
   "cell_type": "markdown",
   "metadata": {
    "id": "Z9Z-ex7iWtvZ"
   },
   "source": [
    "## 6. Feature Selection 3 & Model 2-3"
   ]
  },
  {
   "cell_type": "code",
   "execution_count": null,
   "metadata": {
    "id": "ZMeNqo3j7JUz"
   },
   "outputs": [],
   "source": [
    "def lgbm_rfe_99087(x_data, y_data, ratio=0.9, min_feats=40):\n",
    "    feats = x_data.columns.tolist()\n",
    "    archive = pd.DataFrame(columns=['model', 'n_feats', 'feats', 'score'])\n",
    "    while True:\n",
    "        model = LGBMClassifier(objective = 'binary', num_iterations=10**4)\n",
    "        x_train, x_val, y_train, y_val = train_test_split(x_data[feats], y_data, random_state=99087)\n",
    "        model.fit(x_train, y_train, eval_set=[(x_val, y_val)], early_stopping_rounds=100, verbose=False)\n",
    "        val_pred = model.predict_proba(x_val)\n",
    "        val_pred = val_pred[:,1]\n",
    "        score = roc_auc_score(y_val, val_pred)\n",
    "        n_feats = len(feats)\n",
    "        print(n_feats, score)\n",
    "        archive = archive.append({'model': model, 'n_feats': n_feats, 'feats': feats, 'score': score}, ignore_index=True)\n",
    "        feat_imp = pd.Series(model.feature_importances_, index=feats).sort_values(ascending=False)\n",
    "        next_n_feats = int(n_feats * ratio)\n",
    "        if next_n_feats < min_feats:\n",
    "            break\n",
    "        else:\n",
    "            feats = feat_imp.iloc[:next_n_feats].index.tolist()\n",
    "    return archive\n"
   ]
  },
  {
   "cell_type": "code",
   "execution_count": null,
   "metadata": {
    "colab": {
     "base_uri": "https://localhost:8080/"
    },
    "id": "Co3QK0lz7M0P",
    "outputId": "fcff062f-2608-4143-d81c-1fb040bf17e2"
   },
   "outputs": [
    {
     "name": "stdout",
     "output_type": "stream",
     "text": [
      "327 0.7606106808729316\n",
      "294 0.7606217631742102\n",
      "264 0.7601084907487066\n",
      "237 0.7601344532185556\n",
      "213 0.7601107632430699\n",
      "191 0.7614121865218546\n",
      "171 0.7602230804987236\n",
      "153 0.76176078093117\n",
      "137 0.7595698628895194\n",
      "123 0.7605451365320839\n",
      "110 0.7594091383909221\n",
      "99 0.7597033174557576\n",
      "89 0.7592794349968863\n",
      "80 0.7586175632310661\n",
      "72 0.7584655862792643\n",
      "64 0.7587183623646045\n",
      "57 0.7584829879826762\n",
      "51 0.7597374360012666\n",
      "45 0.7594251236766144\n",
      "40 0.7596484662904411\n"
     ]
    }
   ],
   "source": [
    "lgbm_archive_99087 = lgbm_rfe_99087(x_train, y_train)"
   ]
  },
  {
   "cell_type": "code",
   "execution_count": null,
   "metadata": {
    "id": "xO_Tb3HF-_G7"
   },
   "outputs": [],
   "source": [
    "model3 = LGBMClassifier(objective=\"binary\", num_iterations= 10**3)\n",
    "\n",
    "x_train_3 = x_train[lgbm_archive_99087.iloc[7,2]]\n",
    "\n",
    "model3.fit(x_train_3, y_train)\n",
    "\n",
    "pred_y3 = model3.predict_proba(test[lgbm_archive_99087.iloc[7,2]])\n",
    "pred_y3 = pred_y3[:,1]"
   ]
  },
  {
   "cell_type": "markdown",
   "metadata": {
    "id": "jwVZnH5uW1eI"
   },
   "source": [
    "## 7. Feature Selection 4 & Model 2-4 "
   ]
  },
  {
   "cell_type": "code",
   "execution_count": null,
   "metadata": {
    "id": "YBaoL1Lc715N"
   },
   "outputs": [],
   "source": [
    "def lgbm_rfe_42(x_data, y_data, ratio=0.9, min_feats=40):\n",
    "    feats = x_data.columns.tolist()\n",
    "    archive = pd.DataFrame(columns=['model', 'n_feats', 'feats', 'score'])\n",
    "    while True:\n",
    "        model = LGBMClassifier(objective = 'binary', num_iterations=10**4)\n",
    "        x_train, x_val, y_train, y_val = train_test_split(x_data[feats], y_data, random_state=42)\n",
    "        model.fit(x_train, y_train, eval_set=[(x_val, y_val)], early_stopping_rounds=100, verbose=False)\n",
    "        val_pred = model.predict_proba(x_val)\n",
    "        val_pred = val_pred[:,1]\n",
    "        score = roc_auc_score(y_val, val_pred)\n",
    "        n_feats = len(feats)\n",
    "        print(n_feats, score)\n",
    "        archive = archive.append({'model': model, 'n_feats': n_feats, 'feats': feats, 'score': score}, ignore_index=True)\n",
    "        feat_imp = pd.Series(model.feature_importances_, index=feats).sort_values(ascending=False)\n",
    "        next_n_feats = int(n_feats * ratio)\n",
    "        if next_n_feats < min_feats:\n",
    "            break\n",
    "        else:\n",
    "            feats = feat_imp.iloc[:next_n_feats].index.tolist()\n",
    "    return archive\n"
   ]
  },
  {
   "cell_type": "code",
   "execution_count": null,
   "metadata": {
    "colab": {
     "base_uri": "https://localhost:8080/"
    },
    "id": "DQrS-hk178RH",
    "outputId": "3fdd292e-c884-4eeb-9615-bf952109d8e4"
   },
   "outputs": [
    {
     "name": "stdout",
     "output_type": "stream",
     "text": [
      "327 0.7678107998156544\n",
      "294 0.7675798384247778\n",
      "264 0.7684680077847592\n",
      "237 0.7680492326627659\n",
      "213 0.768363843232411\n",
      "191 0.7681122886402858\n",
      "171 0.7689479087580783\n",
      "153 0.7693477094943405\n",
      "137 0.7697397741602924\n",
      "123 0.7695735031279873\n",
      "110 0.7687562503401069\n",
      "99 0.7692267030343949\n",
      "89 0.7682304466075417\n",
      "80 0.7688855999261821\n",
      "72 0.7691572807535412\n",
      "64 0.7690505011915104\n",
      "57 0.7689243269743353\n",
      "51 0.7691663554597604\n",
      "45 0.7696413999865265\n",
      "40 0.7693784047270409\n"
     ]
    }
   ],
   "source": [
    "lgbm_archive_42 = lgbm_rfe_42(x_train, y_train)"
   ]
  },
  {
   "cell_type": "code",
   "execution_count": null,
   "metadata": {
    "id": "uWt4SiRS_rG5"
   },
   "outputs": [],
   "source": [
    "model4 = LGBMClassifier(objective=\"binary\", num_iterations= 10**3)\n",
    "\n",
    "x_train_4 = x_train[lgbm_archive_42.iloc[8,2]]\n",
    "\n",
    "model4.fit(x_train_4, y_train)\n",
    "\n",
    "pred_y4 = model4.predict_proba(test[lgbm_archive_42.iloc[8,2]])\n",
    "pred_y4 = pred_y4[:,1]"
   ]
  },
  {
   "cell_type": "markdown",
   "metadata": {
    "id": "b8ylwrNCW_zC"
   },
   "source": [
    "## 8. Ensemble"
   ]
  },
  {
   "cell_type": "code",
   "execution_count": null,
   "metadata": {
    "id": "-maaRlGNAHKD"
   },
   "outputs": [],
   "source": [
    "pred_all = (pred_y + pred_y2 + pred_y3 + pred_y4) * (1/4)\n",
    "\n",
    "submission = pd.DataFrame({\n",
    "    \"index\" : index,\n",
    "    \"voted\" : pred_all\n",
    "})\n",
    "submission.to_csv('../data/model2.csv', index=False)\n"
   ]
  },
  {
   "cell_type": "markdown",
   "metadata": {
    "id": "r4NGkpYIXCa1"
   },
   "source": [
    "# **Model3: NN**"
   ]
  },
  {
   "cell_type": "markdown",
   "metadata": {
    "id": "Tgr_-0VScJTV"
   },
   "source": [
    "3번째 모델은 Junho Sun 님께서 공유해주신 코드를 그대로 활용하였습니다.\n",
    "\n",
    "좋은 모델을 공유해주신 덕분에 public score도 0.78대로 올라갈 수 있었습니다. \n",
    "정말 감사합니다!"
   ]
  },
  {
   "cell_type": "code",
   "execution_count": null,
   "metadata": {
    "id": "H6VAUhUCHAqL"
   },
   "outputs": [],
   "source": [
    "import random\n",
    "from datetime import datetime\n",
    "\n",
    "import numpy as np\n",
    "import pandas as pd\n",
    "import torch\n",
    "from sklearn.model_selection import StratifiedKFold\n",
    "from torch import nn, optim\n",
    "from torch.utils.data import DataLoader\n",
    "from torch.utils.data import TensorDataset\n",
    "from tqdm import tqdm\n",
    "\n",
    "random.seed(0)\n",
    "np.random.seed(0)\n",
    "torch.manual_seed(0)\n",
    "torch.backends.cudnn.deterministic = True\n",
    "torch.backends.cudnn.benchmark = False\n",
    "\n",
    "DEVICE = 'cuda:0' if torch.cuda.is_available() else 'cpu'\n",
    "\n",
    "drop_list = ['QaE', 'QbE', 'QcE', 'QdE', 'QeE',\n",
    "             'QfE', 'QgE', 'QhE', 'QiE', 'QjE',\n",
    "             'QkE', 'QlE', 'QmE', 'QnE', 'QoE',\n",
    "             'QpE', 'QqE', 'QrE', 'QsE', 'QtE',\n",
    "             'index', 'hand']\n",
    "replace_dict = {'education': str, 'engnat': str, 'married': str, 'urban': str}\n",
    "train_data = pd.read_csv('../data/train.csv')\n",
    "test_data = pd.read_csv('../data/test_x.csv')\n",
    "train_data = train_data.drop(train_data[train_data.familysize > 50].index)\n",
    "train_y = train_data['voted']\n",
    "train_x = train_data.drop(drop_list + ['voted'], axis=1)\n",
    "test_x = test_data.drop(drop_list, axis=1)\n",
    "train_x = train_x.astype(replace_dict)\n",
    "test_x = test_x.astype(replace_dict)\n",
    "train_x = pd.get_dummies(train_x)\n",
    "test_x = pd.get_dummies(test_x)\n",
    "train_y = 2 - train_y.to_numpy()\n",
    "train_x = train_x.to_numpy()\n",
    "test_x = test_x.to_numpy()\n",
    "\n",
    "train_y_t = torch.tensor(train_y, dtype=torch.float32)\n",
    "train_x_t = torch.tensor(train_x, dtype=torch.float32)\n",
    "test_x_t = torch.tensor(test_x, dtype=torch.float32)\n",
    "train_x_t[:, :20] = (train_x_t[:, :20] - 3.) / 2.\n",
    "test_x_t[:, :20] = (test_x_t[:, :20] - 3.) / 2\n",
    "train_x_t[:, 20] = (train_x_t[:, 20] - 5.) / 4.\n",
    "test_x_t[:, 20] = (test_x_t[:, 20] - 5.) / 4.\n",
    "train_x_t[:, 21:31] = (train_x_t[:, 21:31] - 3.5) / 3.5\n",
    "test_x_t[:, 21:31] = (test_x_t[:, 21:31] - 3.5) / 3.5\n",
    "test_len = len(test_x_t)\n",
    "\n",
    "N_REPEAT = 5\n",
    "N_SKFOLD = 7\n",
    "N_EPOCH = 48\n",
    "BATCH_SIZE = 72\n",
    "LOADER_PARAM = {\n",
    "    'batch_size': BATCH_SIZE,\n",
    "    'num_workers': 4,\n",
    "    'pin_memory': True\n",
    "}\n",
    "prediction = np.zeros((test_len, 1), dtype=np.float32)\n",
    "\n",
    "for repeat in range(N_REPEAT):\n",
    "\n",
    "    skf, tot = StratifiedKFold(n_splits=N_SKFOLD, random_state=repeat, shuffle=True), 0.\n",
    "    for skfold, (train_idx, valid_idx) in enumerate(skf.split(train_x, train_y)):\n",
    "        train_idx, valid_idx = list(train_idx), list(valid_idx)\n",
    "        train_loader = DataLoader(TensorDataset(train_x_t[train_idx, :], train_y_t[train_idx]),\n",
    "                                  shuffle=True, drop_last=True, **LOADER_PARAM)\n",
    "        valid_loader = DataLoader(TensorDataset(train_x_t[valid_idx, :], train_y_t[valid_idx]),\n",
    "                                  shuffle=False, drop_last=False, **LOADER_PARAM)\n",
    "        test_loader = DataLoader(TensorDataset(test_x_t, torch.zeros((test_len,), dtype=torch.float32)),\n",
    "                                 shuffle=False, drop_last=False, **LOADER_PARAM)\n",
    "        model = nn.Sequential(\n",
    "            nn.Dropout(0.05),\n",
    "            nn.Linear(91, 180, bias=False),\n",
    "            nn.LeakyReLU(0.05, inplace=True),\n",
    "            nn.Dropout(0.5),\n",
    "            nn.Linear(180, 32, bias=False),\n",
    "            nn.ReLU(inplace=True),\n",
    "            nn.Linear(32, 1)\n",
    "        ).to(DEVICE)\n",
    "        criterion = torch.nn.BCEWithLogitsLoss(pos_weight=torch.tensor([1.20665], device=DEVICE))\n",
    "        optimizer = optim.AdamW(model.parameters(), lr=5e-3, weight_decay=7.8e-2)\n",
    "        scheduler = optim.lr_scheduler.CosineAnnealingWarmRestarts(\n",
    "            optimizer, T_0=N_EPOCH // 6, eta_min=4e-4)\n",
    "        prediction_t, loss_t = np.zeros((test_len, 1), dtype=np.float32), 1.\n",
    "\n",
    "        # for epoch in range(N_EPOCH):\n",
    "        for epoch in tqdm(range(N_EPOCH), desc='{:02d}/{:02d}'.format(skfold + 1, N_SKFOLD)):\n",
    "            model.train()\n",
    "            for idx, (xx, yy) in enumerate(train_loader):\n",
    "                optimizer.zero_grad()\n",
    "                xx, yy = xx.to(DEVICE), yy.to(DEVICE)\n",
    "                pred = model(xx).squeeze()\n",
    "                loss = criterion(pred, yy)\n",
    "                loss.backward()\n",
    "                optimizer.step()\n",
    "                scheduler.step(epoch + idx / len(train_loader))\n",
    "\n",
    "            with torch.no_grad():\n",
    "                model.eval()\n",
    "                running_acc, running_loss, running_count = 0, 0., 0\n",
    "                for xx, yy in valid_loader:\n",
    "                    xx, yy = xx.to(DEVICE), yy.to(DEVICE)\n",
    "                    pred = model(xx).squeeze()\n",
    "                    loss = criterion(pred, yy)\n",
    "                    running_loss += loss.item() * len(yy)\n",
    "                    running_count += len(yy)\n",
    "                    running_acc += ((torch.sigmoid(pred) > 0.5).float() == yy).sum().item()\n",
    "                # print('R{:02d} S{:02d} E{:02d} | {:6.4f}, {:5.2f}%'\n",
    "                #       .format(repeat + 1, skfold + 1, epoch + 1, running_loss / running_count,\n",
    "                #               running_acc / running_count * 100))\n",
    "\n",
    "                if running_loss / running_count < loss_t:\n",
    "                    loss_t = running_loss / running_count\n",
    "                    for idx, (xx, _) in enumerate(test_loader):\n",
    "                        xx = xx.to(DEVICE)\n",
    "                        pred = (2. - torch.sigmoid(model(xx).detach().to('cpu'))).numpy()\n",
    "                        prediction_t[BATCH_SIZE * idx:min(BATCH_SIZE * (idx + 1), len(prediction)), :] \\\n",
    "                            = pred[:, :].copy()\n",
    "        prediction[:, :] += prediction_t[:, :].copy() / (N_REPEAT * N_SKFOLD)\n",
    "        tot += loss_t\n",
    "    print('R{} -> {:6.4f}'.format(repeat + 1, tot / N_SKFOLD))\n",
    "\n",
    "df = pd.read_csv('../data/sample_submission.csv')\n",
    "df.iloc[:, 1:] = prediction"
   ]
  },
  {
   "cell_type": "code",
   "execution_count": null,
   "metadata": {
    "id": "cUVGO9crcusy"
   },
   "outputs": [],
   "source": [
    "df.to_csv('../data/model3.csv', index=False)"
   ]
  },
  {
   "cell_type": "markdown",
   "metadata": {
    "id": "N0-G6L1VXHHs"
   },
   "source": [
    "# Final Ensemble"
   ]
  },
  {
   "cell_type": "code",
   "execution_count": null,
   "metadata": {
    "id": "p_YJ89h-YtkQ"
   },
   "outputs": [],
   "source": [
    "model1 = pd.read_csv('../data/model1.csv', index_col = 'index')\n",
    "model2 = pd.read_csv('../data/model2.csv', index_col='index')\n",
    "\n",
    "pred_y = (model1)*(0.7) + (model2)*(0.3)\n",
    "\n",
    "test = pd.read_csv('../data/test_x.csv')\n",
    "index = test['index']\n",
    "\n",
    "submission = pd.DataFrame({\n",
    "    'index': index,\n",
    "    'voted': pred_y['voted']\n",
    "    })\n",
    "\n",
    "submission.to_csv('../data/combined_model1_model2.csv', index=False)"
   ]
  },
  {
   "cell_type": "code",
   "execution_count": null,
   "metadata": {
    "id": "0QMkn7bLZWpH"
   },
   "outputs": [],
   "source": [
    "\n",
    "combined_12 = pd.read_csv('../data/combined_model1_model2.csv', index_col = 'index')\n",
    "model3 = pd.read_csv('../data/model3.csv', index_col='index')\n",
    "model3['voted'] = model3['voted']-1"
   ]
  },
  {
   "cell_type": "markdown",
   "metadata": {
    "id": "AYrm4QPmcvRt"
   },
   "source": [
    "다른 모델과 같이 [0,1]의 범위(voted가 2일 확률)를 맞춰주기 위해 1을 빼주었습니다."
   ]
  },
  {
   "cell_type": "code",
   "execution_count": null,
   "metadata": {
    "id": "VUWWzkNZZgXs"
   },
   "outputs": [],
   "source": [
    "pred_y = (model3)*(0.8) + (combined_12)*(0.2)\n",
    "\n",
    "test = pd.read_csv('../data/test_x.csv')\n",
    "index = test['index']\n",
    "\n",
    "submission = pd.DataFrame({\n",
    "    'index': index,\n",
    "    'voted': pred_y['voted']\n",
    "    })\n",
    "\n",
    "submission.to_csv('../data/submission_final.csv', index=False)"
   ]
  }
 ],
 "metadata": {
  "colab": {
   "collapsed_sections": [],
   "name": "shared_code_sony_submit.ipynb",
   "provenance": [],
   "toc_visible": true
  },
  "kernelspec": {
   "display_name": "Python 3 (ipykernel)",
   "language": "python",
   "name": "python3"
  },
  "language_info": {
   "codemirror_mode": {
    "name": "ipython",
    "version": 3
   },
   "file_extension": ".py",
   "mimetype": "text/x-python",
   "name": "python",
   "nbconvert_exporter": "python",
   "pygments_lexer": "ipython3",
   "version": "3.10.4"
  }
 },
 "nbformat": 4,
 "nbformat_minor": 1
}
