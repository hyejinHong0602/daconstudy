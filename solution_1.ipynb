{
 "cells": [
  {
   "cell_type": "code",
   "execution_count": 2,
   "id": "f1d983a9",
   "metadata": {},
   "outputs": [],
   "source": [
    "import pandas as pd\n",
    "import seaborn as sns\n",
    "import matplotlib.pyplot as plt\n",
    "\n",
    "from string import ascii_lowercase\n",
    "from itertools import combinations\n",
    "\n",
    "import lightgbm as lgb\n",
    "from sklearn.ensemble import RandomForestClassifier\n",
    "from lightgbm import LGBMClassifier\n",
    "from sklearn.ensemble import  GradientBoostingClassifier\n",
    "\n",
    "from sklearn.ensemble import VotingClassifier\n",
    "from sklearn.model_selection import KFold\n",
    "from sklearn.model_selection import cross_val_score\n",
    "\n",
    "train = pd.read_csv('./open data/train.csv')\n",
    "test = pd.read_csv('./open data/test_x.csv')"
   ]
  },
  {
   "cell_type": "code",
   "execution_count": 3,
   "id": "e540cc8f",
   "metadata": {},
   "outputs": [],
   "source": [
    "train.head()"
   ]
  },
  {
   "cell_type": "code",
   "execution_count": 4,
   "id": "7ad0d96d",
   "metadata": {},
   "outputs": [
    {
     "data": {
      "text/html": [
       "<div>\n",
       "<style scoped>\n",
       "    .dataframe tbody tr th:only-of-type {\n",
       "        vertical-align: middle;\n",
       "    }\n",
       "\n",
       "    .dataframe tbody tr th {\n",
       "        vertical-align: top;\n",
       "    }\n",
       "\n",
       "    .dataframe thead th {\n",
       "        text-align: right;\n",
       "    }\n",
       "</style>\n",
       "<table border=\"1\" class=\"dataframe\">\n",
       "  <thead>\n",
       "    <tr style=\"text-align: right;\">\n",
       "      <th></th>\n",
       "      <th>index</th>\n",
       "      <th>QaA</th>\n",
       "      <th>QaE</th>\n",
       "      <th>QbA</th>\n",
       "      <th>QbE</th>\n",
       "      <th>QcA</th>\n",
       "      <th>QcE</th>\n",
       "      <th>QdA</th>\n",
       "      <th>QdE</th>\n",
       "      <th>QeA</th>\n",
       "      <th>...</th>\n",
       "      <th>wr_04</th>\n",
       "      <th>wr_05</th>\n",
       "      <th>wr_06</th>\n",
       "      <th>wr_07</th>\n",
       "      <th>wr_08</th>\n",
       "      <th>wr_09</th>\n",
       "      <th>wr_10</th>\n",
       "      <th>wr_11</th>\n",
       "      <th>wr_12</th>\n",
       "      <th>wr_13</th>\n",
       "    </tr>\n",
       "  </thead>\n",
       "  <tbody>\n",
       "    <tr>\n",
       "      <th>0</th>\n",
       "      <td>0</td>\n",
       "      <td>3.0</td>\n",
       "      <td>736</td>\n",
       "      <td>2.0</td>\n",
       "      <td>2941</td>\n",
       "      <td>3.0</td>\n",
       "      <td>4621</td>\n",
       "      <td>1.0</td>\n",
       "      <td>4857</td>\n",
       "      <td>2.0</td>\n",
       "      <td>...</td>\n",
       "      <td>0</td>\n",
       "      <td>1</td>\n",
       "      <td>0</td>\n",
       "      <td>0</td>\n",
       "      <td>1</td>\n",
       "      <td>0</td>\n",
       "      <td>1</td>\n",
       "      <td>0</td>\n",
       "      <td>1</td>\n",
       "      <td>1</td>\n",
       "    </tr>\n",
       "    <tr>\n",
       "      <th>1</th>\n",
       "      <td>1</td>\n",
       "      <td>3.0</td>\n",
       "      <td>514</td>\n",
       "      <td>2.0</td>\n",
       "      <td>1952</td>\n",
       "      <td>3.0</td>\n",
       "      <td>1552</td>\n",
       "      <td>3.0</td>\n",
       "      <td>821</td>\n",
       "      <td>4.0</td>\n",
       "      <td>...</td>\n",
       "      <td>0</td>\n",
       "      <td>0</td>\n",
       "      <td>0</td>\n",
       "      <td>0</td>\n",
       "      <td>0</td>\n",
       "      <td>0</td>\n",
       "      <td>0</td>\n",
       "      <td>0</td>\n",
       "      <td>0</td>\n",
       "      <td>0</td>\n",
       "    </tr>\n",
       "    <tr>\n",
       "      <th>2</th>\n",
       "      <td>2</td>\n",
       "      <td>3.0</td>\n",
       "      <td>500</td>\n",
       "      <td>2.0</td>\n",
       "      <td>2507</td>\n",
       "      <td>4.0</td>\n",
       "      <td>480</td>\n",
       "      <td>2.0</td>\n",
       "      <td>614</td>\n",
       "      <td>2.0</td>\n",
       "      <td>...</td>\n",
       "      <td>0</td>\n",
       "      <td>1</td>\n",
       "      <td>0</td>\n",
       "      <td>1</td>\n",
       "      <td>1</td>\n",
       "      <td>0</td>\n",
       "      <td>1</td>\n",
       "      <td>0</td>\n",
       "      <td>1</td>\n",
       "      <td>1</td>\n",
       "    </tr>\n",
       "    <tr>\n",
       "      <th>3</th>\n",
       "      <td>3</td>\n",
       "      <td>1.0</td>\n",
       "      <td>669</td>\n",
       "      <td>1.0</td>\n",
       "      <td>1050</td>\n",
       "      <td>5.0</td>\n",
       "      <td>1435</td>\n",
       "      <td>2.0</td>\n",
       "      <td>2252</td>\n",
       "      <td>5.0</td>\n",
       "      <td>...</td>\n",
       "      <td>1</td>\n",
       "      <td>1</td>\n",
       "      <td>1</td>\n",
       "      <td>1</td>\n",
       "      <td>1</td>\n",
       "      <td>1</td>\n",
       "      <td>1</td>\n",
       "      <td>1</td>\n",
       "      <td>1</td>\n",
       "      <td>1</td>\n",
       "    </tr>\n",
       "    <tr>\n",
       "      <th>4</th>\n",
       "      <td>4</td>\n",
       "      <td>2.0</td>\n",
       "      <td>499</td>\n",
       "      <td>1.0</td>\n",
       "      <td>1243</td>\n",
       "      <td>5.0</td>\n",
       "      <td>845</td>\n",
       "      <td>2.0</td>\n",
       "      <td>1666</td>\n",
       "      <td>2.0</td>\n",
       "      <td>...</td>\n",
       "      <td>1</td>\n",
       "      <td>1</td>\n",
       "      <td>0</td>\n",
       "      <td>1</td>\n",
       "      <td>1</td>\n",
       "      <td>0</td>\n",
       "      <td>1</td>\n",
       "      <td>1</td>\n",
       "      <td>1</td>\n",
       "      <td>1</td>\n",
       "    </tr>\n",
       "  </tbody>\n",
       "</table>\n",
       "<p>5 rows × 77 columns</p>\n",
       "</div>"
      ],
      "text/plain": [
       "   index  QaA  QaE  QbA   QbE  QcA   QcE  QdA   QdE  QeA  ...  wr_04  wr_05  \\\n",
       "0      0  3.0  736  2.0  2941  3.0  4621  1.0  4857  2.0  ...      0      1   \n",
       "1      1  3.0  514  2.0  1952  3.0  1552  3.0   821  4.0  ...      0      0   \n",
       "2      2  3.0  500  2.0  2507  4.0   480  2.0   614  2.0  ...      0      1   \n",
       "3      3  1.0  669  1.0  1050  5.0  1435  2.0  2252  5.0  ...      1      1   \n",
       "4      4  2.0  499  1.0  1243  5.0   845  2.0  1666  2.0  ...      1      1   \n",
       "\n",
       "   wr_06  wr_07  wr_08  wr_09  wr_10  wr_11  wr_12  wr_13  \n",
       "0      0      0      1      0      1      0      1      1  \n",
       "1      0      0      0      0      0      0      0      0  \n",
       "2      0      1      1      0      1      0      1      1  \n",
       "3      1      1      1      1      1      1      1      1  \n",
       "4      0      1      1      0      1      1      1      1  \n",
       "\n",
       "[5 rows x 77 columns]"
      ]
     },
     "execution_count": 4,
     "metadata": {},
     "output_type": "execute_result"
    }
   ],
   "source": [
    "test.head()"
   ]
  },
  {
   "cell_type": "code",
   "execution_count": 10,
   "id": "70d1462d",
   "metadata": {},
   "outputs": [],
   "source": [
    "eda_train = train.copy()"
   ]
  },
  {
   "cell_type": "code",
   "execution_count": 11,
   "id": "4dc310fd",
   "metadata": {},
   "outputs": [],
   "source": [
    "Answers = ['QaA', 'QbA', 'QcA', 'QdA', 'QeA',\n",
    "             'QfA', 'QgA', 'QhA', 'QiA', 'QjA', \n",
    "             'QkA', 'QlA', 'QmA', 'QnA', 'QoA', \n",
    "             'QpA', 'QqA', 'QrA', 'QsA', 'QtA']"
   ]
  },
  {
   "cell_type": "code",
   "execution_count": 12,
   "id": "8e6e0f50",
   "metadata": {},
   "outputs": [
    {
     "data": {
      "text/plain": [
       "<AxesSubplot:>"
      ]
     },
     "execution_count": 12,
     "metadata": {},
     "output_type": "execute_result"
    },
    {
     "data": {
      "image/png": "[encoded data removed]",
      "text/plain": [
       "<Figure size 432x288 with 2 Axes>"
      ]
     },
     "metadata": {
      "needs_background": "light"
     },
     "output_type": "display_data"
    }
   ],
   "source": [
    "correlations = eda_train[Answers].corr(method = 'spearman')\n",
    "sns.heatmap(correlations, cmap=\"coolwarm\", square=True, center=0)"
   ]
  },
  {
   "cell_type": "code",
   "execution_count": 13,
   "id": "91d12a57",
   "metadata": {},
   "outputs": [
    {
     "name": "stdout",
     "output_type": "stream",
     "text": [
      "[1.0, 2.0, 3.0, 4.0, 5.0]\n",
      "[1.0, 2.0, 3.0, 4.0, 5.0]\n",
      "[1.0, 2.0, 3.0, 4.0, 5.0]\n",
      "[1.0, 2.0, 3.0, 4.0, 5.0]\n",
      "[1.0, 2.0, 3.0, 4.0, 5.0]\n",
      "[1.0, 2.0, 3.0, 4.0, 5.0]\n",
      "[1.0, 2.0, 3.0, 4.0, 5.0]\n",
      "[1.0, 2.0, 3.0, 4.0, 5.0]\n",
      "[1.0, 2.0, 3.0, 4.0, 5.0]\n",
      "[1.0, 2.0, 3.0, 4.0, 5.0]\n",
      "[1.0, 2.0, 3.0, 4.0, 5.0]\n",
      "[1.0, 2.0, 3.0, 4.0, 5.0]\n",
      "[1.0, 2.0, 3.0, 4.0, 5.0]\n",
      "[1.0, 2.0, 3.0, 4.0, 5.0]\n",
      "[1.0, 2.0, 3.0, 4.0, 5.0]\n",
      "[1.0, 2.0, 3.0, 4.0, 5.0]\n",
      "[1.0, 2.0, 3.0, 4.0, 5.0]\n",
      "[1.0, 2.0, 3.0, 4.0, 5.0]\n",
      "[1.0, 2.0, 3.0, 4.0, 5.0]\n",
      "[1.0, 2.0, 3.0, 4.0, 5.0]\n"
     ]
    }
   ],
   "source": [
    "for col in eda_train[Answers]:\n",
    "    print(sorted(eda_train[col].unique()))"
   ]
  },
  {
   "cell_type": "code",
   "execution_count": 14,
   "id": "ae910139",
   "metadata": {},
   "outputs": [],
   "source": [
    "flipping_columns = [\"QeA\", \"QfA\", \"QkA\", \"QqA\", \"QrA\"]\n",
    "for flip in flipping_columns: \n",
    "    eda_train[flip] = 6 - eda_train[flip]"
   ]
  },
  {
   "cell_type": "code",
   "execution_count": 15,
   "id": "bf25e390",
   "metadata": {},
   "outputs": [
    {
     "data": {
      "text/plain": [
       "<AxesSubplot:>"
      ]
     },
     "execution_count": 15,
     "metadata": {},
     "output_type": "execute_result"
    },
    {
     "data": {
      "image/png": "[encoded data removed]",
      "text/plain": [
       "<Figure size 432x288 with 2 Axes>"
      ]
     },
     "metadata": {
      "needs_background": "light"
     },
     "output_type": "display_data"
    }
   ],
   "source": [
    "correlations = eda_train[Answers].corr(method = 'spearman')\n",
    "sns.heatmap(correlations, cmap=\"coolwarm\", square=True, center=0)"
   ]
  },
  {
   "cell_type": "code",
   "execution_count": 16,
   "id": "d24f70b2",
   "metadata": {},
   "outputs": [],
   "source": [
    "questions = [i for i in list(ascii_lowercase)[:20]]\n",
    "eda_train['delay'] = eda_train[[('Q'+i+'E') for i in questions]].sum(axis=1)"
   ]
  },
  {
   "cell_type": "code",
   "execution_count": 17,
   "id": "c54f9b7e",
   "metadata": {},
   "outputs": [
    {
     "name": "stderr",
     "output_type": "stream",
     "text": [
      "C:\\Users\\hhz20\\anaconda3\\envs\\sklearn\\lib\\site-packages\\seaborn\\distributions.py:2619: FutureWarning: `distplot` is a deprecated function and will be removed in a future version. Please adapt your code to use either `displot` (a figure-level function with similar flexibility) or `histplot` (an axes-level function for histograms).\n",
      "  warnings.warn(msg, FutureWarning)\n",
      "C:\\Users\\hhz20\\anaconda3\\envs\\sklearn\\lib\\site-packages\\seaborn\\distributions.py:2103: FutureWarning: The `axis` variable is no longer used and will be removed. Instead, assign variables directly to `x` or `y`.\n",
      "  warnings.warn(msg, FutureWarning)\n"
     ]
    },
    {
     "data": {
      "text/plain": [
       "<AxesSubplot:xlabel='delay', ylabel='Density'>"
      ]
     },
     "execution_count": 17,
     "metadata": {},
     "output_type": "execute_result"
    },
    {
     "data": {
      "image/png": "[encoded data removed]",
      "text/plain": [
       "<Figure size 432x288 with 1 Axes>"
      ]
     },
     "metadata": {
      "needs_background": "light"
     },
     "output_type": "display_data"
    }
   ],
   "source": [
    "eda_train['delay'] = eda_train['delay'] ** (1/10)\n",
    "sns.distplot(eda_train['delay'], rug = True)"
   ]
  },
  {
   "cell_type": "code",
   "execution_count": 19,
   "id": "3f57ce43",
   "metadata": {},
   "outputs": [],
   "source": [
    "voted = eda_train[eda_train['voted']==1]\n",
    "unvoted = eda_train[eda_train['voted']==2]"
   ]
  },
  {
   "cell_type": "code",
   "execution_count": 20,
   "id": "6fa58b8c",
   "metadata": {},
   "outputs": [
    {
     "data": {
      "text/plain": [
       "<AxesSubplot:xlabel='age_group', ylabel='count'>"
      ]
     },
     "execution_count": 20,
     "metadata": {},
     "output_type": "execute_result"
    },
    {
     "data": {
      "image/png": "[encoded data removed]",
      "text/plain": [
       "<Figure size 576x432 with 1 Axes>"
      ]
     },
     "metadata": {
      "needs_background": "light"
     },
     "output_type": "display_data"
    }
   ],
   "source": [
    "plt.figure(figsize = (8,6))\n",
    "sns.countplot(data = eda_train, x = 'age_group', hue = eda_train['voted'])"
   ]
  },
  {
   "cell_type": "code",
   "execution_count": 21,
   "id": "66e0ed04",
   "metadata": {},
   "outputs": [
    {
     "data": {
      "text/plain": [
       "<AxesSubplot:xlabel='married', ylabel='count'>"
      ]
     },
     "execution_count": 21,
     "metadata": {},
     "output_type": "execute_result"
    },
    {
     "data": {
      "image/png": "[encoded data removed]",
      "text/plain": [
       "<Figure size 576x432 with 1 Axes>"
      ]
     },
     "metadata": {
      "needs_background": "light"
     },
     "output_type": "display_data"
    }
   ],
   "source": [
    "plt.figure(figsize = (8,6))\n",
    "sns.countplot(data = eda_train, x = 'married', hue = eda_train['voted'])"
   ]
  },
  {
   "cell_type": "code",
   "execution_count": 22,
   "id": "6c08965e",
   "metadata": {},
   "outputs": [
    {
     "data": {
      "text/plain": [
       "<AxesSubplot:xlabel='gender', ylabel='count'>"
      ]
     },
     "execution_count": 22,
     "metadata": {},
     "output_type": "execute_result"
    },
    {
     "data": {
      "image/png": "[encoded data removed]",
      "text/plain": [
       "<Figure size 576x432 with 1 Axes>"
      ]
     },
     "metadata": {
      "needs_background": "light"
     },
     "output_type": "display_data"
    }
   ],
   "source": [
    "plt.figure(figsize = (8,6))\n",
    "sns.countplot(data = eda_train, x = 'gender', hue = eda_train['voted'])"
   ]
  },
  {
   "cell_type": "code",
   "execution_count": 23,
   "id": "2adfd19b",
   "metadata": {},
   "outputs": [
    {
     "data": {
      "text/plain": [
       "<AxesSubplot:xlabel='race', ylabel='count'>"
      ]
     },
     "execution_count": 23,
     "metadata": {},
     "output_type": "execute_result"
    },
    {
     "data": {
      "image/png": "[encoded data removed]",
      "text/plain": [
       "<Figure size 576x432 with 1 Axes>"
      ]
     },
     "metadata": {
      "needs_background": "light"
     },
     "output_type": "display_data"
    }
   ],
   "source": [
    "plt.figure(figsize = (8,6))\n",
    "sns.countplot(data = eda_train, x = 'race', hue = eda_train['voted'])"
   ]
  },
  {
   "cell_type": "code",
   "execution_count": 24,
   "id": "21f99b3c",
   "metadata": {},
   "outputs": [
    {
     "data": {
      "text/plain": [
       "<AxesSubplot:xlabel='religion', ylabel='count'>"
      ]
     },
     "execution_count": 24,
     "metadata": {},
     "output_type": "execute_result"
    },
    {
     "data": {
      "image/png": "[encoded data removed]",
      "text/plain": [
       "<Figure size 576x432 with 1 Axes>"
      ]
     },
     "metadata": {
      "needs_background": "light"
     },
     "output_type": "display_data"
    }
   ],
   "source": [
    "plt.figure(figsize = (8,6))\n",
    "sns.countplot(data = eda_train, x = 'religion', hue = eda_train['voted'])"
   ]
  },
  {
   "cell_type": "code",
   "execution_count": 25,
   "id": "e1687fae",
   "metadata": {},
   "outputs": [
    {
     "data": {
      "text/plain": [
       "<AxesSubplot:xlabel='urban', ylabel='count'>"
      ]
     },
     "execution_count": 25,
     "metadata": {},
     "output_type": "execute_result"
    },
    {
     "data": {
      "image/png": "[encoded data removed]",
      "text/plain": [
       "<Figure size 576x432 with 1 Axes>"
      ]
     },
     "metadata": {
      "needs_background": "light"
     },
     "output_type": "display_data"
    }
   ],
   "source": [
    "plt.figure(figsize = (8,6))\n",
    "sns.countplot(data = eda_train, x = 'urban', hue = eda_train['voted'])"
   ]
  },
  {
   "cell_type": "code",
   "execution_count": 26,
   "id": "6173eabf",
   "metadata": {},
   "outputs": [
    {
     "data": {
      "text/plain": [
       "<AxesSubplot:xlabel='engnat', ylabel='count'>"
      ]
     },
     "execution_count": 26,
     "metadata": {},
     "output_type": "execute_result"
    },
    {
     "data": {
      "image/png": "[encoded data removed]",
      "text/plain": [
       "<Figure size 576x432 with 1 Axes>"
      ]
     },
     "metadata": {
      "needs_background": "light"
     },
     "output_type": "display_data"
    }
   ],
   "source": [
    "plt.figure(figsize = (8,6))\n",
    "sns.countplot(data = eda_train, x = 'engnat', hue = eda_train['voted'])"
   ]
  },
  {
   "cell_type": "code",
   "execution_count": 27,
   "id": "e32f2da6",
   "metadata": {},
   "outputs": [
    {
     "data": {
      "text/plain": [
       "<AxesSubplot:xlabel='familysize', ylabel='count'>"
      ]
     },
     "execution_count": 27,
     "metadata": {},
     "output_type": "execute_result"
    },
    {
     "data": {
      "image/png": "[encoded data removed]",
      "text/plain": [
       "<Figure size 576x432 with 1 Axes>"
      ]
     },
     "metadata": {
      "needs_background": "light"
     },
     "output_type": "display_data"
    }
   ],
   "source": [
    "plt.figure(figsize = (8,6))\n",
    "sns.countplot(data = eda_train, x = 'familysize', hue = eda_train['voted'])"
   ]
  },
  {
   "cell_type": "code",
   "execution_count": 28,
   "id": "c62818e2",
   "metadata": {},
   "outputs": [],
   "source": [
    "x_train = train.copy()\n",
    "x_train.drop('voted', axis=1, inplace = True)\n",
    "y_train = train['voted']"
   ]
  },
  {
   "cell_type": "code",
   "execution_count": 29,
   "id": "a19d33f5",
   "metadata": {},
   "outputs": [],
   "source": [
    "dataset = [x_train, test]"
   ]
  },
  {
   "cell_type": "code",
   "execution_count": 30,
   "id": "091f6be4",
   "metadata": {},
   "outputs": [],
   "source": [
    "questions = [i for i in list(ascii_lowercase)[:20]]\n",
    "answers = [('Q'+i+'A') for i in questions]"
   ]
  },
  {
   "cell_type": "code",
   "execution_count": 31,
   "id": "2a65d817",
   "metadata": {},
   "outputs": [],
   "source": [
    "for data in dataset:\n",
    "  data['T'] = data['QcA'] - data['QfA'] + data['QoA'] - data['QrA'] + data['QsA']\n",
    "  data['V'] = data['QbA'] - data['QeA'] + data['QhA'] + data['QjA'] + data['QmA'] - data['QqA']\n",
    "  data['M'] = - data['QkA']"
   ]
  },
  {
   "cell_type": "code",
   "execution_count": 32,
   "id": "4660f5f7",
   "metadata": {},
   "outputs": [],
   "source": [
    "flipping_columns = [\"QeA\", \"QfA\", \"QkA\", \"QqA\", \"QrA\"]\n",
    "for data in dataset:\n",
    "  for flip in flipping_columns: \n",
    "    data[flip] = 6 - data[flip]"
   ]
  },
  {
   "cell_type": "code",
   "execution_count": 33,
   "id": "165a6b4d",
   "metadata": {},
   "outputs": [],
   "source": [
    "flipping_secret_columns = [\"QaA\", \"QdA\", \"QgA\", \"QiA\", \"QnA\"]\n",
    "for data in dataset:\n",
    "  for flip in flipping_secret_columns: \n",
    "    data[flip] = 6 - data[flip]"
   ]
  },
  {
   "cell_type": "code",
   "execution_count": 34,
   "id": "dea6e069",
   "metadata": {},
   "outputs": [],
   "source": [
    "for data in dataset:\n",
    "  data['Mach_score'] = data[answers].mean(axis = 1)"
   ]
  },
  {
   "cell_type": "code",
   "execution_count": 35,
   "id": "d46e6a56",
   "metadata": {},
   "outputs": [],
   "source": [
    "for data in dataset:\n",
    "  data['delay'] = data[[('Q'+i+'E') for i in questions]].sum(axis=1)\n",
    "  data['delay'] = data['delay'] ** (1/10)"
   ]
  },
  {
   "cell_type": "code",
   "execution_count": 36,
   "id": "6c67a49f",
   "metadata": {},
   "outputs": [
    {
     "name": "stderr",
     "output_type": "stream",
     "text": [
      "C:\\Users\\hhz20\\AppData\\Local\\Temp\\ipykernel_7312\\1581226005.py:4: PerformanceWarning: DataFrame is highly fragmented.  This is usually the result of calling `frame.insert` many times, which has poor performance.  Consider joining all columns at once using pd.concat(axis=1) instead. To get a de-fragmented frame, use `newframe = frame.copy()`\n",
      "  data['%s_dv_%s'%(a,b)] = data[a]/data[b]\n",
      "C:\\Users\\hhz20\\AppData\\Local\\Temp\\ipykernel_7312\\1581226005.py:4: PerformanceWarning: DataFrame is highly fragmented.  This is usually the result of calling `frame.insert` many times, which has poor performance.  Consider joining all columns at once using pd.concat(axis=1) instead. To get a de-fragmented frame, use `newframe = frame.copy()`\n",
      "  data['%s_dv_%s'%(a,b)] = data[a]/data[b]\n",
      "C:\\Users\\hhz20\\AppData\\Local\\Temp\\ipykernel_7312\\1581226005.py:4: PerformanceWarning: DataFrame is highly fragmented.  This is usually the result of calling `frame.insert` many times, which has poor performance.  Consider joining all columns at once using pd.concat(axis=1) instead. To get a de-fragmented frame, use `newframe = frame.copy()`\n",
      "  data['%s_dv_%s'%(a,b)] = data[a]/data[b]\n",
      "C:\\Users\\hhz20\\AppData\\Local\\Temp\\ipykernel_7312\\1581226005.py:4: PerformanceWarning: DataFrame is highly fragmented.  This is usually the result of calling `frame.insert` many times, which has poor performance.  Consider joining all columns at once using pd.concat(axis=1) instead. To get a de-fragmented frame, use `newframe = frame.copy()`\n",
      "  data['%s_dv_%s'%(a,b)] = data[a]/data[b]\n",
      "C:\\Users\\hhz20\\AppData\\Local\\Temp\\ipykernel_7312\\1581226005.py:4: PerformanceWarning: DataFrame is highly fragmented.  This is usually the result of calling `frame.insert` many times, which has poor performance.  Consider joining all columns at once using pd.concat(axis=1) instead. To get a de-fragmented frame, use `newframe = frame.copy()`\n",
      "  data['%s_dv_%s'%(a,b)] = data[a]/data[b]\n",
      "C:\\Users\\hhz20\\AppData\\Local\\Temp\\ipykernel_7312\\1581226005.py:4: PerformanceWarning: DataFrame is highly fragmented.  This is usually the result of calling `frame.insert` many times, which has poor performance.  Consider joining all columns at once using pd.concat(axis=1) instead. To get a de-fragmented frame, use `newframe = frame.copy()`\n",
      "  data['%s_dv_%s'%(a,b)] = data[a]/data[b]\n",
      "C:\\Users\\hhz20\\AppData\\Local\\Temp\\ipykernel_7312\\1581226005.py:4: PerformanceWarning: DataFrame is highly fragmented.  This is usually the result of calling `frame.insert` many times, which has poor performance.  Consider joining all columns at once using pd.concat(axis=1) instead. To get a de-fragmented frame, use `newframe = frame.copy()`\n",
      "  data['%s_dv_%s'%(a,b)] = data[a]/data[b]\n",
      "C:\\Users\\hhz20\\AppData\\Local\\Temp\\ipykernel_7312\\1581226005.py:4: PerformanceWarning: DataFrame is highly fragmented.  This is usually the result of calling `frame.insert` many times, which has poor performance.  Consider joining all columns at once using pd.concat(axis=1) instead. To get a de-fragmented frame, use `newframe = frame.copy()`\n",
      "  data['%s_dv_%s'%(a,b)] = data[a]/data[b]\n",
      "C:\\Users\\hhz20\\AppData\\Local\\Temp\\ipykernel_7312\\1581226005.py:4: PerformanceWarning: DataFrame is highly fragmented.  This is usually the result of calling `frame.insert` many times, which has poor performance.  Consider joining all columns at once using pd.concat(axis=1) instead. To get a de-fragmented frame, use `newframe = frame.copy()`\n",
      "  data['%s_dv_%s'%(a,b)] = data[a]/data[b]\n",
      "C:\\Users\\hhz20\\AppData\\Local\\Temp\\ipykernel_7312\\1581226005.py:4: PerformanceWarning: DataFrame is highly fragmented.  This is usually the result of calling `frame.insert` many times, which has poor performance.  Consider joining all columns at once using pd.concat(axis=1) instead. To get a de-fragmented frame, use `newframe = frame.copy()`\n",
      "  data['%s_dv_%s'%(a,b)] = data[a]/data[b]\n",
      "C:\\Users\\hhz20\\AppData\\Local\\Temp\\ipykernel_7312\\1581226005.py:4: PerformanceWarning: DataFrame is highly fragmented.  This is usually the result of calling `frame.insert` many times, which has poor performance.  Consider joining all columns at once using pd.concat(axis=1) instead. To get a de-fragmented frame, use `newframe = frame.copy()`\n",
      "  data['%s_dv_%s'%(a,b)] = data[a]/data[b]\n",
      "C:\\Users\\hhz20\\AppData\\Local\\Temp\\ipykernel_7312\\1581226005.py:4: PerformanceWarning: DataFrame is highly fragmented.  This is usually the result of calling `frame.insert` many times, which has poor performance.  Consider joining all columns at once using pd.concat(axis=1) instead. To get a de-fragmented frame, use `newframe = frame.copy()`\n",
      "  data['%s_dv_%s'%(a,b)] = data[a]/data[b]\n",
      "C:\\Users\\hhz20\\AppData\\Local\\Temp\\ipykernel_7312\\1581226005.py:4: PerformanceWarning: DataFrame is highly fragmented.  This is usually the result of calling `frame.insert` many times, which has poor performance.  Consider joining all columns at once using pd.concat(axis=1) instead. To get a de-fragmented frame, use `newframe = frame.copy()`\n",
      "  data['%s_dv_%s'%(a,b)] = data[a]/data[b]\n",
      "C:\\Users\\hhz20\\AppData\\Local\\Temp\\ipykernel_7312\\1581226005.py:4: PerformanceWarning: DataFrame is highly fragmented.  This is usually the result of calling `frame.insert` many times, which has poor performance.  Consider joining all columns at once using pd.concat(axis=1) instead. To get a de-fragmented frame, use `newframe = frame.copy()`\n",
      "  data['%s_dv_%s'%(a,b)] = data[a]/data[b]\n",
      "C:\\Users\\hhz20\\AppData\\Local\\Temp\\ipykernel_7312\\1581226005.py:4: PerformanceWarning: DataFrame is highly fragmented.  This is usually the result of calling `frame.insert` many times, which has poor performance.  Consider joining all columns at once using pd.concat(axis=1) instead. To get a de-fragmented frame, use `newframe = frame.copy()`\n",
      "  data['%s_dv_%s'%(a,b)] = data[a]/data[b]\n",
      "C:\\Users\\hhz20\\AppData\\Local\\Temp\\ipykernel_7312\\1581226005.py:4: PerformanceWarning: DataFrame is highly fragmented.  This is usually the result of calling `frame.insert` many times, which has poor performance.  Consider joining all columns at once using pd.concat(axis=1) instead. To get a de-fragmented frame, use `newframe = frame.copy()`\n",
      "  data['%s_dv_%s'%(a,b)] = data[a]/data[b]\n",
      "C:\\Users\\hhz20\\AppData\\Local\\Temp\\ipykernel_7312\\1581226005.py:4: PerformanceWarning: DataFrame is highly fragmented.  This is usually the result of calling `frame.insert` many times, which has poor performance.  Consider joining all columns at once using pd.concat(axis=1) instead. To get a de-fragmented frame, use `newframe = frame.copy()`\n",
      "  data['%s_dv_%s'%(a,b)] = data[a]/data[b]\n",
      "C:\\Users\\hhz20\\AppData\\Local\\Temp\\ipykernel_7312\\1581226005.py:4: PerformanceWarning: DataFrame is highly fragmented.  This is usually the result of calling `frame.insert` many times, which has poor performance.  Consider joining all columns at once using pd.concat(axis=1) instead. To get a de-fragmented frame, use `newframe = frame.copy()`\n",
      "  data['%s_dv_%s'%(a,b)] = data[a]/data[b]\n",
      "C:\\Users\\hhz20\\AppData\\Local\\Temp\\ipykernel_7312\\1581226005.py:4: PerformanceWarning: DataFrame is highly fragmented.  This is usually the result of calling `frame.insert` many times, which has poor performance.  Consider joining all columns at once using pd.concat(axis=1) instead. To get a de-fragmented frame, use `newframe = frame.copy()`\n",
      "  data['%s_dv_%s'%(a,b)] = data[a]/data[b]\n",
      "C:\\Users\\hhz20\\AppData\\Local\\Temp\\ipykernel_7312\\1581226005.py:4: PerformanceWarning: DataFrame is highly fragmented.  This is usually the result of calling `frame.insert` many times, which has poor performance.  Consider joining all columns at once using pd.concat(axis=1) instead. To get a de-fragmented frame, use `newframe = frame.copy()`\n",
      "  data['%s_dv_%s'%(a,b)] = data[a]/data[b]\n",
      "C:\\Users\\hhz20\\AppData\\Local\\Temp\\ipykernel_7312\\1581226005.py:4: PerformanceWarning: DataFrame is highly fragmented.  This is usually the result of calling `frame.insert` many times, which has poor performance.  Consider joining all columns at once using pd.concat(axis=1) instead. To get a de-fragmented frame, use `newframe = frame.copy()`\n",
      "  data['%s_dv_%s'%(a,b)] = data[a]/data[b]\n",
      "C:\\Users\\hhz20\\AppData\\Local\\Temp\\ipykernel_7312\\1581226005.py:4: PerformanceWarning: DataFrame is highly fragmented.  This is usually the result of calling `frame.insert` many times, which has poor performance.  Consider joining all columns at once using pd.concat(axis=1) instead. To get a de-fragmented frame, use `newframe = frame.copy()`\n",
      "  data['%s_dv_%s'%(a,b)] = data[a]/data[b]\n",
      "C:\\Users\\hhz20\\AppData\\Local\\Temp\\ipykernel_7312\\1581226005.py:4: PerformanceWarning: DataFrame is highly fragmented.  This is usually the result of calling `frame.insert` many times, which has poor performance.  Consider joining all columns at once using pd.concat(axis=1) instead. To get a de-fragmented frame, use `newframe = frame.copy()`\n",
      "  data['%s_dv_%s'%(a,b)] = data[a]/data[b]\n",
      "C:\\Users\\hhz20\\AppData\\Local\\Temp\\ipykernel_7312\\1581226005.py:4: PerformanceWarning: DataFrame is highly fragmented.  This is usually the result of calling `frame.insert` many times, which has poor performance.  Consider joining all columns at once using pd.concat(axis=1) instead. To get a de-fragmented frame, use `newframe = frame.copy()`\n",
      "  data['%s_dv_%s'%(a,b)] = data[a]/data[b]\n",
      "C:\\Users\\hhz20\\AppData\\Local\\Temp\\ipykernel_7312\\1581226005.py:4: PerformanceWarning: DataFrame is highly fragmented.  This is usually the result of calling `frame.insert` many times, which has poor performance.  Consider joining all columns at once using pd.concat(axis=1) instead. To get a de-fragmented frame, use `newframe = frame.copy()`\n",
      "  data['%s_dv_%s'%(a,b)] = data[a]/data[b]\n",
      "C:\\Users\\hhz20\\AppData\\Local\\Temp\\ipykernel_7312\\1581226005.py:4: PerformanceWarning: DataFrame is highly fragmented.  This is usually the result of calling `frame.insert` many times, which has poor performance.  Consider joining all columns at once using pd.concat(axis=1) instead. To get a de-fragmented frame, use `newframe = frame.copy()`\n",
      "  data['%s_dv_%s'%(a,b)] = data[a]/data[b]\n",
      "C:\\Users\\hhz20\\AppData\\Local\\Temp\\ipykernel_7312\\1581226005.py:4: PerformanceWarning: DataFrame is highly fragmented.  This is usually the result of calling `frame.insert` many times, which has poor performance.  Consider joining all columns at once using pd.concat(axis=1) instead. To get a de-fragmented frame, use `newframe = frame.copy()`\n",
      "  data['%s_dv_%s'%(a,b)] = data[a]/data[b]\n",
      "C:\\Users\\hhz20\\AppData\\Local\\Temp\\ipykernel_7312\\1581226005.py:4: PerformanceWarning: DataFrame is highly fragmented.  This is usually the result of calling `frame.insert` many times, which has poor performance.  Consider joining all columns at once using pd.concat(axis=1) instead. To get a de-fragmented frame, use `newframe = frame.copy()`\n",
      "  data['%s_dv_%s'%(a,b)] = data[a]/data[b]\n",
      "C:\\Users\\hhz20\\AppData\\Local\\Temp\\ipykernel_7312\\1581226005.py:4: PerformanceWarning: DataFrame is highly fragmented.  This is usually the result of calling `frame.insert` many times, which has poor performance.  Consider joining all columns at once using pd.concat(axis=1) instead. To get a de-fragmented frame, use `newframe = frame.copy()`\n",
      "  data['%s_dv_%s'%(a,b)] = data[a]/data[b]\n",
      "C:\\Users\\hhz20\\AppData\\Local\\Temp\\ipykernel_7312\\1581226005.py:4: PerformanceWarning: DataFrame is highly fragmented.  This is usually the result of calling `frame.insert` many times, which has poor performance.  Consider joining all columns at once using pd.concat(axis=1) instead. To get a de-fragmented frame, use `newframe = frame.copy()`\n",
      "  data['%s_dv_%s'%(a,b)] = data[a]/data[b]\n",
      "C:\\Users\\hhz20\\AppData\\Local\\Temp\\ipykernel_7312\\1581226005.py:4: PerformanceWarning: DataFrame is highly fragmented.  This is usually the result of calling `frame.insert` many times, which has poor performance.  Consider joining all columns at once using pd.concat(axis=1) instead. To get a de-fragmented frame, use `newframe = frame.copy()`\n",
      "  data['%s_dv_%s'%(a,b)] = data[a]/data[b]\n",
      "C:\\Users\\hhz20\\AppData\\Local\\Temp\\ipykernel_7312\\1581226005.py:4: PerformanceWarning: DataFrame is highly fragmented.  This is usually the result of calling `frame.insert` many times, which has poor performance.  Consider joining all columns at once using pd.concat(axis=1) instead. To get a de-fragmented frame, use `newframe = frame.copy()`\n",
      "  data['%s_dv_%s'%(a,b)] = data[a]/data[b]\n",
      "C:\\Users\\hhz20\\AppData\\Local\\Temp\\ipykernel_7312\\1581226005.py:4: PerformanceWarning: DataFrame is highly fragmented.  This is usually the result of calling `frame.insert` many times, which has poor performance.  Consider joining all columns at once using pd.concat(axis=1) instead. To get a de-fragmented frame, use `newframe = frame.copy()`\n",
      "  data['%s_dv_%s'%(a,b)] = data[a]/data[b]\n",
      "C:\\Users\\hhz20\\AppData\\Local\\Temp\\ipykernel_7312\\1581226005.py:4: PerformanceWarning: DataFrame is highly fragmented.  This is usually the result of calling `frame.insert` many times, which has poor performance.  Consider joining all columns at once using pd.concat(axis=1) instead. To get a de-fragmented frame, use `newframe = frame.copy()`\n",
      "  data['%s_dv_%s'%(a,b)] = data[a]/data[b]\n",
      "C:\\Users\\hhz20\\AppData\\Local\\Temp\\ipykernel_7312\\1581226005.py:4: PerformanceWarning: DataFrame is highly fragmented.  This is usually the result of calling `frame.insert` many times, which has poor performance.  Consider joining all columns at once using pd.concat(axis=1) instead. To get a de-fragmented frame, use `newframe = frame.copy()`\n",
      "  data['%s_dv_%s'%(a,b)] = data[a]/data[b]\n",
      "C:\\Users\\hhz20\\AppData\\Local\\Temp\\ipykernel_7312\\1581226005.py:4: PerformanceWarning: DataFrame is highly fragmented.  This is usually the result of calling `frame.insert` many times, which has poor performance.  Consider joining all columns at once using pd.concat(axis=1) instead. To get a de-fragmented frame, use `newframe = frame.copy()`\n",
      "  data['%s_dv_%s'%(a,b)] = data[a]/data[b]\n",
      "C:\\Users\\hhz20\\AppData\\Local\\Temp\\ipykernel_7312\\1581226005.py:4: PerformanceWarning: DataFrame is highly fragmented.  This is usually the result of calling `frame.insert` many times, which has poor performance.  Consider joining all columns at once using pd.concat(axis=1) instead. To get a de-fragmented frame, use `newframe = frame.copy()`\n",
      "  data['%s_dv_%s'%(a,b)] = data[a]/data[b]\n",
      "C:\\Users\\hhz20\\AppData\\Local\\Temp\\ipykernel_7312\\1581226005.py:4: PerformanceWarning: DataFrame is highly fragmented.  This is usually the result of calling `frame.insert` many times, which has poor performance.  Consider joining all columns at once using pd.concat(axis=1) instead. To get a de-fragmented frame, use `newframe = frame.copy()`\n",
      "  data['%s_dv_%s'%(a,b)] = data[a]/data[b]\n",
      "C:\\Users\\hhz20\\AppData\\Local\\Temp\\ipykernel_7312\\1581226005.py:4: PerformanceWarning: DataFrame is highly fragmented.  This is usually the result of calling `frame.insert` many times, which has poor performance.  Consider joining all columns at once using pd.concat(axis=1) instead. To get a de-fragmented frame, use `newframe = frame.copy()`\n",
      "  data['%s_dv_%s'%(a,b)] = data[a]/data[b]\n",
      "C:\\Users\\hhz20\\AppData\\Local\\Temp\\ipykernel_7312\\1581226005.py:4: PerformanceWarning: DataFrame is highly fragmented.  This is usually the result of calling `frame.insert` many times, which has poor performance.  Consider joining all columns at once using pd.concat(axis=1) instead. To get a de-fragmented frame, use `newframe = frame.copy()`\n",
      "  data['%s_dv_%s'%(a,b)] = data[a]/data[b]\n",
      "C:\\Users\\hhz20\\AppData\\Local\\Temp\\ipykernel_7312\\1581226005.py:4: PerformanceWarning: DataFrame is highly fragmented.  This is usually the result of calling `frame.insert` many times, which has poor performance.  Consider joining all columns at once using pd.concat(axis=1) instead. To get a de-fragmented frame, use `newframe = frame.copy()`\n",
      "  data['%s_dv_%s'%(a,b)] = data[a]/data[b]\n",
      "C:\\Users\\hhz20\\AppData\\Local\\Temp\\ipykernel_7312\\1581226005.py:4: PerformanceWarning: DataFrame is highly fragmented.  This is usually the result of calling `frame.insert` many times, which has poor performance.  Consider joining all columns at once using pd.concat(axis=1) instead. To get a de-fragmented frame, use `newframe = frame.copy()`\n",
      "  data['%s_dv_%s'%(a,b)] = data[a]/data[b]\n",
      "C:\\Users\\hhz20\\AppData\\Local\\Temp\\ipykernel_7312\\1581226005.py:4: PerformanceWarning: DataFrame is highly fragmented.  This is usually the result of calling `frame.insert` many times, which has poor performance.  Consider joining all columns at once using pd.concat(axis=1) instead. To get a de-fragmented frame, use `newframe = frame.copy()`\n",
      "  data['%s_dv_%s'%(a,b)] = data[a]/data[b]\n",
      "C:\\Users\\hhz20\\AppData\\Local\\Temp\\ipykernel_7312\\1581226005.py:4: PerformanceWarning: DataFrame is highly fragmented.  This is usually the result of calling `frame.insert` many times, which has poor performance.  Consider joining all columns at once using pd.concat(axis=1) instead. To get a de-fragmented frame, use `newframe = frame.copy()`\n",
      "  data['%s_dv_%s'%(a,b)] = data[a]/data[b]\n",
      "C:\\Users\\hhz20\\AppData\\Local\\Temp\\ipykernel_7312\\1581226005.py:4: PerformanceWarning: DataFrame is highly fragmented.  This is usually the result of calling `frame.insert` many times, which has poor performance.  Consider joining all columns at once using pd.concat(axis=1) instead. To get a de-fragmented frame, use `newframe = frame.copy()`\n",
      "  data['%s_dv_%s'%(a,b)] = data[a]/data[b]\n",
      "C:\\Users\\hhz20\\AppData\\Local\\Temp\\ipykernel_7312\\1581226005.py:4: PerformanceWarning: DataFrame is highly fragmented.  This is usually the result of calling `frame.insert` many times, which has poor performance.  Consider joining all columns at once using pd.concat(axis=1) instead. To get a de-fragmented frame, use `newframe = frame.copy()`\n",
      "  data['%s_dv_%s'%(a,b)] = data[a]/data[b]\n",
      "C:\\Users\\hhz20\\AppData\\Local\\Temp\\ipykernel_7312\\1581226005.py:4: PerformanceWarning: DataFrame is highly fragmented.  This is usually the result of calling `frame.insert` many times, which has poor performance.  Consider joining all columns at once using pd.concat(axis=1) instead. To get a de-fragmented frame, use `newframe = frame.copy()`\n",
      "  data['%s_dv_%s'%(a,b)] = data[a]/data[b]\n",
      "C:\\Users\\hhz20\\AppData\\Local\\Temp\\ipykernel_7312\\1581226005.py:4: PerformanceWarning: DataFrame is highly fragmented.  This is usually the result of calling `frame.insert` many times, which has poor performance.  Consider joining all columns at once using pd.concat(axis=1) instead. To get a de-fragmented frame, use `newframe = frame.copy()`\n",
      "  data['%s_dv_%s'%(a,b)] = data[a]/data[b]\n",
      "C:\\Users\\hhz20\\AppData\\Local\\Temp\\ipykernel_7312\\1581226005.py:4: PerformanceWarning: DataFrame is highly fragmented.  This is usually the result of calling `frame.insert` many times, which has poor performance.  Consider joining all columns at once using pd.concat(axis=1) instead. To get a de-fragmented frame, use `newframe = frame.copy()`\n",
      "  data['%s_dv_%s'%(a,b)] = data[a]/data[b]\n",
      "C:\\Users\\hhz20\\AppData\\Local\\Temp\\ipykernel_7312\\1581226005.py:4: PerformanceWarning: DataFrame is highly fragmented.  This is usually the result of calling `frame.insert` many times, which has poor performance.  Consider joining all columns at once using pd.concat(axis=1) instead. To get a de-fragmented frame, use `newframe = frame.copy()`\n",
      "  data['%s_dv_%s'%(a,b)] = data[a]/data[b]\n",
      "C:\\Users\\hhz20\\AppData\\Local\\Temp\\ipykernel_7312\\1581226005.py:4: PerformanceWarning: DataFrame is highly fragmented.  This is usually the result of calling `frame.insert` many times, which has poor performance.  Consider joining all columns at once using pd.concat(axis=1) instead. To get a de-fragmented frame, use `newframe = frame.copy()`\n",
      "  data['%s_dv_%s'%(a,b)] = data[a]/data[b]\n",
      "C:\\Users\\hhz20\\AppData\\Local\\Temp\\ipykernel_7312\\1581226005.py:4: PerformanceWarning: DataFrame is highly fragmented.  This is usually the result of calling `frame.insert` many times, which has poor performance.  Consider joining all columns at once using pd.concat(axis=1) instead. To get a de-fragmented frame, use `newframe = frame.copy()`\n",
      "  data['%s_dv_%s'%(a,b)] = data[a]/data[b]\n",
      "C:\\Users\\hhz20\\AppData\\Local\\Temp\\ipykernel_7312\\1581226005.py:4: PerformanceWarning: DataFrame is highly fragmented.  This is usually the result of calling `frame.insert` many times, which has poor performance.  Consider joining all columns at once using pd.concat(axis=1) instead. To get a de-fragmented frame, use `newframe = frame.copy()`\n",
      "  data['%s_dv_%s'%(a,b)] = data[a]/data[b]\n",
      "C:\\Users\\hhz20\\AppData\\Local\\Temp\\ipykernel_7312\\1581226005.py:4: PerformanceWarning: DataFrame is highly fragmented.  This is usually the result of calling `frame.insert` many times, which has poor performance.  Consider joining all columns at once using pd.concat(axis=1) instead. To get a de-fragmented frame, use `newframe = frame.copy()`\n",
      "  data['%s_dv_%s'%(a,b)] = data[a]/data[b]\n",
      "C:\\Users\\hhz20\\AppData\\Local\\Temp\\ipykernel_7312\\1581226005.py:4: PerformanceWarning: DataFrame is highly fragmented.  This is usually the result of calling `frame.insert` many times, which has poor performance.  Consider joining all columns at once using pd.concat(axis=1) instead. To get a de-fragmented frame, use `newframe = frame.copy()`\n",
      "  data['%s_dv_%s'%(a,b)] = data[a]/data[b]\n",
      "C:\\Users\\hhz20\\AppData\\Local\\Temp\\ipykernel_7312\\1581226005.py:4: PerformanceWarning: DataFrame is highly fragmented.  This is usually the result of calling `frame.insert` many times, which has poor performance.  Consider joining all columns at once using pd.concat(axis=1) instead. To get a de-fragmented frame, use `newframe = frame.copy()`\n",
      "  data['%s_dv_%s'%(a,b)] = data[a]/data[b]\n",
      "C:\\Users\\hhz20\\AppData\\Local\\Temp\\ipykernel_7312\\1581226005.py:4: PerformanceWarning: DataFrame is highly fragmented.  This is usually the result of calling `frame.insert` many times, which has poor performance.  Consider joining all columns at once using pd.concat(axis=1) instead. To get a de-fragmented frame, use `newframe = frame.copy()`\n",
      "  data['%s_dv_%s'%(a,b)] = data[a]/data[b]\n",
      "C:\\Users\\hhz20\\AppData\\Local\\Temp\\ipykernel_7312\\1581226005.py:4: PerformanceWarning: DataFrame is highly fragmented.  This is usually the result of calling `frame.insert` many times, which has poor performance.  Consider joining all columns at once using pd.concat(axis=1) instead. To get a de-fragmented frame, use `newframe = frame.copy()`\n",
      "  data['%s_dv_%s'%(a,b)] = data[a]/data[b]\n",
      "C:\\Users\\hhz20\\AppData\\Local\\Temp\\ipykernel_7312\\1581226005.py:4: PerformanceWarning: DataFrame is highly fragmented.  This is usually the result of calling `frame.insert` many times, which has poor performance.  Consider joining all columns at once using pd.concat(axis=1) instead. To get a de-fragmented frame, use `newframe = frame.copy()`\n",
      "  data['%s_dv_%s'%(a,b)] = data[a]/data[b]\n",
      "C:\\Users\\hhz20\\AppData\\Local\\Temp\\ipykernel_7312\\1581226005.py:4: PerformanceWarning: DataFrame is highly fragmented.  This is usually the result of calling `frame.insert` many times, which has poor performance.  Consider joining all columns at once using pd.concat(axis=1) instead. To get a de-fragmented frame, use `newframe = frame.copy()`\n",
      "  data['%s_dv_%s'%(a,b)] = data[a]/data[b]\n",
      "C:\\Users\\hhz20\\AppData\\Local\\Temp\\ipykernel_7312\\1581226005.py:4: PerformanceWarning: DataFrame is highly fragmented.  This is usually the result of calling `frame.insert` many times, which has poor performance.  Consider joining all columns at once using pd.concat(axis=1) instead. To get a de-fragmented frame, use `newframe = frame.copy()`\n",
      "  data['%s_dv_%s'%(a,b)] = data[a]/data[b]\n",
      "C:\\Users\\hhz20\\AppData\\Local\\Temp\\ipykernel_7312\\1581226005.py:4: PerformanceWarning: DataFrame is highly fragmented.  This is usually the result of calling `frame.insert` many times, which has poor performance.  Consider joining all columns at once using pd.concat(axis=1) instead. To get a de-fragmented frame, use `newframe = frame.copy()`\n",
      "  data['%s_dv_%s'%(a,b)] = data[a]/data[b]\n",
      "C:\\Users\\hhz20\\AppData\\Local\\Temp\\ipykernel_7312\\1581226005.py:4: PerformanceWarning: DataFrame is highly fragmented.  This is usually the result of calling `frame.insert` many times, which has poor performance.  Consider joining all columns at once using pd.concat(axis=1) instead. To get a de-fragmented frame, use `newframe = frame.copy()`\n",
      "  data['%s_dv_%s'%(a,b)] = data[a]/data[b]\n",
      "C:\\Users\\hhz20\\AppData\\Local\\Temp\\ipykernel_7312\\1581226005.py:4: PerformanceWarning: DataFrame is highly fragmented.  This is usually the result of calling `frame.insert` many times, which has poor performance.  Consider joining all columns at once using pd.concat(axis=1) instead. To get a de-fragmented frame, use `newframe = frame.copy()`\n",
      "  data['%s_dv_%s'%(a,b)] = data[a]/data[b]\n",
      "C:\\Users\\hhz20\\AppData\\Local\\Temp\\ipykernel_7312\\1581226005.py:4: PerformanceWarning: DataFrame is highly fragmented.  This is usually the result of calling `frame.insert` many times, which has poor performance.  Consider joining all columns at once using pd.concat(axis=1) instead. To get a de-fragmented frame, use `newframe = frame.copy()`\n",
      "  data['%s_dv_%s'%(a,b)] = data[a]/data[b]\n",
      "C:\\Users\\hhz20\\AppData\\Local\\Temp\\ipykernel_7312\\1581226005.py:4: PerformanceWarning: DataFrame is highly fragmented.  This is usually the result of calling `frame.insert` many times, which has poor performance.  Consider joining all columns at once using pd.concat(axis=1) instead. To get a de-fragmented frame, use `newframe = frame.copy()`\n",
      "  data['%s_dv_%s'%(a,b)] = data[a]/data[b]\n",
      "C:\\Users\\hhz20\\AppData\\Local\\Temp\\ipykernel_7312\\1581226005.py:4: PerformanceWarning: DataFrame is highly fragmented.  This is usually the result of calling `frame.insert` many times, which has poor performance.  Consider joining all columns at once using pd.concat(axis=1) instead. To get a de-fragmented frame, use `newframe = frame.copy()`\n",
      "  data['%s_dv_%s'%(a,b)] = data[a]/data[b]\n",
      "C:\\Users\\hhz20\\AppData\\Local\\Temp\\ipykernel_7312\\1581226005.py:4: PerformanceWarning: DataFrame is highly fragmented.  This is usually the result of calling `frame.insert` many times, which has poor performance.  Consider joining all columns at once using pd.concat(axis=1) instead. To get a de-fragmented frame, use `newframe = frame.copy()`\n",
      "  data['%s_dv_%s'%(a,b)] = data[a]/data[b]\n",
      "C:\\Users\\hhz20\\AppData\\Local\\Temp\\ipykernel_7312\\1581226005.py:4: PerformanceWarning: DataFrame is highly fragmented.  This is usually the result of calling `frame.insert` many times, which has poor performance.  Consider joining all columns at once using pd.concat(axis=1) instead. To get a de-fragmented frame, use `newframe = frame.copy()`\n",
      "  data['%s_dv_%s'%(a,b)] = data[a]/data[b]\n",
      "C:\\Users\\hhz20\\AppData\\Local\\Temp\\ipykernel_7312\\1581226005.py:4: PerformanceWarning: DataFrame is highly fragmented.  This is usually the result of calling `frame.insert` many times, which has poor performance.  Consider joining all columns at once using pd.concat(axis=1) instead. To get a de-fragmented frame, use `newframe = frame.copy()`\n",
      "  data['%s_dv_%s'%(a,b)] = data[a]/data[b]\n",
      "C:\\Users\\hhz20\\AppData\\Local\\Temp\\ipykernel_7312\\1581226005.py:4: PerformanceWarning: DataFrame is highly fragmented.  This is usually the result of calling `frame.insert` many times, which has poor performance.  Consider joining all columns at once using pd.concat(axis=1) instead. To get a de-fragmented frame, use `newframe = frame.copy()`\n",
      "  data['%s_dv_%s'%(a,b)] = data[a]/data[b]\n",
      "C:\\Users\\hhz20\\AppData\\Local\\Temp\\ipykernel_7312\\1581226005.py:4: PerformanceWarning: DataFrame is highly fragmented.  This is usually the result of calling `frame.insert` many times, which has poor performance.  Consider joining all columns at once using pd.concat(axis=1) instead. To get a de-fragmented frame, use `newframe = frame.copy()`\n",
      "  data['%s_dv_%s'%(a,b)] = data[a]/data[b]\n",
      "C:\\Users\\hhz20\\AppData\\Local\\Temp\\ipykernel_7312\\1581226005.py:4: PerformanceWarning: DataFrame is highly fragmented.  This is usually the result of calling `frame.insert` many times, which has poor performance.  Consider joining all columns at once using pd.concat(axis=1) instead. To get a de-fragmented frame, use `newframe = frame.copy()`\n",
      "  data['%s_dv_%s'%(a,b)] = data[a]/data[b]\n",
      "C:\\Users\\hhz20\\AppData\\Local\\Temp\\ipykernel_7312\\1581226005.py:4: PerformanceWarning: DataFrame is highly fragmented.  This is usually the result of calling `frame.insert` many times, which has poor performance.  Consider joining all columns at once using pd.concat(axis=1) instead. To get a de-fragmented frame, use `newframe = frame.copy()`\n",
      "  data['%s_dv_%s'%(a,b)] = data[a]/data[b]\n",
      "C:\\Users\\hhz20\\AppData\\Local\\Temp\\ipykernel_7312\\1581226005.py:4: PerformanceWarning: DataFrame is highly fragmented.  This is usually the result of calling `frame.insert` many times, which has poor performance.  Consider joining all columns at once using pd.concat(axis=1) instead. To get a de-fragmented frame, use `newframe = frame.copy()`\n",
      "  data['%s_dv_%s'%(a,b)] = data[a]/data[b]\n",
      "C:\\Users\\hhz20\\AppData\\Local\\Temp\\ipykernel_7312\\1581226005.py:4: PerformanceWarning: DataFrame is highly fragmented.  This is usually the result of calling `frame.insert` many times, which has poor performance.  Consider joining all columns at once using pd.concat(axis=1) instead. To get a de-fragmented frame, use `newframe = frame.copy()`\n",
      "  data['%s_dv_%s'%(a,b)] = data[a]/data[b]\n",
      "C:\\Users\\hhz20\\AppData\\Local\\Temp\\ipykernel_7312\\1581226005.py:4: PerformanceWarning: DataFrame is highly fragmented.  This is usually the result of calling `frame.insert` many times, which has poor performance.  Consider joining all columns at once using pd.concat(axis=1) instead. To get a de-fragmented frame, use `newframe = frame.copy()`\n",
      "  data['%s_dv_%s'%(a,b)] = data[a]/data[b]\n",
      "C:\\Users\\hhz20\\AppData\\Local\\Temp\\ipykernel_7312\\1581226005.py:4: PerformanceWarning: DataFrame is highly fragmented.  This is usually the result of calling `frame.insert` many times, which has poor performance.  Consider joining all columns at once using pd.concat(axis=1) instead. To get a de-fragmented frame, use `newframe = frame.copy()`\n",
      "  data['%s_dv_%s'%(a,b)] = data[a]/data[b]\n",
      "C:\\Users\\hhz20\\AppData\\Local\\Temp\\ipykernel_7312\\1581226005.py:4: PerformanceWarning: DataFrame is highly fragmented.  This is usually the result of calling `frame.insert` many times, which has poor performance.  Consider joining all columns at once using pd.concat(axis=1) instead. To get a de-fragmented frame, use `newframe = frame.copy()`\n",
      "  data['%s_dv_%s'%(a,b)] = data[a]/data[b]\n",
      "C:\\Users\\hhz20\\AppData\\Local\\Temp\\ipykernel_7312\\1581226005.py:4: PerformanceWarning: DataFrame is highly fragmented.  This is usually the result of calling `frame.insert` many times, which has poor performance.  Consider joining all columns at once using pd.concat(axis=1) instead. To get a de-fragmented frame, use `newframe = frame.copy()`\n",
      "  data['%s_dv_%s'%(a,b)] = data[a]/data[b]\n",
      "C:\\Users\\hhz20\\AppData\\Local\\Temp\\ipykernel_7312\\1581226005.py:4: PerformanceWarning: DataFrame is highly fragmented.  This is usually the result of calling `frame.insert` many times, which has poor performance.  Consider joining all columns at once using pd.concat(axis=1) instead. To get a de-fragmented frame, use `newframe = frame.copy()`\n",
      "  data['%s_dv_%s'%(a,b)] = data[a]/data[b]\n",
      "C:\\Users\\hhz20\\AppData\\Local\\Temp\\ipykernel_7312\\1581226005.py:4: PerformanceWarning: DataFrame is highly fragmented.  This is usually the result of calling `frame.insert` many times, which has poor performance.  Consider joining all columns at once using pd.concat(axis=1) instead. To get a de-fragmented frame, use `newframe = frame.copy()`\n",
      "  data['%s_dv_%s'%(a,b)] = data[a]/data[b]\n",
      "C:\\Users\\hhz20\\AppData\\Local\\Temp\\ipykernel_7312\\1581226005.py:4: PerformanceWarning: DataFrame is highly fragmented.  This is usually the result of calling `frame.insert` many times, which has poor performance.  Consider joining all columns at once using pd.concat(axis=1) instead. To get a de-fragmented frame, use `newframe = frame.copy()`\n",
      "  data['%s_dv_%s'%(a,b)] = data[a]/data[b]\n",
      "C:\\Users\\hhz20\\AppData\\Local\\Temp\\ipykernel_7312\\1581226005.py:4: PerformanceWarning: DataFrame is highly fragmented.  This is usually the result of calling `frame.insert` many times, which has poor performance.  Consider joining all columns at once using pd.concat(axis=1) instead. To get a de-fragmented frame, use `newframe = frame.copy()`\n",
      "  data['%s_dv_%s'%(a,b)] = data[a]/data[b]\n",
      "C:\\Users\\hhz20\\AppData\\Local\\Temp\\ipykernel_7312\\1581226005.py:4: PerformanceWarning: DataFrame is highly fragmented.  This is usually the result of calling `frame.insert` many times, which has poor performance.  Consider joining all columns at once using pd.concat(axis=1) instead. To get a de-fragmented frame, use `newframe = frame.copy()`\n",
      "  data['%s_dv_%s'%(a,b)] = data[a]/data[b]\n",
      "C:\\Users\\hhz20\\AppData\\Local\\Temp\\ipykernel_7312\\1581226005.py:4: PerformanceWarning: DataFrame is highly fragmented.  This is usually the result of calling `frame.insert` many times, which has poor performance.  Consider joining all columns at once using pd.concat(axis=1) instead. To get a de-fragmented frame, use `newframe = frame.copy()`\n",
      "  data['%s_dv_%s'%(a,b)] = data[a]/data[b]\n",
      "C:\\Users\\hhz20\\AppData\\Local\\Temp\\ipykernel_7312\\1581226005.py:4: PerformanceWarning: DataFrame is highly fragmented.  This is usually the result of calling `frame.insert` many times, which has poor performance.  Consider joining all columns at once using pd.concat(axis=1) instead. To get a de-fragmented frame, use `newframe = frame.copy()`\n",
      "  data['%s_dv_%s'%(a,b)] = data[a]/data[b]\n",
      "C:\\Users\\hhz20\\AppData\\Local\\Temp\\ipykernel_7312\\1581226005.py:4: PerformanceWarning: DataFrame is highly fragmented.  This is usually the result of calling `frame.insert` many times, which has poor performance.  Consider joining all columns at once using pd.concat(axis=1) instead. To get a de-fragmented frame, use `newframe = frame.copy()`\n",
      "  data['%s_dv_%s'%(a,b)] = data[a]/data[b]\n",
      "C:\\Users\\hhz20\\AppData\\Local\\Temp\\ipykernel_7312\\1581226005.py:4: PerformanceWarning: DataFrame is highly fragmented.  This is usually the result of calling `frame.insert` many times, which has poor performance.  Consider joining all columns at once using pd.concat(axis=1) instead. To get a de-fragmented frame, use `newframe = frame.copy()`\n",
      "  data['%s_dv_%s'%(a,b)] = data[a]/data[b]\n",
      "C:\\Users\\hhz20\\AppData\\Local\\Temp\\ipykernel_7312\\1581226005.py:4: PerformanceWarning: DataFrame is highly fragmented.  This is usually the result of calling `frame.insert` many times, which has poor performance.  Consider joining all columns at once using pd.concat(axis=1) instead. To get a de-fragmented frame, use `newframe = frame.copy()`\n",
      "  data['%s_dv_%s'%(a,b)] = data[a]/data[b]\n",
      "C:\\Users\\hhz20\\AppData\\Local\\Temp\\ipykernel_7312\\1581226005.py:4: PerformanceWarning: DataFrame is highly fragmented.  This is usually the result of calling `frame.insert` many times, which has poor performance.  Consider joining all columns at once using pd.concat(axis=1) instead. To get a de-fragmented frame, use `newframe = frame.copy()`\n",
      "  data['%s_dv_%s'%(a,b)] = data[a]/data[b]\n",
      "C:\\Users\\hhz20\\AppData\\Local\\Temp\\ipykernel_7312\\1581226005.py:4: PerformanceWarning: DataFrame is highly fragmented.  This is usually the result of calling `frame.insert` many times, which has poor performance.  Consider joining all columns at once using pd.concat(axis=1) instead. To get a de-fragmented frame, use `newframe = frame.copy()`\n",
      "  data['%s_dv_%s'%(a,b)] = data[a]/data[b]\n",
      "C:\\Users\\hhz20\\AppData\\Local\\Temp\\ipykernel_7312\\1581226005.py:4: PerformanceWarning: DataFrame is highly fragmented.  This is usually the result of calling `frame.insert` many times, which has poor performance.  Consider joining all columns at once using pd.concat(axis=1) instead. To get a de-fragmented frame, use `newframe = frame.copy()`\n",
      "  data['%s_dv_%s'%(a,b)] = data[a]/data[b]\n",
      "C:\\Users\\hhz20\\AppData\\Local\\Temp\\ipykernel_7312\\1581226005.py:4: PerformanceWarning: DataFrame is highly fragmented.  This is usually the result of calling `frame.insert` many times, which has poor performance.  Consider joining all columns at once using pd.concat(axis=1) instead. To get a de-fragmented frame, use `newframe = frame.copy()`\n",
      "  data['%s_dv_%s'%(a,b)] = data[a]/data[b]\n",
      "C:\\Users\\hhz20\\AppData\\Local\\Temp\\ipykernel_7312\\1581226005.py:4: PerformanceWarning: DataFrame is highly fragmented.  This is usually the result of calling `frame.insert` many times, which has poor performance.  Consider joining all columns at once using pd.concat(axis=1) instead. To get a de-fragmented frame, use `newframe = frame.copy()`\n",
      "  data['%s_dv_%s'%(a,b)] = data[a]/data[b]\n",
      "C:\\Users\\hhz20\\AppData\\Local\\Temp\\ipykernel_7312\\1581226005.py:4: PerformanceWarning: DataFrame is highly fragmented.  This is usually the result of calling `frame.insert` many times, which has poor performance.  Consider joining all columns at once using pd.concat(axis=1) instead. To get a de-fragmented frame, use `newframe = frame.copy()`\n",
      "  data['%s_dv_%s'%(a,b)] = data[a]/data[b]\n",
      "C:\\Users\\hhz20\\AppData\\Local\\Temp\\ipykernel_7312\\1581226005.py:4: PerformanceWarning: DataFrame is highly fragmented.  This is usually the result of calling `frame.insert` many times, which has poor performance.  Consider joining all columns at once using pd.concat(axis=1) instead. To get a de-fragmented frame, use `newframe = frame.copy()`\n",
      "  data['%s_dv_%s'%(a,b)] = data[a]/data[b]\n",
      "C:\\Users\\hhz20\\AppData\\Local\\Temp\\ipykernel_7312\\1581226005.py:4: PerformanceWarning: DataFrame is highly fragmented.  This is usually the result of calling `frame.insert` many times, which has poor performance.  Consider joining all columns at once using pd.concat(axis=1) instead. To get a de-fragmented frame, use `newframe = frame.copy()`\n",
      "  data['%s_dv_%s'%(a,b)] = data[a]/data[b]\n",
      "C:\\Users\\hhz20\\AppData\\Local\\Temp\\ipykernel_7312\\1581226005.py:4: PerformanceWarning: DataFrame is highly fragmented.  This is usually the result of calling `frame.insert` many times, which has poor performance.  Consider joining all columns at once using pd.concat(axis=1) instead. To get a de-fragmented frame, use `newframe = frame.copy()`\n",
      "  data['%s_dv_%s'%(a,b)] = data[a]/data[b]\n",
      "C:\\Users\\hhz20\\AppData\\Local\\Temp\\ipykernel_7312\\1581226005.py:4: PerformanceWarning: DataFrame is highly fragmented.  This is usually the result of calling `frame.insert` many times, which has poor performance.  Consider joining all columns at once using pd.concat(axis=1) instead. To get a de-fragmented frame, use `newframe = frame.copy()`\n",
      "  data['%s_dv_%s'%(a,b)] = data[a]/data[b]\n",
      "C:\\Users\\hhz20\\AppData\\Local\\Temp\\ipykernel_7312\\1581226005.py:4: PerformanceWarning: DataFrame is highly fragmented.  This is usually the result of calling `frame.insert` many times, which has poor performance.  Consider joining all columns at once using pd.concat(axis=1) instead. To get a de-fragmented frame, use `newframe = frame.copy()`\n",
      "  data['%s_dv_%s'%(a,b)] = data[a]/data[b]\n",
      "C:\\Users\\hhz20\\AppData\\Local\\Temp\\ipykernel_7312\\1581226005.py:4: PerformanceWarning: DataFrame is highly fragmented.  This is usually the result of calling `frame.insert` many times, which has poor performance.  Consider joining all columns at once using pd.concat(axis=1) instead. To get a de-fragmented frame, use `newframe = frame.copy()`\n",
      "  data['%s_dv_%s'%(a,b)] = data[a]/data[b]\n",
      "C:\\Users\\hhz20\\AppData\\Local\\Temp\\ipykernel_7312\\1581226005.py:4: PerformanceWarning: DataFrame is highly fragmented.  This is usually the result of calling `frame.insert` many times, which has poor performance.  Consider joining all columns at once using pd.concat(axis=1) instead. To get a de-fragmented frame, use `newframe = frame.copy()`\n",
      "  data['%s_dv_%s'%(a,b)] = data[a]/data[b]\n",
      "C:\\Users\\hhz20\\AppData\\Local\\Temp\\ipykernel_7312\\1581226005.py:4: PerformanceWarning: DataFrame is highly fragmented.  This is usually the result of calling `frame.insert` many times, which has poor performance.  Consider joining all columns at once using pd.concat(axis=1) instead. To get a de-fragmented frame, use `newframe = frame.copy()`\n",
      "  data['%s_dv_%s'%(a,b)] = data[a]/data[b]\n",
      "C:\\Users\\hhz20\\AppData\\Local\\Temp\\ipykernel_7312\\1581226005.py:4: PerformanceWarning: DataFrame is highly fragmented.  This is usually the result of calling `frame.insert` many times, which has poor performance.  Consider joining all columns at once using pd.concat(axis=1) instead. To get a de-fragmented frame, use `newframe = frame.copy()`\n",
      "  data['%s_dv_%s'%(a,b)] = data[a]/data[b]\n",
      "C:\\Users\\hhz20\\AppData\\Local\\Temp\\ipykernel_7312\\1581226005.py:4: PerformanceWarning: DataFrame is highly fragmented.  This is usually the result of calling `frame.insert` many times, which has poor performance.  Consider joining all columns at once using pd.concat(axis=1) instead. To get a de-fragmented frame, use `newframe = frame.copy()`\n",
      "  data['%s_dv_%s'%(a,b)] = data[a]/data[b]\n",
      "C:\\Users\\hhz20\\AppData\\Local\\Temp\\ipykernel_7312\\1581226005.py:4: PerformanceWarning: DataFrame is highly fragmented.  This is usually the result of calling `frame.insert` many times, which has poor performance.  Consider joining all columns at once using pd.concat(axis=1) instead. To get a de-fragmented frame, use `newframe = frame.copy()`\n",
      "  data['%s_dv_%s'%(a,b)] = data[a]/data[b]\n",
      "C:\\Users\\hhz20\\AppData\\Local\\Temp\\ipykernel_7312\\1581226005.py:4: PerformanceWarning: DataFrame is highly fragmented.  This is usually the result of calling `frame.insert` many times, which has poor performance.  Consider joining all columns at once using pd.concat(axis=1) instead. To get a de-fragmented frame, use `newframe = frame.copy()`\n",
      "  data['%s_dv_%s'%(a,b)] = data[a]/data[b]\n",
      "C:\\Users\\hhz20\\AppData\\Local\\Temp\\ipykernel_7312\\1581226005.py:4: PerformanceWarning: DataFrame is highly fragmented.  This is usually the result of calling `frame.insert` many times, which has poor performance.  Consider joining all columns at once using pd.concat(axis=1) instead. To get a de-fragmented frame, use `newframe = frame.copy()`\n",
      "  data['%s_dv_%s'%(a,b)] = data[a]/data[b]\n",
      "C:\\Users\\hhz20\\AppData\\Local\\Temp\\ipykernel_7312\\1581226005.py:4: PerformanceWarning: DataFrame is highly fragmented.  This is usually the result of calling `frame.insert` many times, which has poor performance.  Consider joining all columns at once using pd.concat(axis=1) instead. To get a de-fragmented frame, use `newframe = frame.copy()`\n",
      "  data['%s_dv_%s'%(a,b)] = data[a]/data[b]\n",
      "C:\\Users\\hhz20\\AppData\\Local\\Temp\\ipykernel_7312\\1581226005.py:4: PerformanceWarning: DataFrame is highly fragmented.  This is usually the result of calling `frame.insert` many times, which has poor performance.  Consider joining all columns at once using pd.concat(axis=1) instead. To get a de-fragmented frame, use `newframe = frame.copy()`\n",
      "  data['%s_dv_%s'%(a,b)] = data[a]/data[b]\n",
      "C:\\Users\\hhz20\\AppData\\Local\\Temp\\ipykernel_7312\\1581226005.py:4: PerformanceWarning: DataFrame is highly fragmented.  This is usually the result of calling `frame.insert` many times, which has poor performance.  Consider joining all columns at once using pd.concat(axis=1) instead. To get a de-fragmented frame, use `newframe = frame.copy()`\n",
      "  data['%s_dv_%s'%(a,b)] = data[a]/data[b]\n",
      "C:\\Users\\hhz20\\AppData\\Local\\Temp\\ipykernel_7312\\1581226005.py:4: PerformanceWarning: DataFrame is highly fragmented.  This is usually the result of calling `frame.insert` many times, which has poor performance.  Consider joining all columns at once using pd.concat(axis=1) instead. To get a de-fragmented frame, use `newframe = frame.copy()`\n",
      "  data['%s_dv_%s'%(a,b)] = data[a]/data[b]\n",
      "C:\\Users\\hhz20\\AppData\\Local\\Temp\\ipykernel_7312\\1581226005.py:4: PerformanceWarning: DataFrame is highly fragmented.  This is usually the result of calling `frame.insert` many times, which has poor performance.  Consider joining all columns at once using pd.concat(axis=1) instead. To get a de-fragmented frame, use `newframe = frame.copy()`\n",
      "  data['%s_dv_%s'%(a,b)] = data[a]/data[b]\n",
      "C:\\Users\\hhz20\\AppData\\Local\\Temp\\ipykernel_7312\\1581226005.py:4: PerformanceWarning: DataFrame is highly fragmented.  This is usually the result of calling `frame.insert` many times, which has poor performance.  Consider joining all columns at once using pd.concat(axis=1) instead. To get a de-fragmented frame, use `newframe = frame.copy()`\n",
      "  data['%s_dv_%s'%(a,b)] = data[a]/data[b]\n",
      "C:\\Users\\hhz20\\AppData\\Local\\Temp\\ipykernel_7312\\1581226005.py:4: PerformanceWarning: DataFrame is highly fragmented.  This is usually the result of calling `frame.insert` many times, which has poor performance.  Consider joining all columns at once using pd.concat(axis=1) instead. To get a de-fragmented frame, use `newframe = frame.copy()`\n",
      "  data['%s_dv_%s'%(a,b)] = data[a]/data[b]\n",
      "C:\\Users\\hhz20\\AppData\\Local\\Temp\\ipykernel_7312\\1581226005.py:4: PerformanceWarning: DataFrame is highly fragmented.  This is usually the result of calling `frame.insert` many times, which has poor performance.  Consider joining all columns at once using pd.concat(axis=1) instead. To get a de-fragmented frame, use `newframe = frame.copy()`\n",
      "  data['%s_dv_%s'%(a,b)] = data[a]/data[b]\n",
      "C:\\Users\\hhz20\\AppData\\Local\\Temp\\ipykernel_7312\\1581226005.py:4: PerformanceWarning: DataFrame is highly fragmented.  This is usually the result of calling `frame.insert` many times, which has poor performance.  Consider joining all columns at once using pd.concat(axis=1) instead. To get a de-fragmented frame, use `newframe = frame.copy()`\n",
      "  data['%s_dv_%s'%(a,b)] = data[a]/data[b]\n",
      "C:\\Users\\hhz20\\AppData\\Local\\Temp\\ipykernel_7312\\1581226005.py:4: PerformanceWarning: DataFrame is highly fragmented.  This is usually the result of calling `frame.insert` many times, which has poor performance.  Consider joining all columns at once using pd.concat(axis=1) instead. To get a de-fragmented frame, use `newframe = frame.copy()`\n",
      "  data['%s_dv_%s'%(a,b)] = data[a]/data[b]\n",
      "C:\\Users\\hhz20\\AppData\\Local\\Temp\\ipykernel_7312\\1581226005.py:4: PerformanceWarning: DataFrame is highly fragmented.  This is usually the result of calling `frame.insert` many times, which has poor performance.  Consider joining all columns at once using pd.concat(axis=1) instead. To get a de-fragmented frame, use `newframe = frame.copy()`\n",
      "  data['%s_dv_%s'%(a,b)] = data[a]/data[b]\n",
      "C:\\Users\\hhz20\\AppData\\Local\\Temp\\ipykernel_7312\\1581226005.py:4: PerformanceWarning: DataFrame is highly fragmented.  This is usually the result of calling `frame.insert` many times, which has poor performance.  Consider joining all columns at once using pd.concat(axis=1) instead. To get a de-fragmented frame, use `newframe = frame.copy()`\n",
      "  data['%s_dv_%s'%(a,b)] = data[a]/data[b]\n",
      "C:\\Users\\hhz20\\AppData\\Local\\Temp\\ipykernel_7312\\1581226005.py:4: PerformanceWarning: DataFrame is highly fragmented.  This is usually the result of calling `frame.insert` many times, which has poor performance.  Consider joining all columns at once using pd.concat(axis=1) instead. To get a de-fragmented frame, use `newframe = frame.copy()`\n",
      "  data['%s_dv_%s'%(a,b)] = data[a]/data[b]\n",
      "C:\\Users\\hhz20\\AppData\\Local\\Temp\\ipykernel_7312\\1581226005.py:4: PerformanceWarning: DataFrame is highly fragmented.  This is usually the result of calling `frame.insert` many times, which has poor performance.  Consider joining all columns at once using pd.concat(axis=1) instead. To get a de-fragmented frame, use `newframe = frame.copy()`\n",
      "  data['%s_dv_%s'%(a,b)] = data[a]/data[b]\n",
      "C:\\Users\\hhz20\\AppData\\Local\\Temp\\ipykernel_7312\\1581226005.py:4: PerformanceWarning: DataFrame is highly fragmented.  This is usually the result of calling `frame.insert` many times, which has poor performance.  Consider joining all columns at once using pd.concat(axis=1) instead. To get a de-fragmented frame, use `newframe = frame.copy()`\n",
      "  data['%s_dv_%s'%(a,b)] = data[a]/data[b]\n",
      "C:\\Users\\hhz20\\AppData\\Local\\Temp\\ipykernel_7312\\1581226005.py:4: PerformanceWarning: DataFrame is highly fragmented.  This is usually the result of calling `frame.insert` many times, which has poor performance.  Consider joining all columns at once using pd.concat(axis=1) instead. To get a de-fragmented frame, use `newframe = frame.copy()`\n",
      "  data['%s_dv_%s'%(a,b)] = data[a]/data[b]\n",
      "C:\\Users\\hhz20\\AppData\\Local\\Temp\\ipykernel_7312\\1581226005.py:4: PerformanceWarning: DataFrame is highly fragmented.  This is usually the result of calling `frame.insert` many times, which has poor performance.  Consider joining all columns at once using pd.concat(axis=1) instead. To get a de-fragmented frame, use `newframe = frame.copy()`\n",
      "  data['%s_dv_%s'%(a,b)] = data[a]/data[b]\n",
      "C:\\Users\\hhz20\\AppData\\Local\\Temp\\ipykernel_7312\\1581226005.py:4: PerformanceWarning: DataFrame is highly fragmented.  This is usually the result of calling `frame.insert` many times, which has poor performance.  Consider joining all columns at once using pd.concat(axis=1) instead. To get a de-fragmented frame, use `newframe = frame.copy()`\n",
      "  data['%s_dv_%s'%(a,b)] = data[a]/data[b]\n",
      "C:\\Users\\hhz20\\AppData\\Local\\Temp\\ipykernel_7312\\1581226005.py:4: PerformanceWarning: DataFrame is highly fragmented.  This is usually the result of calling `frame.insert` many times, which has poor performance.  Consider joining all columns at once using pd.concat(axis=1) instead. To get a de-fragmented frame, use `newframe = frame.copy()`\n",
      "  data['%s_dv_%s'%(a,b)] = data[a]/data[b]\n",
      "C:\\Users\\hhz20\\AppData\\Local\\Temp\\ipykernel_7312\\1581226005.py:4: PerformanceWarning: DataFrame is highly fragmented.  This is usually the result of calling `frame.insert` many times, which has poor performance.  Consider joining all columns at once using pd.concat(axis=1) instead. To get a de-fragmented frame, use `newframe = frame.copy()`\n",
      "  data['%s_dv_%s'%(a,b)] = data[a]/data[b]\n",
      "C:\\Users\\hhz20\\AppData\\Local\\Temp\\ipykernel_7312\\1581226005.py:4: PerformanceWarning: DataFrame is highly fragmented.  This is usually the result of calling `frame.insert` many times, which has poor performance.  Consider joining all columns at once using pd.concat(axis=1) instead. To get a de-fragmented frame, use `newframe = frame.copy()`\n",
      "  data['%s_dv_%s'%(a,b)] = data[a]/data[b]\n",
      "C:\\Users\\hhz20\\AppData\\Local\\Temp\\ipykernel_7312\\1581226005.py:4: PerformanceWarning: DataFrame is highly fragmented.  This is usually the result of calling `frame.insert` many times, which has poor performance.  Consider joining all columns at once using pd.concat(axis=1) instead. To get a de-fragmented frame, use `newframe = frame.copy()`\n",
      "  data['%s_dv_%s'%(a,b)] = data[a]/data[b]\n",
      "C:\\Users\\hhz20\\AppData\\Local\\Temp\\ipykernel_7312\\1581226005.py:4: PerformanceWarning: DataFrame is highly fragmented.  This is usually the result of calling `frame.insert` many times, which has poor performance.  Consider joining all columns at once using pd.concat(axis=1) instead. To get a de-fragmented frame, use `newframe = frame.copy()`\n",
      "  data['%s_dv_%s'%(a,b)] = data[a]/data[b]\n",
      "C:\\Users\\hhz20\\AppData\\Local\\Temp\\ipykernel_7312\\1581226005.py:4: PerformanceWarning: DataFrame is highly fragmented.  This is usually the result of calling `frame.insert` many times, which has poor performance.  Consider joining all columns at once using pd.concat(axis=1) instead. To get a de-fragmented frame, use `newframe = frame.copy()`\n",
      "  data['%s_dv_%s'%(a,b)] = data[a]/data[b]\n",
      "C:\\Users\\hhz20\\AppData\\Local\\Temp\\ipykernel_7312\\1581226005.py:4: PerformanceWarning: DataFrame is highly fragmented.  This is usually the result of calling `frame.insert` many times, which has poor performance.  Consider joining all columns at once using pd.concat(axis=1) instead. To get a de-fragmented frame, use `newframe = frame.copy()`\n",
      "  data['%s_dv_%s'%(a,b)] = data[a]/data[b]\n",
      "C:\\Users\\hhz20\\AppData\\Local\\Temp\\ipykernel_7312\\1581226005.py:4: PerformanceWarning: DataFrame is highly fragmented.  This is usually the result of calling `frame.insert` many times, which has poor performance.  Consider joining all columns at once using pd.concat(axis=1) instead. To get a de-fragmented frame, use `newframe = frame.copy()`\n",
      "  data['%s_dv_%s'%(a,b)] = data[a]/data[b]\n",
      "C:\\Users\\hhz20\\AppData\\Local\\Temp\\ipykernel_7312\\1581226005.py:4: PerformanceWarning: DataFrame is highly fragmented.  This is usually the result of calling `frame.insert` many times, which has poor performance.  Consider joining all columns at once using pd.concat(axis=1) instead. To get a de-fragmented frame, use `newframe = frame.copy()`\n",
      "  data['%s_dv_%s'%(a,b)] = data[a]/data[b]\n",
      "C:\\Users\\hhz20\\AppData\\Local\\Temp\\ipykernel_7312\\1581226005.py:4: PerformanceWarning: DataFrame is highly fragmented.  This is usually the result of calling `frame.insert` many times, which has poor performance.  Consider joining all columns at once using pd.concat(axis=1) instead. To get a de-fragmented frame, use `newframe = frame.copy()`\n",
      "  data['%s_dv_%s'%(a,b)] = data[a]/data[b]\n",
      "C:\\Users\\hhz20\\AppData\\Local\\Temp\\ipykernel_7312\\1581226005.py:4: PerformanceWarning: DataFrame is highly fragmented.  This is usually the result of calling `frame.insert` many times, which has poor performance.  Consider joining all columns at once using pd.concat(axis=1) instead. To get a de-fragmented frame, use `newframe = frame.copy()`\n",
      "  data['%s_dv_%s'%(a,b)] = data[a]/data[b]\n",
      "C:\\Users\\hhz20\\AppData\\Local\\Temp\\ipykernel_7312\\1581226005.py:4: PerformanceWarning: DataFrame is highly fragmented.  This is usually the result of calling `frame.insert` many times, which has poor performance.  Consider joining all columns at once using pd.concat(axis=1) instead. To get a de-fragmented frame, use `newframe = frame.copy()`\n",
      "  data['%s_dv_%s'%(a,b)] = data[a]/data[b]\n",
      "C:\\Users\\hhz20\\AppData\\Local\\Temp\\ipykernel_7312\\1581226005.py:4: PerformanceWarning: DataFrame is highly fragmented.  This is usually the result of calling `frame.insert` many times, which has poor performance.  Consider joining all columns at once using pd.concat(axis=1) instead. To get a de-fragmented frame, use `newframe = frame.copy()`\n",
      "  data['%s_dv_%s'%(a,b)] = data[a]/data[b]\n",
      "C:\\Users\\hhz20\\AppData\\Local\\Temp\\ipykernel_7312\\1581226005.py:4: PerformanceWarning: DataFrame is highly fragmented.  This is usually the result of calling `frame.insert` many times, which has poor performance.  Consider joining all columns at once using pd.concat(axis=1) instead. To get a de-fragmented frame, use `newframe = frame.copy()`\n",
      "  data['%s_dv_%s'%(a,b)] = data[a]/data[b]\n",
      "C:\\Users\\hhz20\\AppData\\Local\\Temp\\ipykernel_7312\\1581226005.py:4: PerformanceWarning: DataFrame is highly fragmented.  This is usually the result of calling `frame.insert` many times, which has poor performance.  Consider joining all columns at once using pd.concat(axis=1) instead. To get a de-fragmented frame, use `newframe = frame.copy()`\n",
      "  data['%s_dv_%s'%(a,b)] = data[a]/data[b]\n",
      "C:\\Users\\hhz20\\AppData\\Local\\Temp\\ipykernel_7312\\1581226005.py:4: PerformanceWarning: DataFrame is highly fragmented.  This is usually the result of calling `frame.insert` many times, which has poor performance.  Consider joining all columns at once using pd.concat(axis=1) instead. To get a de-fragmented frame, use `newframe = frame.copy()`\n",
      "  data['%s_dv_%s'%(a,b)] = data[a]/data[b]\n",
      "C:\\Users\\hhz20\\AppData\\Local\\Temp\\ipykernel_7312\\1581226005.py:4: PerformanceWarning: DataFrame is highly fragmented.  This is usually the result of calling `frame.insert` many times, which has poor performance.  Consider joining all columns at once using pd.concat(axis=1) instead. To get a de-fragmented frame, use `newframe = frame.copy()`\n",
      "  data['%s_dv_%s'%(a,b)] = data[a]/data[b]\n",
      "C:\\Users\\hhz20\\AppData\\Local\\Temp\\ipykernel_7312\\1581226005.py:4: PerformanceWarning: DataFrame is highly fragmented.  This is usually the result of calling `frame.insert` many times, which has poor performance.  Consider joining all columns at once using pd.concat(axis=1) instead. To get a de-fragmented frame, use `newframe = frame.copy()`\n",
      "  data['%s_dv_%s'%(a,b)] = data[a]/data[b]\n",
      "C:\\Users\\hhz20\\AppData\\Local\\Temp\\ipykernel_7312\\1581226005.py:4: PerformanceWarning: DataFrame is highly fragmented.  This is usually the result of calling `frame.insert` many times, which has poor performance.  Consider joining all columns at once using pd.concat(axis=1) instead. To get a de-fragmented frame, use `newframe = frame.copy()`\n",
      "  data['%s_dv_%s'%(a,b)] = data[a]/data[b]\n",
      "C:\\Users\\hhz20\\AppData\\Local\\Temp\\ipykernel_7312\\1581226005.py:4: PerformanceWarning: DataFrame is highly fragmented.  This is usually the result of calling `frame.insert` many times, which has poor performance.  Consider joining all columns at once using pd.concat(axis=1) instead. To get a de-fragmented frame, use `newframe = frame.copy()`\n",
      "  data['%s_dv_%s'%(a,b)] = data[a]/data[b]\n",
      "C:\\Users\\hhz20\\AppData\\Local\\Temp\\ipykernel_7312\\1581226005.py:4: PerformanceWarning: DataFrame is highly fragmented.  This is usually the result of calling `frame.insert` many times, which has poor performance.  Consider joining all columns at once using pd.concat(axis=1) instead. To get a de-fragmented frame, use `newframe = frame.copy()`\n",
      "  data['%s_dv_%s'%(a,b)] = data[a]/data[b]\n",
      "C:\\Users\\hhz20\\AppData\\Local\\Temp\\ipykernel_7312\\1581226005.py:4: PerformanceWarning: DataFrame is highly fragmented.  This is usually the result of calling `frame.insert` many times, which has poor performance.  Consider joining all columns at once using pd.concat(axis=1) instead. To get a de-fragmented frame, use `newframe = frame.copy()`\n",
      "  data['%s_dv_%s'%(a,b)] = data[a]/data[b]\n",
      "C:\\Users\\hhz20\\AppData\\Local\\Temp\\ipykernel_7312\\1581226005.py:4: PerformanceWarning: DataFrame is highly fragmented.  This is usually the result of calling `frame.insert` many times, which has poor performance.  Consider joining all columns at once using pd.concat(axis=1) instead. To get a de-fragmented frame, use `newframe = frame.copy()`\n",
      "  data['%s_dv_%s'%(a,b)] = data[a]/data[b]\n",
      "C:\\Users\\hhz20\\AppData\\Local\\Temp\\ipykernel_7312\\1581226005.py:4: PerformanceWarning: DataFrame is highly fragmented.  This is usually the result of calling `frame.insert` many times, which has poor performance.  Consider joining all columns at once using pd.concat(axis=1) instead. To get a de-fragmented frame, use `newframe = frame.copy()`\n",
      "  data['%s_dv_%s'%(a,b)] = data[a]/data[b]\n",
      "C:\\Users\\hhz20\\AppData\\Local\\Temp\\ipykernel_7312\\1581226005.py:4: PerformanceWarning: DataFrame is highly fragmented.  This is usually the result of calling `frame.insert` many times, which has poor performance.  Consider joining all columns at once using pd.concat(axis=1) instead. To get a de-fragmented frame, use `newframe = frame.copy()`\n",
      "  data['%s_dv_%s'%(a,b)] = data[a]/data[b]\n",
      "C:\\Users\\hhz20\\AppData\\Local\\Temp\\ipykernel_7312\\1581226005.py:4: PerformanceWarning: DataFrame is highly fragmented.  This is usually the result of calling `frame.insert` many times, which has poor performance.  Consider joining all columns at once using pd.concat(axis=1) instead. To get a de-fragmented frame, use `newframe = frame.copy()`\n",
      "  data['%s_dv_%s'%(a,b)] = data[a]/data[b]\n",
      "C:\\Users\\hhz20\\AppData\\Local\\Temp\\ipykernel_7312\\1581226005.py:4: PerformanceWarning: DataFrame is highly fragmented.  This is usually the result of calling `frame.insert` many times, which has poor performance.  Consider joining all columns at once using pd.concat(axis=1) instead. To get a de-fragmented frame, use `newframe = frame.copy()`\n",
      "  data['%s_dv_%s'%(a,b)] = data[a]/data[b]\n",
      "C:\\Users\\hhz20\\AppData\\Local\\Temp\\ipykernel_7312\\1581226005.py:4: PerformanceWarning: DataFrame is highly fragmented.  This is usually the result of calling `frame.insert` many times, which has poor performance.  Consider joining all columns at once using pd.concat(axis=1) instead. To get a de-fragmented frame, use `newframe = frame.copy()`\n",
      "  data['%s_dv_%s'%(a,b)] = data[a]/data[b]\n",
      "C:\\Users\\hhz20\\AppData\\Local\\Temp\\ipykernel_7312\\1581226005.py:4: PerformanceWarning: DataFrame is highly fragmented.  This is usually the result of calling `frame.insert` many times, which has poor performance.  Consider joining all columns at once using pd.concat(axis=1) instead. To get a de-fragmented frame, use `newframe = frame.copy()`\n",
      "  data['%s_dv_%s'%(a,b)] = data[a]/data[b]\n",
      "C:\\Users\\hhz20\\AppData\\Local\\Temp\\ipykernel_7312\\1581226005.py:4: PerformanceWarning: DataFrame is highly fragmented.  This is usually the result of calling `frame.insert` many times, which has poor performance.  Consider joining all columns at once using pd.concat(axis=1) instead. To get a de-fragmented frame, use `newframe = frame.copy()`\n",
      "  data['%s_dv_%s'%(a,b)] = data[a]/data[b]\n",
      "C:\\Users\\hhz20\\AppData\\Local\\Temp\\ipykernel_7312\\1581226005.py:4: PerformanceWarning: DataFrame is highly fragmented.  This is usually the result of calling `frame.insert` many times, which has poor performance.  Consider joining all columns at once using pd.concat(axis=1) instead. To get a de-fragmented frame, use `newframe = frame.copy()`\n",
      "  data['%s_dv_%s'%(a,b)] = data[a]/data[b]\n",
      "C:\\Users\\hhz20\\AppData\\Local\\Temp\\ipykernel_7312\\1581226005.py:4: PerformanceWarning: DataFrame is highly fragmented.  This is usually the result of calling `frame.insert` many times, which has poor performance.  Consider joining all columns at once using pd.concat(axis=1) instead. To get a de-fragmented frame, use `newframe = frame.copy()`\n",
      "  data['%s_dv_%s'%(a,b)] = data[a]/data[b]\n",
      "C:\\Users\\hhz20\\AppData\\Local\\Temp\\ipykernel_7312\\1581226005.py:4: PerformanceWarning: DataFrame is highly fragmented.  This is usually the result of calling `frame.insert` many times, which has poor performance.  Consider joining all columns at once using pd.concat(axis=1) instead. To get a de-fragmented frame, use `newframe = frame.copy()`\n",
      "  data['%s_dv_%s'%(a,b)] = data[a]/data[b]\n",
      "C:\\Users\\hhz20\\AppData\\Local\\Temp\\ipykernel_7312\\1581226005.py:4: PerformanceWarning: DataFrame is highly fragmented.  This is usually the result of calling `frame.insert` many times, which has poor performance.  Consider joining all columns at once using pd.concat(axis=1) instead. To get a de-fragmented frame, use `newframe = frame.copy()`\n",
      "  data['%s_dv_%s'%(a,b)] = data[a]/data[b]\n",
      "C:\\Users\\hhz20\\AppData\\Local\\Temp\\ipykernel_7312\\1581226005.py:4: PerformanceWarning: DataFrame is highly fragmented.  This is usually the result of calling `frame.insert` many times, which has poor performance.  Consider joining all columns at once using pd.concat(axis=1) instead. To get a de-fragmented frame, use `newframe = frame.copy()`\n",
      "  data['%s_dv_%s'%(a,b)] = data[a]/data[b]\n",
      "C:\\Users\\hhz20\\AppData\\Local\\Temp\\ipykernel_7312\\1581226005.py:4: PerformanceWarning: DataFrame is highly fragmented.  This is usually the result of calling `frame.insert` many times, which has poor performance.  Consider joining all columns at once using pd.concat(axis=1) instead. To get a de-fragmented frame, use `newframe = frame.copy()`\n",
      "  data['%s_dv_%s'%(a,b)] = data[a]/data[b]\n",
      "C:\\Users\\hhz20\\AppData\\Local\\Temp\\ipykernel_7312\\1581226005.py:4: PerformanceWarning: DataFrame is highly fragmented.  This is usually the result of calling `frame.insert` many times, which has poor performance.  Consider joining all columns at once using pd.concat(axis=1) instead. To get a de-fragmented frame, use `newframe = frame.copy()`\n",
      "  data['%s_dv_%s'%(a,b)] = data[a]/data[b]\n",
      "C:\\Users\\hhz20\\AppData\\Local\\Temp\\ipykernel_7312\\1581226005.py:4: PerformanceWarning: DataFrame is highly fragmented.  This is usually the result of calling `frame.insert` many times, which has poor performance.  Consider joining all columns at once using pd.concat(axis=1) instead. To get a de-fragmented frame, use `newframe = frame.copy()`\n",
      "  data['%s_dv_%s'%(a,b)] = data[a]/data[b]\n",
      "C:\\Users\\hhz20\\AppData\\Local\\Temp\\ipykernel_7312\\1581226005.py:4: PerformanceWarning: DataFrame is highly fragmented.  This is usually the result of calling `frame.insert` many times, which has poor performance.  Consider joining all columns at once using pd.concat(axis=1) instead. To get a de-fragmented frame, use `newframe = frame.copy()`\n",
      "  data['%s_dv_%s'%(a,b)] = data[a]/data[b]\n",
      "C:\\Users\\hhz20\\AppData\\Local\\Temp\\ipykernel_7312\\1581226005.py:4: PerformanceWarning: DataFrame is highly fragmented.  This is usually the result of calling `frame.insert` many times, which has poor performance.  Consider joining all columns at once using pd.concat(axis=1) instead. To get a de-fragmented frame, use `newframe = frame.copy()`\n",
      "  data['%s_dv_%s'%(a,b)] = data[a]/data[b]\n",
      "C:\\Users\\hhz20\\AppData\\Local\\Temp\\ipykernel_7312\\1581226005.py:4: PerformanceWarning: DataFrame is highly fragmented.  This is usually the result of calling `frame.insert` many times, which has poor performance.  Consider joining all columns at once using pd.concat(axis=1) instead. To get a de-fragmented frame, use `newframe = frame.copy()`\n",
      "  data['%s_dv_%s'%(a,b)] = data[a]/data[b]\n",
      "C:\\Users\\hhz20\\AppData\\Local\\Temp\\ipykernel_7312\\1581226005.py:4: PerformanceWarning: DataFrame is highly fragmented.  This is usually the result of calling `frame.insert` many times, which has poor performance.  Consider joining all columns at once using pd.concat(axis=1) instead. To get a de-fragmented frame, use `newframe = frame.copy()`\n",
      "  data['%s_dv_%s'%(a,b)] = data[a]/data[b]\n",
      "C:\\Users\\hhz20\\AppData\\Local\\Temp\\ipykernel_7312\\1581226005.py:4: PerformanceWarning: DataFrame is highly fragmented.  This is usually the result of calling `frame.insert` many times, which has poor performance.  Consider joining all columns at once using pd.concat(axis=1) instead. To get a de-fragmented frame, use `newframe = frame.copy()`\n",
      "  data['%s_dv_%s'%(a,b)] = data[a]/data[b]\n",
      "C:\\Users\\hhz20\\AppData\\Local\\Temp\\ipykernel_7312\\1581226005.py:4: PerformanceWarning: DataFrame is highly fragmented.  This is usually the result of calling `frame.insert` many times, which has poor performance.  Consider joining all columns at once using pd.concat(axis=1) instead. To get a de-fragmented frame, use `newframe = frame.copy()`\n",
      "  data['%s_dv_%s'%(a,b)] = data[a]/data[b]\n",
      "C:\\Users\\hhz20\\AppData\\Local\\Temp\\ipykernel_7312\\1581226005.py:4: PerformanceWarning: DataFrame is highly fragmented.  This is usually the result of calling `frame.insert` many times, which has poor performance.  Consider joining all columns at once using pd.concat(axis=1) instead. To get a de-fragmented frame, use `newframe = frame.copy()`\n",
      "  data['%s_dv_%s'%(a,b)] = data[a]/data[b]\n",
      "C:\\Users\\hhz20\\AppData\\Local\\Temp\\ipykernel_7312\\1581226005.py:4: PerformanceWarning: DataFrame is highly fragmented.  This is usually the result of calling `frame.insert` many times, which has poor performance.  Consider joining all columns at once using pd.concat(axis=1) instead. To get a de-fragmented frame, use `newframe = frame.copy()`\n",
      "  data['%s_dv_%s'%(a,b)] = data[a]/data[b]\n",
      "C:\\Users\\hhz20\\AppData\\Local\\Temp\\ipykernel_7312\\1581226005.py:4: PerformanceWarning: DataFrame is highly fragmented.  This is usually the result of calling `frame.insert` many times, which has poor performance.  Consider joining all columns at once using pd.concat(axis=1) instead. To get a de-fragmented frame, use `newframe = frame.copy()`\n",
      "  data['%s_dv_%s'%(a,b)] = data[a]/data[b]\n",
      "C:\\Users\\hhz20\\AppData\\Local\\Temp\\ipykernel_7312\\1581226005.py:4: PerformanceWarning: DataFrame is highly fragmented.  This is usually the result of calling `frame.insert` many times, which has poor performance.  Consider joining all columns at once using pd.concat(axis=1) instead. To get a de-fragmented frame, use `newframe = frame.copy()`\n",
      "  data['%s_dv_%s'%(a,b)] = data[a]/data[b]\n",
      "C:\\Users\\hhz20\\AppData\\Local\\Temp\\ipykernel_7312\\1581226005.py:4: PerformanceWarning: DataFrame is highly fragmented.  This is usually the result of calling `frame.insert` many times, which has poor performance.  Consider joining all columns at once using pd.concat(axis=1) instead. To get a de-fragmented frame, use `newframe = frame.copy()`\n",
      "  data['%s_dv_%s'%(a,b)] = data[a]/data[b]\n",
      "C:\\Users\\hhz20\\AppData\\Local\\Temp\\ipykernel_7312\\1581226005.py:4: PerformanceWarning: DataFrame is highly fragmented.  This is usually the result of calling `frame.insert` many times, which has poor performance.  Consider joining all columns at once using pd.concat(axis=1) instead. To get a de-fragmented frame, use `newframe = frame.copy()`\n",
      "  data['%s_dv_%s'%(a,b)] = data[a]/data[b]\n",
      "C:\\Users\\hhz20\\AppData\\Local\\Temp\\ipykernel_7312\\1581226005.py:4: PerformanceWarning: DataFrame is highly fragmented.  This is usually the result of calling `frame.insert` many times, which has poor performance.  Consider joining all columns at once using pd.concat(axis=1) instead. To get a de-fragmented frame, use `newframe = frame.copy()`\n",
      "  data['%s_dv_%s'%(a,b)] = data[a]/data[b]\n",
      "C:\\Users\\hhz20\\AppData\\Local\\Temp\\ipykernel_7312\\1581226005.py:4: PerformanceWarning: DataFrame is highly fragmented.  This is usually the result of calling `frame.insert` many times, which has poor performance.  Consider joining all columns at once using pd.concat(axis=1) instead. To get a de-fragmented frame, use `newframe = frame.copy()`\n",
      "  data['%s_dv_%s'%(a,b)] = data[a]/data[b]\n",
      "C:\\Users\\hhz20\\AppData\\Local\\Temp\\ipykernel_7312\\1581226005.py:4: PerformanceWarning: DataFrame is highly fragmented.  This is usually the result of calling `frame.insert` many times, which has poor performance.  Consider joining all columns at once using pd.concat(axis=1) instead. To get a de-fragmented frame, use `newframe = frame.copy()`\n",
      "  data['%s_dv_%s'%(a,b)] = data[a]/data[b]\n",
      "C:\\Users\\hhz20\\AppData\\Local\\Temp\\ipykernel_7312\\1581226005.py:4: PerformanceWarning: DataFrame is highly fragmented.  This is usually the result of calling `frame.insert` many times, which has poor performance.  Consider joining all columns at once using pd.concat(axis=1) instead. To get a de-fragmented frame, use `newframe = frame.copy()`\n",
      "  data['%s_dv_%s'%(a,b)] = data[a]/data[b]\n",
      "C:\\Users\\hhz20\\AppData\\Local\\Temp\\ipykernel_7312\\1581226005.py:4: PerformanceWarning: DataFrame is highly fragmented.  This is usually the result of calling `frame.insert` many times, which has poor performance.  Consider joining all columns at once using pd.concat(axis=1) instead. To get a de-fragmented frame, use `newframe = frame.copy()`\n",
      "  data['%s_dv_%s'%(a,b)] = data[a]/data[b]\n",
      "C:\\Users\\hhz20\\AppData\\Local\\Temp\\ipykernel_7312\\1581226005.py:4: PerformanceWarning: DataFrame is highly fragmented.  This is usually the result of calling `frame.insert` many times, which has poor performance.  Consider joining all columns at once using pd.concat(axis=1) instead. To get a de-fragmented frame, use `newframe = frame.copy()`\n",
      "  data['%s_dv_%s'%(a,b)] = data[a]/data[b]\n",
      "C:\\Users\\hhz20\\AppData\\Local\\Temp\\ipykernel_7312\\1581226005.py:4: PerformanceWarning: DataFrame is highly fragmented.  This is usually the result of calling `frame.insert` many times, which has poor performance.  Consider joining all columns at once using pd.concat(axis=1) instead. To get a de-fragmented frame, use `newframe = frame.copy()`\n",
      "  data['%s_dv_%s'%(a,b)] = data[a]/data[b]\n",
      "C:\\Users\\hhz20\\AppData\\Local\\Temp\\ipykernel_7312\\1581226005.py:4: PerformanceWarning: DataFrame is highly fragmented.  This is usually the result of calling `frame.insert` many times, which has poor performance.  Consider joining all columns at once using pd.concat(axis=1) instead. To get a de-fragmented frame, use `newframe = frame.copy()`\n",
      "  data['%s_dv_%s'%(a,b)] = data[a]/data[b]\n",
      "C:\\Users\\hhz20\\AppData\\Local\\Temp\\ipykernel_7312\\1581226005.py:4: PerformanceWarning: DataFrame is highly fragmented.  This is usually the result of calling `frame.insert` many times, which has poor performance.  Consider joining all columns at once using pd.concat(axis=1) instead. To get a de-fragmented frame, use `newframe = frame.copy()`\n",
      "  data['%s_dv_%s'%(a,b)] = data[a]/data[b]\n",
      "C:\\Users\\hhz20\\AppData\\Local\\Temp\\ipykernel_7312\\1581226005.py:4: PerformanceWarning: DataFrame is highly fragmented.  This is usually the result of calling `frame.insert` many times, which has poor performance.  Consider joining all columns at once using pd.concat(axis=1) instead. To get a de-fragmented frame, use `newframe = frame.copy()`\n",
      "  data['%s_dv_%s'%(a,b)] = data[a]/data[b]\n",
      "C:\\Users\\hhz20\\AppData\\Local\\Temp\\ipykernel_7312\\1581226005.py:4: PerformanceWarning: DataFrame is highly fragmented.  This is usually the result of calling `frame.insert` many times, which has poor performance.  Consider joining all columns at once using pd.concat(axis=1) instead. To get a de-fragmented frame, use `newframe = frame.copy()`\n",
      "  data['%s_dv_%s'%(a,b)] = data[a]/data[b]\n"
     ]
    }
   ],
   "source": [
    "Ancoms = list(combinations(answers, 2))\n",
    "for data in dataset:\n",
    "  for a,b in Ancoms:\n",
    "    data['%s_dv_%s'%(a,b)] = data[a]/data[b]"
   ]
  },
  {
   "cell_type": "code",
   "execution_count": 37,
   "id": "0635c402",
   "metadata": {},
   "outputs": [],
   "source": [
    "for data in dataset:\n",
    "  data.drop([('Q'+i+'A') for i in questions], axis = 1, inplace = True)\n",
    "  data.drop([('Q'+i+'E') for i in questions], axis = 1, inplace = True)"
   ]
  },
  {
   "cell_type": "code",
   "execution_count": 38,
   "id": "f057a5a9",
   "metadata": {},
   "outputs": [],
   "source": [
    "for data in dataset:\n",
    "  data.drop('hand', axis=1, inplace = True)"
   ]
  },
  {
   "cell_type": "code",
   "execution_count": 39,
   "id": "760f26fa",
   "metadata": {},
   "outputs": [],
   "source": [
    "wr_list = [('wr_0'+str(i)) for i in range(1,10)]\n",
    "wr_list.extend([('wr_'+str(i)) for i in range(10,14)])\n",
    "wr_no_need = [i for i in wr_list if i not in ['wr_01', 'wr_03', 'wr_06', 'wr_09', 'wr_11']]"
   ]
  },
  {
   "cell_type": "code",
   "execution_count": 40,
   "id": "8c998de9",
   "metadata": {},
   "outputs": [],
   "source": [
    "for data in dataset:\n",
    "  data.drop(wr_no_need, axis=1, inplace = True)"
   ]
  },
  {
   "cell_type": "code",
   "execution_count": 41,
   "id": "d1c16565",
   "metadata": {},
   "outputs": [],
   "source": [
    "for data in dataset:\n",
    "  data['Ex'] = data['tp01']-data['tp06']\n",
    "  data['Ag'] = data['tp07']-data['tp02']\n",
    "  data['Con'] = data['tp03']-data['tp08']\n",
    "  data['Es'] =data['tp09']-data['tp04']\n",
    "  data['Op'] =data['tp05']-data['tp10']"
   ]
  },
  {
   "cell_type": "code",
   "execution_count": 42,
   "id": "9b5e0a71",
   "metadata": {},
   "outputs": [],
   "source": [
    "for data in dataset:\n",
    "  data.drop([('tp0'+str(i)) for i in range(1,10)], axis=1, inplace = True)\n",
    "  data.drop('tp10', axis = 1, inplace = True)"
   ]
  },
  {
   "cell_type": "code",
   "execution_count": 43,
   "id": "a5f34da8",
   "metadata": {},
   "outputs": [],
   "source": [
    "index = test['index']\n",
    "for data in dataset:\n",
    "  data.drop('index', axis = 1, inplace = True)"
   ]
  },
  {
   "cell_type": "code",
   "execution_count": 44,
   "id": "c6f8eb00",
   "metadata": {},
   "outputs": [],
   "source": [
    "from sklearn.preprocessing import LabelEncoder\n",
    "encoder = LabelEncoder()\n",
    "needenco = ['age_group', 'gender', 'race', 'religion']\n",
    "for i in needenco:\n",
    "  x_train[i] = encoder.fit_transform(x_train[i])\n",
    "  test[i] = encoder.transform(test[i])"
   ]
  },
  {
   "cell_type": "code",
   "execution_count": 45,
   "id": "e7b11c22",
   "metadata": {},
   "outputs": [],
   "source": [
    "k_fold = KFold(n_splits = 3, shuffle = True, random_state = 0)"
   ]
  },
  {
   "cell_type": "code",
   "execution_count": 46,
   "id": "d71e7d9f",
   "metadata": {},
   "outputs": [
    {
     "data": {
      "text/html": [
       "<style>#sk-container-id-1 {color: black;background-color: white;}#sk-container-id-1 pre{padding: 0;}#sk-container-id-1 div.sk-toggleable {background-color: white;}#sk-container-id-1 label.sk-toggleable__label {cursor: pointer;display: block;width: 100%;margin-bottom: 0;padding: 0.3em;box-sizing: border-box;text-align: center;}#sk-container-id-1 label.sk-toggleable__label-arrow:before {content: \"▸\";float: left;margin-right: 0.25em;color: #696969;}#sk-container-id-1 label.sk-toggleable__label-arrow:hover:before {color: black;}#sk-container-id-1 div.sk-estimator:hover label.sk-toggleable__label-arrow:before {color: black;}#sk-container-id-1 div.sk-toggleable__content {max-height: 0;max-width: 0;overflow: hidden;text-align: left;background-color: #f0f8ff;}#sk-container-id-1 div.sk-toggleable__content pre {margin: 0.2em;color: black;border-radius: 0.25em;background-color: #f0f8ff;}#sk-container-id-1 input.sk-toggleable__control:checked~div.sk-toggleable__content {max-height: 200px;max-width: 100%;overflow: auto;}#sk-container-id-1 input.sk-toggleable__control:checked~label.sk-toggleable__label-arrow:before {content: \"▾\";}#sk-container-id-1 div.sk-estimator input.sk-toggleable__control:checked~label.sk-toggleable__label {background-color: #d4ebff;}#sk-container-id-1 div.sk-label input.sk-toggleable__control:checked~label.sk-toggleable__label {background-color: #d4ebff;}#sk-container-id-1 input.sk-hidden--visually {border: 0;clip: rect(1px 1px 1px 1px);clip: rect(1px, 1px, 1px, 1px);height: 1px;margin: -1px;overflow: hidden;padding: 0;position: absolute;width: 1px;}#sk-container-id-1 div.sk-estimator {font-family: monospace;background-color: #f0f8ff;border: 1px dotted black;border-radius: 0.25em;box-sizing: border-box;margin-bottom: 0.5em;}#sk-container-id-1 div.sk-estimator:hover {background-color: #d4ebff;}#sk-container-id-1 div.sk-parallel-item::after {content: \"\";width: 100%;border-bottom: 1px solid gray;flex-grow: 1;}#sk-container-id-1 div.sk-label:hover label.sk-toggleable__label {background-color: #d4ebff;}#sk-container-id-1 div.sk-serial::before {content: \"\";position: absolute;border-left: 1px solid gray;box-sizing: border-box;top: 0;bottom: 0;left: 50%;z-index: 0;}#sk-container-id-1 div.sk-serial {display: flex;flex-direction: column;align-items: center;background-color: white;padding-right: 0.2em;padding-left: 0.2em;position: relative;}#sk-container-id-1 div.sk-item {position: relative;z-index: 1;}#sk-container-id-1 div.sk-parallel {display: flex;align-items: stretch;justify-content: center;background-color: white;position: relative;}#sk-container-id-1 div.sk-item::before, #sk-container-id-1 div.sk-parallel-item::before {content: \"\";position: absolute;border-left: 1px solid gray;box-sizing: border-box;top: 0;bottom: 0;left: 50%;z-index: -1;}#sk-container-id-1 div.sk-parallel-item {display: flex;flex-direction: column;z-index: 1;position: relative;background-color: white;}#sk-container-id-1 div.sk-parallel-item:first-child::after {align-self: flex-end;width: 50%;}#sk-container-id-1 div.sk-parallel-item:last-child::after {align-self: flex-start;width: 50%;}#sk-container-id-1 div.sk-parallel-item:only-child::after {width: 0;}#sk-container-id-1 div.sk-dashed-wrapped {border: 1px dashed gray;margin: 0 0.4em 0.5em 0.4em;box-sizing: border-box;padding-bottom: 0.4em;background-color: white;}#sk-container-id-1 div.sk-label label {font-family: monospace;font-weight: bold;display: inline-block;line-height: 1.2em;}#sk-container-id-1 div.sk-label-container {text-align: center;}#sk-container-id-1 div.sk-container {/* jupyter's `normalize.less` sets `[hidden] { display: none; }` but bootstrap.min.css set `[hidden] { display: none !important; }` so we also need the `!important` here to be able to override the default hidden behavior on the sphinx rendered scikit-learn.org. See: https://github.com/scikit-learn/scikit-learn/issues/21755 */display: inline-block !important;position: relative;}#sk-container-id-1 div.sk-text-repr-fallback {display: none;}</style><div id=\"sk-container-id-1\" class=\"sk-top-container\"><div class=\"sk-text-repr-fallback\"><pre>VotingClassifier(estimators=[(&#x27;r1&#x27;, RandomForestClassifier(n_estimators=500)),\n",
       "                             (&#x27;r2&#x27;, LGBMClassifier()),\n",
       "                             (&#x27;r3&#x27;, GradientBoostingClassifier())],\n",
       "                 voting=&#x27;soft&#x27;)</pre><b>In a Jupyter environment, please rerun this cell to show the HTML representation or trust the notebook. <br />On GitHub, the HTML representation is unable to render, please try loading this page with nbviewer.org.</b></div><div class=\"sk-container\" hidden><div class=\"sk-item sk-dashed-wrapped\"><div class=\"sk-label-container\"><div class=\"sk-label sk-toggleable\"><input class=\"sk-toggleable__control sk-hidden--visually\" id=\"sk-estimator-id-1\" type=\"checkbox\" ><label for=\"sk-estimator-id-1\" class=\"sk-toggleable__label sk-toggleable__label-arrow\">VotingClassifier</label><div class=\"sk-toggleable__content\"><pre>VotingClassifier(estimators=[(&#x27;r1&#x27;, RandomForestClassifier(n_estimators=500)),\n",
       "                             (&#x27;r2&#x27;, LGBMClassifier()),\n",
       "                             (&#x27;r3&#x27;, GradientBoostingClassifier())],\n",
       "                 voting=&#x27;soft&#x27;)</pre></div></div></div><div class=\"sk-parallel\"><div class=\"sk-parallel-item\"><div class=\"sk-item\"><div class=\"sk-label-container\"><div class=\"sk-label sk-toggleable\"><label>r1</label></div></div><div class=\"sk-serial\"><div class=\"sk-item\"><div class=\"sk-estimator sk-toggleable\"><input class=\"sk-toggleable__control sk-hidden--visually\" id=\"sk-estimator-id-2\" type=\"checkbox\" ><label for=\"sk-estimator-id-2\" class=\"sk-toggleable__label sk-toggleable__label-arrow\">RandomForestClassifier</label><div class=\"sk-toggleable__content\"><pre>RandomForestClassifier(n_estimators=500)</pre></div></div></div></div></div></div><div class=\"sk-parallel-item\"><div class=\"sk-item\"><div class=\"sk-label-container\"><div class=\"sk-label sk-toggleable\"><label>r2</label></div></div><div class=\"sk-serial\"><div class=\"sk-item\"><div class=\"sk-estimator sk-toggleable\"><input class=\"sk-toggleable__control sk-hidden--visually\" id=\"sk-estimator-id-3\" type=\"checkbox\" ><label for=\"sk-estimator-id-3\" class=\"sk-toggleable__label sk-toggleable__label-arrow\">LGBMClassifier</label><div class=\"sk-toggleable__content\"><pre>LGBMClassifier()</pre></div></div></div></div></div></div><div class=\"sk-parallel-item\"><div class=\"sk-item\"><div class=\"sk-label-container\"><div class=\"sk-label sk-toggleable\"><label>r3</label></div></div><div class=\"sk-serial\"><div class=\"sk-item\"><div class=\"sk-estimator sk-toggleable\"><input class=\"sk-toggleable__control sk-hidden--visually\" id=\"sk-estimator-id-4\" type=\"checkbox\" ><label for=\"sk-estimator-id-4\" class=\"sk-toggleable__label sk-toggleable__label-arrow\">GradientBoostingClassifier</label><div class=\"sk-toggleable__content\"><pre>GradientBoostingClassifier()</pre></div></div></div></div></div></div></div></div></div></div>"
      ],
      "text/plain": [
       "VotingClassifier(estimators=[('r1', RandomForestClassifier(n_estimators=500)),\n",
       "                             ('r2', LGBMClassifier()),\n",
       "                             ('r3', GradientBoostingClassifier())],\n",
       "                 voting='soft')"
      ]
     },
     "execution_count": 46,
     "metadata": {},
     "output_type": "execute_result"
    }
   ],
   "source": [
    "clf1 = RandomForestClassifier(n_estimators=500)\n",
    "clf2 = LGBMClassifier()\n",
    "clf3 = GradientBoostingClassifier()\n",
    "soft_vote  = VotingClassifier([('r1',clf1), ('r2', clf2), ('r3',clf3)], voting='soft')\n",
    "soft_vote.fit(x_train, y_train)"
   ]
  },
  {
   "cell_type": "code",
   "execution_count": 47,
   "id": "1f801793",
   "metadata": {},
   "outputs": [],
   "source": [
    "model = soft_vote\n",
    "pred_y = model.predict_proba(test)\n",
    "pred_y = pred_y[:,1]\n",
    "\n",
    "submission = pd.DataFrame({\n",
    "    \"index\" : index,\n",
    "    \"voted\" : pred_y\n",
    "})\n",
    "submission.to_csv('./open data/model1.csv', index=False)"
   ]
  },
  {
   "cell_type": "code",
   "execution_count": 48,
   "id": "8d6471f1",
   "metadata": {},
   "outputs": [
    {
     "name": "stdout",
     "output_type": "stream",
     "text": [
      "Collecting eli5\n",
      "  Downloading eli5-0.13.0.tar.gz (216 kB)\n",
      "     -------------------------------------- 216.2/216.2 kB 6.6 MB/s eta 0:00:00\n",
      "  Preparing metadata (setup.py): started\n",
      "  Preparing metadata (setup.py): finished with status 'done'\n",
      "Requirement already satisfied: attrs>17.1.0 in c:\\users\\hhz20\\anaconda3\\envs\\sklearn\\lib\\site-packages (from eli5) (21.4.0)\n",
      "Requirement already satisfied: jinja2>=3.0.0 in c:\\users\\hhz20\\anaconda3\\envs\\sklearn\\lib\\site-packages (from eli5) (3.1.2)\n",
      "Requirement already satisfied: numpy>=1.9.0 in c:\\users\\hhz20\\anaconda3\\envs\\sklearn\\lib\\site-packages (from eli5) (1.23.1)\n",
      "Requirement already satisfied: scipy in c:\\users\\hhz20\\anaconda3\\envs\\sklearn\\lib\\site-packages (from eli5) (1.8.1)\n",
      "Requirement already satisfied: six in c:\\users\\hhz20\\anaconda3\\envs\\sklearn\\lib\\site-packages (from eli5) (1.16.0)\n",
      "Requirement already satisfied: scikit-learn>=0.20 in c:\\users\\hhz20\\anaconda3\\envs\\sklearn\\lib\\site-packages (from eli5) (1.1.1)\n",
      "Collecting graphviz\n",
      "  Downloading graphviz-0.20-py3-none-any.whl (46 kB)\n",
      "     ---------------------------------------- 47.0/47.0 kB ? eta 0:00:00\n",
      "Collecting tabulate>=0.7.7\n",
      "  Downloading tabulate-0.8.10-py3-none-any.whl (29 kB)\n",
      "Requirement already satisfied: MarkupSafe>=2.0 in c:\\users\\hhz20\\anaconda3\\envs\\sklearn\\lib\\site-packages (from jinja2>=3.0.0->eli5) (2.1.1)\n",
      "Requirement already satisfied: threadpoolctl>=2.0.0 in c:\\users\\hhz20\\anaconda3\\envs\\sklearn\\lib\\site-packages (from scikit-learn>=0.20->eli5) (3.1.0)\n",
      "Requirement already satisfied: joblib>=1.0.0 in c:\\users\\hhz20\\anaconda3\\envs\\sklearn\\lib\\site-packages (from scikit-learn>=0.20->eli5) (1.1.0)\n",
      "Building wheels for collected packages: eli5\n",
      "  Building wheel for eli5 (setup.py): started\n",
      "  Building wheel for eli5 (setup.py): finished with status 'done'\n",
      "  Created wheel for eli5: filename=eli5-0.13.0-py2.py3-none-any.whl size=107748 sha256=dc06d2094bca0eddd99ae920931c21c15ce14841754e7d9d22b43e7f49d0e548\n",
      "  Stored in directory: c:\\users\\hhz20\\appdata\\local\\pip\\cache\\wheels\\b8\\58\\ef\\2cf4c306898c2338d51540e0922c8e0d6028e07007085c0004\n",
      "Successfully built eli5\n",
      "Installing collected packages: tabulate, graphviz, eli5\n",
      "Successfully installed eli5-0.13.0 graphviz-0.20 tabulate-0.8.10\n"
     ]
    }
   ],
   "source": [
    "!pip install eli5"
   ]
  },
  {
   "cell_type": "code",
   "execution_count": 49,
   "id": "3159d880",
   "metadata": {},
   "outputs": [],
   "source": [
    "import pandas as pd\n",
    "import numpy as np\n",
    "\n",
    "from string import ascii_lowercase\n",
    "from itertools import combinations\n",
    "\n",
    "from sklearn.preprocessing import LabelEncoder\n",
    "from sklearn.metrics import roc_auc_score"
   ]
  },
  {
   "cell_type": "code",
   "execution_count": 50,
   "id": "1ffec79e",
   "metadata": {},
   "outputs": [],
   "source": [
    "from lightgbm import LGBMRegressor\n",
    "from sklearn.model_selection import train_test_split\n",
    "from sklearn.preprocessing import StandardScaler\n",
    "\n",
    "from sklearn.ensemble import RandomForestRegressor\n",
    "import eli5\n",
    "from eli5.sklearn import PermutationImportance\n",
    "\n",
    "import matplotlib.pyplot as plt\n",
    "\n",
    "import warnings\n",
    "import gc\n",
    "warnings.filterwarnings(\"ignore\")"
   ]
  },
  {
   "cell_type": "code",
   "execution_count": 51,
   "id": "272e143e",
   "metadata": {},
   "outputs": [],
   "source": [
    "train = pd.read_csv('./open data/train.csv')\n",
    "test = pd.read_csv('./open data/test_x.csv')"
   ]
  },
  {
   "cell_type": "code",
   "execution_count": 52,
   "id": "dbaa3b58",
   "metadata": {},
   "outputs": [],
   "source": [
    "x_train = train.copy()\n",
    "x_train.drop('voted', axis=1, inplace = True)\n",
    "y_train = train['voted']"
   ]
  },
  {
   "cell_type": "code",
   "execution_count": 53,
   "id": "2b2742fc",
   "metadata": {},
   "outputs": [],
   "source": [
    "dataset = [x_train, test]"
   ]
  },
  {
   "cell_type": "code",
   "execution_count": 54,
   "id": "498b0dd3",
   "metadata": {},
   "outputs": [],
   "source": [
    "questions = [i for i in list(ascii_lowercase)[:20]]\n",
    "answers = [('Q'+i+'A') for i in questions]"
   ]
  },
  {
   "cell_type": "code",
   "execution_count": 55,
   "id": "1a1daf95",
   "metadata": {},
   "outputs": [],
   "source": [
    "\n",
    "for data in dataset:\n",
    "  data['T'] = data['QcA'] - data['QfA'] + data['QoA'] - data['QrA'] + data['QsA']\n",
    "  data['V'] = data['QbA'] - data['QeA'] + data['QhA'] + data['QjA'] + data['QmA'] - data['QqA']\n",
    "  data['M'] = - data['QkA']"
   ]
  },
  {
   "cell_type": "code",
   "execution_count": 62,
   "id": "9391a96b",
   "metadata": {},
   "outputs": [],
   "source": [
    "flipping_columns = [\"QeA\", \"QfA\", \"QkA\", \"QqA\", \"QrA\"]\n",
    "for data in dataset:\n",
    "  for flip in flipping_columns: \n",
    "    data[flip] = 6 - data[flip]"
   ]
  },
  {
   "cell_type": "code",
   "execution_count": 63,
   "id": "ffe66ff7",
   "metadata": {},
   "outputs": [],
   "source": [
    "flipping_secret_columns = [\"QaA\", \"QdA\", \"QgA\", \"QiA\", \"QnA\"]\n",
    "for data in dataset:\n",
    "  for flip in flipping_secret_columns: \n",
    "    data[flip] = 6 - data[flip]"
   ]
  },
  {
   "cell_type": "code",
   "execution_count": 64,
   "id": "83e1275e",
   "metadata": {},
   "outputs": [],
   "source": [
    "for data in dataset:\n",
    "  data['Mach_score'] = data[answers].mean(axis = 1)"
   ]
  },
  {
   "cell_type": "code",
   "execution_count": 65,
   "id": "e5c18004",
   "metadata": {},
   "outputs": [],
   "source": [
    "for data in dataset:\n",
    "  data['delay'] = data[[('Q'+i+'E') for i in questions]].sum(axis=1)\n",
    "  data['delay'] = data['delay'] ** (1/10)\n",
    "  data['delay_var'] = data['delay'].var()"
   ]
  },
  {
   "cell_type": "code",
   "execution_count": 66,
   "id": "79b3a221",
   "metadata": {},
   "outputs": [],
   "source": [
    "Ancoms = list(combinations(answers, 2))\n",
    "for data in dataset:\n",
    "  for a,b in Ancoms:\n",
    "    data['mach_%s_dv_%s'%(a,b)] = data[a]/data[b]"
   ]
  },
  {
   "cell_type": "code",
   "execution_count": 67,
   "id": "9e3b60e5",
   "metadata": {},
   "outputs": [],
   "source": [
    "for data in dataset:\n",
    "  data['mach_var'] = data[answers].var(axis=1)"
   ]
  },
  {
   "cell_type": "code",
   "execution_count": 69,
   "id": "40db5c48",
   "metadata": {},
   "outputs": [],
   "source": [
    "tps = ['tp01', 'tp02', 'tp03', 'tp04', 'tp05', 'tp06', 'tp07', 'tp08', 'tp09', 'tp10']\n",
    "for data in dataset:\n",
    "  for tp in tps:\n",
    "    data[tp] = 7 - data[tp]"
   ]
  },
  {
   "cell_type": "code",
   "execution_count": 70,
   "id": "b3e5f170",
   "metadata": {},
   "outputs": [],
   "source": [
    "for data in dataset:\n",
    "  for tp in tps:\n",
    "    data[tp] = data[tp].replace(0, np.nan)\n",
    "    mean = data[tp].mean(axis=0)\n",
    "    data[tp] = data[tp].replace(np.nan , mean)"
   ]
  },
  {
   "cell_type": "code",
   "execution_count": 71,
   "id": "59d72568",
   "metadata": {},
   "outputs": [],
   "source": [
    "for data in dataset:\n",
    "  data['Ex'] = data['tp01']-data['tp06']\n",
    "  data['Ag'] = data['tp07']-data['tp02']\n",
    "  data['Con'] = data['tp03']-data['tp08']\n",
    "  data['Es'] =data['tp09']-data['tp04']\n",
    "  data['Op'] =data['tp05']-data['tp10']"
   ]
  },
  {
   "cell_type": "code",
   "execution_count": 72,
   "id": "79bfad75",
   "metadata": {},
   "outputs": [],
   "source": [
    "index = test['index']\n",
    "for data in dataset:\n",
    "  data.drop('index', axis = 1, inplace = True)"
   ]
  },
  {
   "cell_type": "code",
   "execution_count": 73,
   "id": "97a75de0",
   "metadata": {},
   "outputs": [],
   "source": [
    "import numpy as np\n",
    "for data in dataset:\n",
    "  teenager_ox = 1*np.array(data['age_group'] == '10s')\n",
    "  data['teenager_ox'] = teenager_ox"
   ]
  },
  {
   "cell_type": "code",
   "execution_count": 74,
   "id": "90c26e7d",
   "metadata": {},
   "outputs": [],
   "source": [
    "tpcoms = list(combinations(tps, 2))\n",
    "for data in dataset:\n",
    "  for a,b in tpcoms:\n",
    "    data['tp_%s_dv_%s'%(a,b)] = data[a]/data[b]"
   ]
  },
  {
   "cell_type": "code",
   "execution_count": 75,
   "id": "6b305360",
   "metadata": {},
   "outputs": [],
   "source": [
    "from sklearn.preprocessing import LabelEncoder\n",
    "encoder = LabelEncoder()\n",
    "needenco = ['age_group', 'gender', 'race', 'religion']\n",
    "for i in needenco:\n",
    "  x_train[i] = encoder.fit_transform(x_train[i])\n",
    "  test[i] = encoder.transform(test[i])"
   ]
  },
  {
   "cell_type": "code",
   "execution_count": 76,
   "id": "5a84e44e",
   "metadata": {},
   "outputs": [],
   "source": [
    "for data in dataset:\n",
    "  data['Es_gender'] = data['Es']*data['gender']\n",
    "  data['Con_gender'] = data['Con']*data['gender']\n",
    "  data['Op_gender'] = data['Op']*data['gender']"
   ]
  },
  {
   "cell_type": "code",
   "execution_count": 77,
   "id": "514ebefc",
   "metadata": {},
   "outputs": [
    {
     "name": "stdout",
     "output_type": "stream",
     "text": [
      "327 0.7665590942938225\n",
      "294 0.7665528480357506\n",
      "264 0.7672607728218537\n",
      "237 0.7672607728218537\n",
      "213 0.7662522196746191\n",
      "191 0.7668544397501172\n",
      "171 0.766027665143139\n",
      "153 0.7666827764188281\n",
      "137 0.7671529549493142\n",
      "123 0.7672102900047503\n",
      "110 0.7680099353415955\n",
      "99 0.7666848118909859\n",
      "89 0.7683897451234594\n",
      "80 0.7675948388630119\n",
      "72 0.7679549775933361\n",
      "64 0.7680814720882695\n",
      "57 0.7662397271584752\n",
      "51 0.7671283739038672\n",
      "45 0.7674011582489171\n",
      "40 0.7664250172766527\n"
     ]
    }
   ],
   "source": [
    "def lgbm_rfe_4040(x_data, y_data, ratio=0.9, min_feats=40):\n",
    "    feats = x_data.columns.tolist()\n",
    "    archive = pd.DataFrame(columns=['model', 'n_feats', 'feats', 'score'])\n",
    "    while True:\n",
    "        model = LGBMClassifier(objective = 'binary', num_iterations=10**4)\n",
    "        x_train, x_val, y_train, y_val = train_test_split(x_data[feats], y_data, random_state=4040)\n",
    "        model.fit(x_train, y_train, eval_set=[(x_val, y_val)], early_stopping_rounds=100, verbose=False)\n",
    "        val_pred = model.predict_proba(x_val)\n",
    "        val_pred = val_pred[:,1]\n",
    "        score = roc_auc_score(y_val, val_pred)\n",
    "        n_feats = len(feats)\n",
    "        print(n_feats, score)\n",
    "        archive = archive.append({'model': model, 'n_feats': n_feats, 'feats': feats, 'score': score}, ignore_index=True)\n",
    "        feat_imp = pd.Series(model.feature_importances_, index=feats).sort_values(ascending=False)        \n",
    "        next_n_feats = int(n_feats * ratio)\n",
    "        if next_n_feats < min_feats:\n",
    "            break\n",
    "        else:\n",
    "            feats = feat_imp.iloc[:next_n_feats].index.tolist()\n",
    "    return archive\n",
    "\n",
    "lgbm_archive_4040 = lgbm_rfe_4040(x_train, y_train)"
   ]
  },
  {
   "cell_type": "code",
   "execution_count": 78,
   "id": "489f50d2",
   "metadata": {},
   "outputs": [],
   "source": [
    "model = LGBMClassifier(objective=\"binary\", num_iterations= 10**3)\n",
    "\n",
    "x_train_1 = x_train[lgbm_archive_4040.iloc[7,2]]\n",
    "\n",
    "model.fit(x_train_1, y_train)\n",
    "\n",
    "pred_y1 = model.predict_proba(test[lgbm_archive_4040.iloc[7,2]])\n",
    "pred_y1 = pred_y1[:,1]"
   ]
  },
  {
   "cell_type": "code",
   "execution_count": 79,
   "id": "ca297e43",
   "metadata": {},
   "outputs": [],
   "source": [
    "def lgbm_rfe_1234(x_data, y_data, ratio=0.9, min_feats=40):\n",
    "    feats = x_data.columns.tolist()\n",
    "    archive = pd.DataFrame(columns=['model', 'n_feats', 'feats', 'score'])\n",
    "    while True:\n",
    "        model = LGBMClassifier(objective = 'binary', num_iterations=10**4)\n",
    "        x_train, x_val, y_train, y_val = train_test_split(x_data[feats], y_data, random_state=1234)\n",
    "        model.fit(x_train, y_train, eval_set=[(x_val, y_val)], early_stopping_rounds=100, verbose=False)\n",
    "        val_pred = model.predict_proba(x_val)\n",
    "        val_pred = val_pred[:,1]\n",
    "        score = roc_auc_score(y_val, val_pred)\n",
    "        n_feats = len(feats)\n",
    "        print(n_feats, score)\n",
    "        archive = archive.append({'model': model, 'n_feats': n_feats, 'feats': feats, 'score': score}, ignore_index=True)\n",
    "        feat_imp = pd.Series(model.feature_importances_, index=feats).sort_values(ascending=False)\n",
    "        next_n_feats = int(n_feats * ratio)\n",
    "        if next_n_feats < min_feats:\n",
    "            break\n",
    "        else:\n",
    "            feats = feat_imp.iloc[:next_n_feats].index.tolist()\n",
    "    return archive"
   ]
  },
  {
   "cell_type": "code",
   "execution_count": 80,
   "id": "f075029e",
   "metadata": {},
   "outputs": [
    {
     "name": "stdout",
     "output_type": "stream",
     "text": [
      "327 0.7605139830321062\n",
      "294 0.7605139830321062\n",
      "264 0.7610637046671986\n",
      "237 0.7616640720827128\n",
      "213 0.7602169607921923\n",
      "191 0.7611186176505217\n",
      "171 0.7612385353962923\n",
      "153 0.7605161322072902\n",
      "137 0.7608980780144362\n",
      "123 0.7613886194633042\n",
      "110 0.7603517670269182\n",
      "99 0.7613584531420629\n",
      "89 0.7608445666671027\n",
      "80 0.761711462952892\n",
      "72 0.7618833502464076\n",
      "64 0.7601841157888376\n",
      "57 0.7604927404599983\n",
      "51 0.7593006801983719\n",
      "45 0.761184463394563\n",
      "40 0.7590205087377988\n"
     ]
    }
   ],
   "source": [
    "lgbm_archive_1234 = lgbm_rfe_1234(x_train, y_train)"
   ]
  },
  {
   "cell_type": "code",
   "execution_count": 81,
   "id": "31b1c171",
   "metadata": {},
   "outputs": [],
   "source": [
    "model2 = LGBMClassifier(objective=\"binary\", num_iterations= 10**3)\n",
    "\n",
    "x_train_2 = x_train[lgbm_archive_1234.iloc[14,2]]\n",
    "\n",
    "model2.fit(x_train_2, y_train)\n",
    "\n",
    "pred_y2 = model2.predict_proba(test[lgbm_archive_1234.iloc[14,2]])\n",
    "pred_y2 = pred_y2[:,1]"
   ]
  },
  {
   "cell_type": "code",
   "execution_count": 82,
   "id": "70213b26",
   "metadata": {},
   "outputs": [],
   "source": [
    "def lgbm_rfe_99087(x_data, y_data, ratio=0.9, min_feats=40):\n",
    "    feats = x_data.columns.tolist()\n",
    "    archive = pd.DataFrame(columns=['model', 'n_feats', 'feats', 'score'])\n",
    "    while True:\n",
    "        model = LGBMClassifier(objective = 'binary', num_iterations=10**4)\n",
    "        x_train, x_val, y_train, y_val = train_test_split(x_data[feats], y_data, random_state=99087)\n",
    "        model.fit(x_train, y_train, eval_set=[(x_val, y_val)], early_stopping_rounds=100, verbose=False)\n",
    "        val_pred = model.predict_proba(x_val)\n",
    "        val_pred = val_pred[:,1]\n",
    "        score = roc_auc_score(y_val, val_pred)\n",
    "        n_feats = len(feats)\n",
    "        print(n_feats, score)\n",
    "        archive = archive.append({'model': model, 'n_feats': n_feats, 'feats': feats, 'score': score}, ignore_index=True)\n",
    "        feat_imp = pd.Series(model.feature_importances_, index=feats).sort_values(ascending=False)\n",
    "        next_n_feats = int(n_feats * ratio)\n",
    "        if next_n_feats < min_feats:\n",
    "            break\n",
    "        else:\n",
    "            feats = feat_imp.iloc[:next_n_feats].index.tolist()\n",
    "    return archive"
   ]
  },
  {
   "cell_type": "code",
   "execution_count": 83,
   "id": "8c396886",
   "metadata": {},
   "outputs": [
    {
     "name": "stdout",
     "output_type": "stream",
     "text": [
      "327 0.7604232623480807\n",
      "294 0.7599213835244532\n",
      "264 0.7601658323188046\n",
      "237 0.7599442952484446\n",
      "213 0.7595475893317534\n",
      "191 0.7605925476131151\n",
      "171 0.7587234832594367\n",
      "153 0.7589670604121147\n",
      "137 0.7580329095785077\n",
      "123 0.7595124123642123\n",
      "110 0.7586161779434064\n",
      "99 0.7588852194849769\n",
      "89 0.7596013820750378\n",
      "80 0.7595997321818697\n",
      "72 0.7593681245371738\n",
      "64 0.7587439512737363\n",
      "57 0.7578454132285073\n",
      "51 0.7579036887003985\n",
      "45 0.7579766264304418\n",
      "40 0.7600447986464152\n"
     ]
    }
   ],
   "source": [
    "lgbm_archive_99087 = lgbm_rfe_99087(x_train, y_train)"
   ]
  },
  {
   "cell_type": "code",
   "execution_count": 84,
   "id": "2a1d88a0",
   "metadata": {},
   "outputs": [],
   "source": [
    "model3 = LGBMClassifier(objective=\"binary\", num_iterations= 10**3)\n",
    "\n",
    "x_train_3 = x_train[lgbm_archive_99087.iloc[7,2]]\n",
    "\n",
    "model3.fit(x_train_3, y_train)\n",
    "\n",
    "pred_y3 = model3.predict_proba(test[lgbm_archive_99087.iloc[7,2]])\n",
    "pred_y3 = pred_y3[:,1]"
   ]
  },
  {
   "cell_type": "code",
   "execution_count": 85,
   "id": "9e5a5e0a",
   "metadata": {},
   "outputs": [],
   "source": [
    "def lgbm_rfe_42(x_data, y_data, ratio=0.9, min_feats=40):\n",
    "    feats = x_data.columns.tolist()\n",
    "    archive = pd.DataFrame(columns=['model', 'n_feats', 'feats', 'score'])\n",
    "    while True:\n",
    "        model = LGBMClassifier(objective = 'binary', num_iterations=10**4)\n",
    "        x_train, x_val, y_train, y_val = train_test_split(x_data[feats], y_data, random_state=42)\n",
    "        model.fit(x_train, y_train, eval_set=[(x_val, y_val)], early_stopping_rounds=100, verbose=False)\n",
    "        val_pred = model.predict_proba(x_val)\n",
    "        val_pred = val_pred[:,1]\n",
    "        score = roc_auc_score(y_val, val_pred)\n",
    "        n_feats = len(feats)\n",
    "        print(n_feats, score)\n",
    "        archive = archive.append({'model': model, 'n_feats': n_feats, 'feats': feats, 'score': score}, ignore_index=True)\n",
    "        feat_imp = pd.Series(model.feature_importances_, index=feats).sort_values(ascending=False)\n",
    "        next_n_feats = int(n_feats * ratio)\n",
    "        if next_n_feats < min_feats:\n",
    "            break\n",
    "        else:\n",
    "            feats = feat_imp.iloc[:next_n_feats].index.tolist()\n",
    "    return archive"
   ]
  },
  {
   "cell_type": "code",
   "execution_count": 86,
   "id": "7f5cd130",
   "metadata": {},
   "outputs": [
    {
     "name": "stdout",
     "output_type": "stream",
     "text": [
      "327 0.7685705846526576\n",
      "294 0.7685720478128371\n",
      "264 0.7683363544996783\n",
      "237 0.7701410380567341\n",
      "213 0.7687319681073419\n",
      "191 0.7691739358747326\n",
      "171 0.7700440025188768\n",
      "153 0.7697567872887617\n",
      "137 0.7692588147306734\n",
      "123 0.7680675688616103\n",
      "110 0.7670975870558515\n",
      "99 0.7688443356960153\n",
      "89 0.768841985300408\n",
      "80 0.7677589821535551\n",
      "72 0.7687688739880378\n",
      "64 0.7703421603192703\n",
      "57 0.7697526312912307\n",
      "51 0.7697593556018427\n",
      "45 0.7693523168923524\n",
      "40 0.7686346835209437\n"
     ]
    }
   ],
   "source": [
    "lgbm_archive_42 = lgbm_rfe_42(x_train, y_train)"
   ]
  },
  {
   "cell_type": "code",
   "execution_count": 87,
   "id": "982131b9",
   "metadata": {},
   "outputs": [],
   "source": [
    "model4 = LGBMClassifier(objective=\"binary\", num_iterations= 10**3)\n",
    "\n",
    "x_train_4 = x_train[lgbm_archive_42.iloc[8,2]]\n",
    "\n",
    "model4.fit(x_train_4, y_train)\n",
    "\n",
    "pred_y4 = model4.predict_proba(test[lgbm_archive_42.iloc[8,2]])\n",
    "pred_y4 = pred_y4[:,1]"
   ]
  },
  {
   "cell_type": "code",
   "execution_count": 89,
   "id": "76c6328a",
   "metadata": {},
   "outputs": [],
   "source": [
    "pred_all = (pred_y + pred_y2 + pred_y3 + pred_y4) * (1/4)\n",
    "\n",
    "submission = pd.DataFrame({\n",
    "    \"index\" : index,\n",
    "    \"voted\" : pred_all\n",
    "})\n",
    "submission.to_csv('./open data/model2.csv', index=False)"
   ]
  },
  {
   "cell_type": "code",
   "execution_count": 93,
   "id": "d86390ae",
   "metadata": {},
   "outputs": [
    {
     "name": "stdout",
     "output_type": "stream",
     "text": [
      "Collecting tqdm\n",
      "  Using cached tqdm-4.64.0-py2.py3-none-any.whl (78 kB)\n",
      "Requirement already satisfied: colorama in c:\\users\\hhz20\\anaconda3\\envs\\sklearn\\lib\\site-packages (from tqdm) (0.4.5)\n",
      "Installing collected packages: tqdm\n",
      "Successfully installed tqdm-4.64.0\n"
     ]
    }
   ],
   "source": [
    "!pip install tqdm"
   ]
  },
  {
   "cell_type": "code",
   "execution_count": 95,
   "id": "a90ce4c9",
   "metadata": {},
   "outputs": [
    {
     "name": "stderr",
     "output_type": "stream",
     "text": [
      "01/07: 100%|███████████████████████████████████████████████████████████████████████████| 48/48 [03:19<00:00,  4.16s/it]\n",
      "02/07: 100%|███████████████████████████████████████████████████████████████████████████| 48/48 [03:22<00:00,  4.22s/it]\n",
      "03/07: 100%|███████████████████████████████████████████████████████████████████████████| 48/48 [03:23<00:00,  4.24s/it]\n",
      "04/07: 100%|███████████████████████████████████████████████████████████████████████████| 48/48 [03:22<00:00,  4.23s/it]\n",
      "05/07: 100%|███████████████████████████████████████████████████████████████████████████| 48/48 [03:10<00:00,  3.98s/it]\n",
      "06/07: 100%|███████████████████████████████████████████████████████████████████████████| 48/48 [03:12<00:00,  4.00s/it]\n",
      "07/07: 100%|███████████████████████████████████████████████████████████████████████████| 48/48 [03:24<00:00,  4.26s/it]\n"
     ]
    },
    {
     "name": "stdout",
     "output_type": "stream",
     "text": [
      "R1 -> 0.6057\n"
     ]
    },
    {
     "name": "stderr",
     "output_type": "stream",
     "text": [
      "01/07: 100%|███████████████████████████████████████████████████████████████████████████| 48/48 [03:15<00:00,  4.07s/it]\n",
      "02/07: 100%|███████████████████████████████████████████████████████████████████████████| 48/48 [03:27<00:00,  4.33s/it]\n",
      "03/07: 100%|███████████████████████████████████████████████████████████████████████████| 48/48 [03:26<00:00,  4.31s/it]\n",
      "04/07: 100%|███████████████████████████████████████████████████████████████████████████| 48/48 [03:18<00:00,  4.13s/it]\n",
      "05/07: 100%|███████████████████████████████████████████████████████████████████████████| 48/48 [03:28<00:00,  4.34s/it]\n",
      "06/07: 100%|███████████████████████████████████████████████████████████████████████████| 48/48 [03:31<00:00,  4.40s/it]\n",
      "07/07: 100%|███████████████████████████████████████████████████████████████████████████| 48/48 [03:28<00:00,  4.33s/it]\n"
     ]
    },
    {
     "name": "stdout",
     "output_type": "stream",
     "text": [
      "R2 -> 0.6052\n"
     ]
    },
    {
     "name": "stderr",
     "output_type": "stream",
     "text": [
      "01/07: 100%|███████████████████████████████████████████████████████████████████████████| 48/48 [03:27<00:00,  4.32s/it]\n",
      "02/07: 100%|███████████████████████████████████████████████████████████████████████████| 48/48 [03:28<00:00,  4.34s/it]\n",
      "03/07: 100%|███████████████████████████████████████████████████████████████████████████| 48/48 [03:31<00:00,  4.40s/it]\n",
      "04/07: 100%|███████████████████████████████████████████████████████████████████████████| 48/48 [03:35<00:00,  4.49s/it]\n",
      "05/07: 100%|███████████████████████████████████████████████████████████████████████████| 48/48 [03:40<00:00,  4.60s/it]\n",
      "06/07: 100%|███████████████████████████████████████████████████████████████████████████| 48/48 [03:29<00:00,  4.37s/it]\n",
      "07/07: 100%|███████████████████████████████████████████████████████████████████████████| 48/48 [03:14<00:00,  4.05s/it]\n"
     ]
    },
    {
     "name": "stdout",
     "output_type": "stream",
     "text": [
      "R3 -> 0.6050\n"
     ]
    },
    {
     "name": "stderr",
     "output_type": "stream",
     "text": [
      "01/07: 100%|███████████████████████████████████████████████████████████████████████████| 48/48 [03:22<00:00,  4.22s/it]\n",
      "02/07: 100%|███████████████████████████████████████████████████████████████████████████| 48/48 [03:14<00:00,  4.06s/it]\n",
      "03/07: 100%|███████████████████████████████████████████████████████████████████████████| 48/48 [03:14<00:00,  4.05s/it]\n",
      "04/07: 100%|███████████████████████████████████████████████████████████████████████████| 48/48 [03:20<00:00,  4.18s/it]\n",
      "05/07: 100%|███████████████████████████████████████████████████████████████████████████| 48/48 [03:17<00:00,  4.11s/it]\n",
      "06/07: 100%|███████████████████████████████████████████████████████████████████████████| 48/48 [03:27<00:00,  4.32s/it]\n",
      "07/07: 100%|███████████████████████████████████████████████████████████████████████████| 48/48 [03:34<00:00,  4.47s/it]\n"
     ]
    },
    {
     "name": "stdout",
     "output_type": "stream",
     "text": [
      "R4 -> 0.6055\n"
     ]
    },
    {
     "name": "stderr",
     "output_type": "stream",
     "text": [
      "01/07: 100%|███████████████████████████████████████████████████████████████████████████| 48/48 [03:25<00:00,  4.27s/it]\n",
      "02/07: 100%|███████████████████████████████████████████████████████████████████████████| 48/48 [03:30<00:00,  4.38s/it]\n",
      "03/07: 100%|███████████████████████████████████████████████████████████████████████████| 48/48 [03:25<00:00,  4.29s/it]\n",
      "04/07: 100%|███████████████████████████████████████████████████████████████████████████| 48/48 [03:34<00:00,  4.47s/it]\n",
      "05/07: 100%|███████████████████████████████████████████████████████████████████████████| 48/48 [03:33<00:00,  4.44s/it]\n",
      "06/07: 100%|███████████████████████████████████████████████████████████████████████████| 48/48 [03:18<00:00,  4.14s/it]\n",
      "07/07: 100%|███████████████████████████████████████████████████████████████████████████| 48/48 [03:17<00:00,  4.11s/it]"
     ]
    },
    {
     "name": "stdout",
     "output_type": "stream",
     "text": [
      "R5 -> 0.6054\n"
     ]
    },
    {
     "name": "stderr",
     "output_type": "stream",
     "text": [
      "\n"
     ]
    }
   ],
   "source": [
    "import random\n",
    "from datetime import datetime\n",
    "\n",
    "import numpy as np\n",
    "import pandas as pd\n",
    "import torch\n",
    "from sklearn.model_selection import StratifiedKFold\n",
    "from torch import nn, optim\n",
    "from torch.utils.data import DataLoader\n",
    "from torch.utils.data import TensorDataset\n",
    "from tqdm import tqdm\n",
    "\n",
    "random.seed(0)\n",
    "np.random.seed(0)\n",
    "torch.manual_seed(0)\n",
    "torch.backends.cudnn.deterministic = True\n",
    "torch.backends.cudnn.benchmark = False\n",
    "\n",
    "DEVICE = 'cuda:0' if torch.cuda.is_available() else 'cpu'\n",
    "\n",
    "drop_list = ['QaE', 'QbE', 'QcE', 'QdE', 'QeE',\n",
    "             'QfE', 'QgE', 'QhE', 'QiE', 'QjE',\n",
    "             'QkE', 'QlE', 'QmE', 'QnE', 'QoE',\n",
    "             'QpE', 'QqE', 'QrE', 'QsE', 'QtE',\n",
    "             'index', 'hand']\n",
    "replace_dict = {'education': str, 'engnat': str, 'married': str, 'urban': str}\n",
    "train_data = pd.read_csv('./open data/train.csv')\n",
    "test_data = pd.read_csv('./open data/test_x.csv')\n",
    "train_data = train_data.drop(train_data[train_data.familysize > 50].index)\n",
    "train_y = train_data['voted']\n",
    "train_x = train_data.drop(drop_list + ['voted'], axis=1)\n",
    "test_x = test_data.drop(drop_list, axis=1)\n",
    "train_x = train_x.astype(replace_dict)\n",
    "test_x = test_x.astype(replace_dict)\n",
    "train_x = pd.get_dummies(train_x)\n",
    "test_x = pd.get_dummies(test_x)\n",
    "train_y = 2 - train_y.to_numpy()\n",
    "train_x = train_x.to_numpy()\n",
    "test_x = test_x.to_numpy()\n",
    "\n",
    "train_y_t = torch.tensor(train_y, dtype=torch.float32)\n",
    "train_x_t = torch.tensor(train_x, dtype=torch.float32)\n",
    "test_x_t = torch.tensor(test_x, dtype=torch.float32)\n",
    "train_x_t[:, :20] = (train_x_t[:, :20] - 3.) / 2.\n",
    "test_x_t[:, :20] = (test_x_t[:, :20] - 3.) / 2\n",
    "train_x_t[:, 20] = (train_x_t[:, 20] - 5.) / 4.\n",
    "test_x_t[:, 20] = (test_x_t[:, 20] - 5.) / 4.\n",
    "train_x_t[:, 21:31] = (train_x_t[:, 21:31] - 3.5) / 3.5\n",
    "test_x_t[:, 21:31] = (test_x_t[:, 21:31] - 3.5) / 3.5\n",
    "test_len = len(test_x_t)\n",
    "\n",
    "N_REPEAT = 5\n",
    "N_SKFOLD = 7\n",
    "N_EPOCH = 48\n",
    "BATCH_SIZE = 72\n",
    "LOADER_PARAM = {\n",
    "    'batch_size': BATCH_SIZE,\n",
    "    'num_workers': 4,\n",
    "    'pin_memory': True\n",
    "}\n",
    "prediction = np.zeros((test_len, 1), dtype=np.float32)\n",
    "\n",
    "for repeat in range(N_REPEAT):\n",
    "\n",
    "    skf, tot = StratifiedKFold(n_splits=N_SKFOLD, random_state=repeat, shuffle=True), 0.\n",
    "    for skfold, (train_idx, valid_idx) in enumerate(skf.split(train_x, train_y)):\n",
    "        train_idx, valid_idx = list(train_idx), list(valid_idx)\n",
    "        train_loader = DataLoader(TensorDataset(train_x_t[train_idx, :], train_y_t[train_idx]),\n",
    "                                  shuffle=True, drop_last=True, **LOADER_PARAM)\n",
    "        valid_loader = DataLoader(TensorDataset(train_x_t[valid_idx, :], train_y_t[valid_idx]),\n",
    "                                  shuffle=False, drop_last=False, **LOADER_PARAM)\n",
    "        test_loader = DataLoader(TensorDataset(test_x_t, torch.zeros((test_len,), dtype=torch.float32)),\n",
    "                                 shuffle=False, drop_last=False, **LOADER_PARAM)\n",
    "        model = nn.Sequential(\n",
    "            nn.Dropout(0.05),\n",
    "            nn.Linear(91, 180, bias=False),\n",
    "            nn.LeakyReLU(0.05, inplace=True),\n",
    "            nn.Dropout(0.5),\n",
    "            nn.Linear(180, 32, bias=False),\n",
    "            nn.ReLU(inplace=True),\n",
    "            nn.Linear(32, 1)\n",
    "        ).to(DEVICE)\n",
    "        criterion = torch.nn.BCEWithLogitsLoss(pos_weight=torch.tensor([1.20665], device=DEVICE))\n",
    "        optimizer = optim.AdamW(model.parameters(), lr=5e-3, weight_decay=7.8e-2)\n",
    "        scheduler = optim.lr_scheduler.CosineAnnealingWarmRestarts(\n",
    "            optimizer, T_0=N_EPOCH // 6, eta_min=4e-4)\n",
    "        prediction_t, loss_t = np.zeros((test_len, 1), dtype=np.float32), 1.\n",
    "\n",
    "        # for epoch in range(N_EPOCH):\n",
    "        for epoch in tqdm(range(N_EPOCH), desc='{:02d}/{:02d}'.format(skfold + 1, N_SKFOLD)):\n",
    "            model.train()\n",
    "            for idx, (xx, yy) in enumerate(train_loader):\n",
    "                optimizer.zero_grad()\n",
    "                xx, yy = xx.to(DEVICE), yy.to(DEVICE)\n",
    "                pred = model(xx).squeeze()\n",
    "                loss = criterion(pred, yy)\n",
    "                loss.backward()\n",
    "                optimizer.step()\n",
    "                scheduler.step(epoch + idx / len(train_loader))\n",
    "\n",
    "            with torch.no_grad():\n",
    "                model.eval()\n",
    "                running_acc, running_loss, running_count = 0, 0., 0\n",
    "                for xx, yy in valid_loader:\n",
    "                    xx, yy = xx.to(DEVICE), yy.to(DEVICE)\n",
    "                    pred = model(xx).squeeze()\n",
    "                    loss = criterion(pred, yy)\n",
    "                    running_loss += loss.item() * len(yy)\n",
    "                    running_count += len(yy)\n",
    "                    running_acc += ((torch.sigmoid(pred) > 0.5).float() == yy).sum().item()\n",
    "                # print('R{:02d} S{:02d} E{:02d} | {:6.4f}, {:5.2f}%'\n",
    "                #       .format(repeat + 1, skfold + 1, epoch + 1, running_loss / running_count,\n",
    "                #               running_acc / running_count * 100))\n",
    "\n",
    "                if running_loss / running_count < loss_t:\n",
    "                    loss_t = running_loss / running_count\n",
    "                    for idx, (xx, _) in enumerate(test_loader):\n",
    "                        xx = xx.to(DEVICE)\n",
    "                        pred = (2. - torch.sigmoid(model(xx).detach().to('cpu'))).numpy()\n",
    "                        prediction_t[BATCH_SIZE * idx:min(BATCH_SIZE * (idx + 1), len(prediction)), :] \\\n",
    "                            = pred[:, :].copy()\n",
    "        prediction[:, :] += prediction_t[:, :].copy() / (N_REPEAT * N_SKFOLD)\n",
    "        tot += loss_t\n",
    "    print('R{} -> {:6.4f}'.format(repeat + 1, tot / N_SKFOLD))\n",
    "\n",
    "df = pd.read_csv('./open data/sample_submission.csv')\n",
    "df.iloc[:, 1:] = prediction"
   ]
  },
  {
   "cell_type": "code",
   "execution_count": null,
   "id": "b721d5e9",
   "metadata": {},
   "outputs": [],
   "source": [
    "df.to_csv('../data/model3.csv', index=False)"
   ]
  },
  {
   "cell_type": "code",
   "execution_count": null,
   "id": "6e0f0237",
   "metadata": {},
   "outputs": [],
   "source": [
    "model1 = pd.read_csv('../data/model1.csv', index_col = 'index')\n",
    "model2 = pd.read_csv('../data/model2.csv', index_col='index')\n",
    "\n",
    "pred_y = (model1)*(0.7) + (model2)*(0.3)\n",
    "\n",
    "test = pd.read_csv('../data/test_x.csv')\n",
    "index = test['index']\n",
    "\n",
    "submission = pd.DataFrame({\n",
    "    'index': index,\n",
    "    'voted': pred_y['voted']\n",
    "    })\n",
    "\n",
    "submission.to_csv('../data/combined_model1_model2.csv', index=False)"
   ]
  },
  {
   "cell_type": "code",
   "execution_count": null,
   "id": "f3e62e3a",
   "metadata": {},
   "outputs": [],
   "source": [
    "combined_12 = pd.read_csv('../data/combined_model1_model2.csv', index_col = 'index')\n",
    "model3 = pd.read_csv('../data/model3.csv', index_col='index')\n",
    "model3['voted'] = model3['voted']-1"
   ]
  },
  {
   "cell_type": "code",
   "execution_count": null,
   "id": "58dcc952",
   "metadata": {},
   "outputs": [],
   "source": [
    "pred_y = (model3)*(0.8) + (combined_12)*(0.2)\n",
    "\n",
    "test = pd.read_csv('../data/test_x.csv')\n",
    "index = test['index']\n",
    "\n",
    "submission = pd.DataFrame({\n",
    "    'index': index,\n",
    "    'voted': pred_y['voted']\n",
    "    })\n",
    "\n",
    "submission.to_csv('.data/submission_final.csv', index=False)"
   ]
  }
 ],
 "metadata": {
  "kernelspec": {
   "display_name": "Python 3 (ipykernel)",
   "language": "python",
   "name": "python3"
  },
  "language_info": {
   "codemirror_mode": {
    "name": "ipython",
    "version": 3
   },
   "file_extension": ".py",
   "mimetype": "text/x-python",
   "name": "python",
   "nbconvert_exporter": "python",
   "pygments_lexer": "ipython3",
   "version": "3.10.4"
  }
 },
 "nbformat": 4,
 "nbformat_minor": 5
}
